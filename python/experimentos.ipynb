{
 "cells": [
  {
   "cell_type": "markdown",
   "metadata": {},
   "source": [
    "# Correr experimentos\n",
    "En este archivo está el código para correr los experimentos y escribir los resultados en archivos CSV.\n",
    "> Los archivos se guardan en la carpeta _resultados_."
   ]
  },
  {
   "cell_type": "code",
   "execution_count": 32,
   "metadata": {},
   "outputs": [],
   "source": [
    "import math, subprocess\n",
    "import pandas as pd\n",
    "import numpy as np\n",
    "from IPython.display import display, clear_output"
   ]
  },
  {
   "cell_type": "markdown",
   "metadata": {},
   "source": [
    "A continuación leemos los datasets en dataframes de Pandas."
   ]
  },
  {
   "cell_type": "code",
   "execution_count": 33,
   "metadata": {},
   "outputs": [],
   "source": [
    "def leer_instancia(path_instancia):\n",
    "    with open(path_instancia, \"r\") as f:\n",
    "        return f.read();"
   ]
  },
  {
   "cell_type": "code",
   "execution_count": 63,
   "metadata": {
    "scrolled": true
   },
   "outputs": [],
   "source": [
    "berlin52 = pd.read_csv(\"instancias/mejor-caso-bt-f/indice.csv\");"
   ]
  },
  {
   "cell_type": "code",
   "execution_count": 34,
   "metadata": {},
   "outputs": [],
   "source": [
    "df_aleatorio = pd.read_csv(\"instancias_aleatorias/indice.csv\")"
   ]
  },
  {
   "cell_type": "markdown",
   "metadata": {},
   "source": [
    "La siguiente función sirve para correr el código sobre una instancia ejecutando un método en particular.\n",
    "\n",
    "- **VMC** : vecino mas cercano\n",
    "- **AGM** : arbol generador minimo\n",
    "- **I** : incersion"
   ]
  },
  {
   "cell_type": "code",
   "execution_count": 76,
   "metadata": {},
   "outputs": [],
   "source": [
    "def correr_experimento(metodo, archivo_instancia):\n",
    "    # Leer archivo de la instancia.\n",
    "    instancia = leer_instancia(archivo_instancia)\n",
    "    \n",
    "    # Crear proceso para ejecutar el codigo.\n",
    "    process = subprocess.Popen([\"../tp2\", metodo], stderr=subprocess.PIPE, stdout=subprocess.PIPE, stdin=subprocess.PIPE, universal_newlines = True)\n",
    "\n",
    "    # Poner la instancia en la entrada estandar.\n",
    "    process.stdin.write(instancia)\n",
    "    process.stdin.flush()\n",
    "\n",
    "    # Correr experimento.\n",
    "    exit_code = process.wait()\n",
    "\n",
    "    # Verificar que el proceso no fallo.\n",
    "    if exit_code != 0: raise(F\"Hubo un error en la experimentacion para el algoritmo: {algoritmo} con la instancia {archivo_instancia}.\")\n",
    "    # Leer salida de STDERR con los tiempos de ejecucion de cada metodo.\n",
    "    tiempo_de_ejecucion = float(process.stderr.read());\n",
    "    costo = process.stdout.read() \n",
    "    #print(process.stdout.read()) # resultado del metodo\n",
    "    process.stdin.close();\n",
    "    process.stdout.close();\n",
    "    process.stderr.close();\n",
    "    costo = costo.split(\" \")[1]\n",
    "    costo = costo.split(\"\\n\")[0]\n",
    "    res = (tiempo,costo)\n",
    "    \n",
    "    return res;\n",
    "\n",
    "\n"
   ]
  },
  {
   "cell_type": "markdown",
   "metadata": {},
   "source": [
    "## Corremos los experimentos\n",
    "Vamos a guardar una tabla con las ejecuciones y sus respectivos tiempos."
   ]
  },
  {
   "cell_type": "code",
   "execution_count": 77,
   "metadata": {},
   "outputs": [],
   "source": [
    "experimentos = [];"
   ]
  },
  {
   "cell_type": "markdown",
   "metadata": {},
   "source": [
    "## Experimento aleatorio\n"
   ]
  },
  {
   "cell_type": "code",
   "execution_count": 78,
   "metadata": {},
   "outputs": [],
   "source": [
    "for i in range(0, df_aleatorio.shape[0]):\n",
    "    fila = df_aleatorio.iloc[i];\n",
    "    experimentos.append([fila[\"dataset\"], fila[\"n\"],\"AGM\", fila[\"archivo\"]]);\n",
    "    experimentos.append([fila[\"dataset\"], fila[\"n\"],\"VMC\", fila[\"archivo\"]]);"
   ]
  },
  {
   "cell_type": "markdown",
   "metadata": {},
   "source": [
    "## Ejemplo TP1\n",
    "\n",
    "## Experimento Fuerza Bruta : Pocas/Muchas soluciones"
   ]
  },
  {
   "cell_type": "code",
   "execution_count": 47,
   "metadata": {},
   "outputs": [],
   "source": [
    "for i in range(0, df_fbms.shape[0]):\n",
    "    fila = df_fbms.iloc[i];\n",
    "    n = fila[\"n\"] \n",
    "    if (n <= 25):\n",
    "        experimentos.append([fila[\"dataset\"], fila[\"n\"], fila[\"R\"], \"FB\", fila[\"archivo\"]]);\n",
    "    \n",
    "for i in range(0, df_fbps.shape[0]):\n",
    "    fila = df_fbps.iloc[i];\n",
    "    n = fila[\"n\"] \n",
    "    if (n <= 25):\n",
    "        experimentos.append([fila[\"dataset\"], fila[\"n\"], fila[\"R\"], \"FB\", fila[\"archivo\"]]);"
   ]
  },
  {
   "cell_type": "markdown",
   "metadata": {},
   "source": [
    "## Ejecutar los experimentos y guardar los resultados en un archivo CSV.\n",
    "Este paso puede tardar unos minutos hasta terminar de ejecutarse."
   ]
  },
  {
   "cell_type": "code",
   "execution_count": 79,
   "metadata": {},
   "outputs": [
    {
     "data": {
      "text/plain": [
       "'Experimento: 158/158'"
      ]
     },
     "metadata": {},
     "output_type": "display_data"
    }
   ],
   "source": [
    "columnas = [\"dataset\", \"n\", \"metodo\", \"tiempo\",\"costo\"];\n",
    "filas = [];\n",
    "numero = 1\n",
    "T = 5 # Numero de veces que se ejecuta cada experimento (para mayor fidelidad del tiempo).\n",
    "for experimento in experimentos:\n",
    "    # Voy mostrando que experimento se esta ejecutando.\n",
    "    clear_output(wait=True)\n",
    "    display('Experimento: ' + str(numero) + \"/\" + str(len(experimentos)))\n",
    "    numero += 1\n",
    "    \n",
    "    # Ejecutamos el experimento T veces y obtenemos la mediana.\n",
    "    costo = 0\n",
    "    tiempos = []\n",
    "    resultados = []\n",
    "    for i in range(0, T):\n",
    "        t = correr_experimento(experimento[2], experimento[3])[0]\n",
    "        costo = correr_experimento(experimento[2], experimento[3])[1]\n",
    "        tiempos.append(t);\n",
    "    tiempo = np.median(tiempos);\n",
    "    filas.append([experimento[0], experimento[1], experimento[2], tiempo,costo]);\n"
   ]
  },
  {
   "cell_type": "code",
   "execution_count": 24,
   "metadata": {},
   "outputs": [],
   "source": [
    "# ANTERIOR\n",
    "\n",
    "columnas = [\"dataset\", \"n\", \"R\", \"metodo\", \"tiempo\"];\n",
    "filas = [];\n",
    "numero = 1\n",
    "T = 5 # Numero de veces que se ejecuta cada experimento (para mayor fidelidad del tiempo).\n",
    "for experimento in experimentos:\n",
    "    # Voy mostrando que experimento se esta ejecutando.\n",
    "    clear_output(wait=True)\n",
    "    display('Experimento: ' + str(numero) + \"/\" + str(len(experimentos)))\n",
    "    numero += 1\n",
    "    \n",
    "    # Ejecutamos el experimento T veces y obtenemos la mediana.\n",
    "    tiempos = []\n",
    "    resultados = []\n",
    "    for i in range(0, T):\n",
    "        t = correr_experimento(experimento[3], experimento[4])\n",
    "        tiempos.append(t);\n",
    "    tiempo = np.median(tiempos);\n",
    "    filas.append([experimento[0], experimento[1], experimento[2], experimento[3], tiempo]);\n"
   ]
  },
  {
   "cell_type": "code",
   "execution_count": 80,
   "metadata": {},
   "outputs": [],
   "source": [
    "df_resultados = pd.DataFrame(filas, columns=columnas);\n",
    "\n",
    "df_resultados.to_csv(\"resultados/resultado.csv\", index=False, header=True);"
   ]
  },
  {
   "cell_type": "code",
   "execution_count": 81,
   "metadata": {
    "scrolled": true
   },
   "outputs": [
    {
     "data": {
      "text/html": [
       "<div>\n",
       "<style scoped>\n",
       "    .dataframe tbody tr th:only-of-type {\n",
       "        vertical-align: middle;\n",
       "    }\n",
       "\n",
       "    .dataframe tbody tr th {\n",
       "        vertical-align: top;\n",
       "    }\n",
       "\n",
       "    .dataframe thead th {\n",
       "        text-align: right;\n",
       "    }\n",
       "</style>\n",
       "<table border=\"1\" class=\"dataframe\">\n",
       "  <thead>\n",
       "    <tr style=\"text-align: right;\">\n",
       "      <th></th>\n",
       "      <th>dataset</th>\n",
       "      <th>n</th>\n",
       "      <th>metodo</th>\n",
       "      <th>tiempo</th>\n",
       "      <th>costo</th>\n",
       "    </tr>\n",
       "  </thead>\n",
       "  <tbody>\n",
       "    <tr>\n",
       "      <th>0</th>\n",
       "      <td>dataset_aleatorias</td>\n",
       "      <td>10</td>\n",
       "      <td>AGM</td>\n",
       "      <td>2.74717</td>\n",
       "      <td>1253</td>\n",
       "    </tr>\n",
       "    <tr>\n",
       "      <th>1</th>\n",
       "      <td>dataset_aleatorias</td>\n",
       "      <td>10</td>\n",
       "      <td>VMC</td>\n",
       "      <td>2.74717</td>\n",
       "      <td>1101</td>\n",
       "    </tr>\n",
       "    <tr>\n",
       "      <th>2</th>\n",
       "      <td>dataset_aleatorias</td>\n",
       "      <td>20</td>\n",
       "      <td>AGM</td>\n",
       "      <td>2.74717</td>\n",
       "      <td>1106</td>\n",
       "    </tr>\n",
       "    <tr>\n",
       "      <th>3</th>\n",
       "      <td>dataset_aleatorias</td>\n",
       "      <td>20</td>\n",
       "      <td>VMC</td>\n",
       "      <td>2.74717</td>\n",
       "      <td>960</td>\n",
       "    </tr>\n",
       "    <tr>\n",
       "      <th>4</th>\n",
       "      <td>dataset_aleatorias</td>\n",
       "      <td>30</td>\n",
       "      <td>AGM</td>\n",
       "      <td>2.74717</td>\n",
       "      <td>2102</td>\n",
       "    </tr>\n",
       "    <tr>\n",
       "      <th>...</th>\n",
       "      <td>...</td>\n",
       "      <td>...</td>\n",
       "      <td>...</td>\n",
       "      <td>...</td>\n",
       "      <td>...</td>\n",
       "    </tr>\n",
       "    <tr>\n",
       "      <th>153</th>\n",
       "      <td>dataset_aleatorias</td>\n",
       "      <td>770</td>\n",
       "      <td>VMC</td>\n",
       "      <td>2.74717</td>\n",
       "      <td>9059</td>\n",
       "    </tr>\n",
       "    <tr>\n",
       "      <th>154</th>\n",
       "      <td>dataset_aleatorias</td>\n",
       "      <td>780</td>\n",
       "      <td>AGM</td>\n",
       "      <td>2.74717</td>\n",
       "      <td>59661</td>\n",
       "    </tr>\n",
       "    <tr>\n",
       "      <th>155</th>\n",
       "      <td>dataset_aleatorias</td>\n",
       "      <td>780</td>\n",
       "      <td>VMC</td>\n",
       "      <td>2.74717</td>\n",
       "      <td>9550</td>\n",
       "    </tr>\n",
       "    <tr>\n",
       "      <th>156</th>\n",
       "      <td>dataset_aleatorias</td>\n",
       "      <td>790</td>\n",
       "      <td>AGM</td>\n",
       "      <td>2.74717</td>\n",
       "      <td>62209</td>\n",
       "    </tr>\n",
       "    <tr>\n",
       "      <th>157</th>\n",
       "      <td>dataset_aleatorias</td>\n",
       "      <td>790</td>\n",
       "      <td>VMC</td>\n",
       "      <td>2.74717</td>\n",
       "      <td>9412</td>\n",
       "    </tr>\n",
       "  </tbody>\n",
       "</table>\n",
       "<p>158 rows × 5 columns</p>\n",
       "</div>"
      ],
      "text/plain": [
       "                dataset    n metodo   tiempo  costo\n",
       "0    dataset_aleatorias   10    AGM  2.74717   1253\n",
       "1    dataset_aleatorias   10    VMC  2.74717   1101\n",
       "2    dataset_aleatorias   20    AGM  2.74717   1106\n",
       "3    dataset_aleatorias   20    VMC  2.74717    960\n",
       "4    dataset_aleatorias   30    AGM  2.74717   2102\n",
       "..                  ...  ...    ...      ...    ...\n",
       "153  dataset_aleatorias  770    VMC  2.74717   9059\n",
       "154  dataset_aleatorias  780    AGM  2.74717  59661\n",
       "155  dataset_aleatorias  780    VMC  2.74717   9550\n",
       "156  dataset_aleatorias  790    AGM  2.74717  62209\n",
       "157  dataset_aleatorias  790    VMC  2.74717   9412\n",
       "\n",
       "[158 rows x 5 columns]"
      ]
     },
     "execution_count": 81,
     "metadata": {},
     "output_type": "execute_result"
    }
   ],
   "source": [
    "df_resultados"
   ]
  }
 ],
 "metadata": {
  "kernelspec": {
   "display_name": "Python 3",
   "language": "python",
   "name": "python3"
  },
  "language_info": {
   "codemirror_mode": {
    "name": "ipython",
    "version": 3
   },
   "file_extension": ".py",
   "mimetype": "text/x-python",
   "name": "python",
   "nbconvert_exporter": "python",
   "pygments_lexer": "ipython3",
   "version": "3.8.10"
  }
 },
 "nbformat": 4,
 "nbformat_minor": 4
}
