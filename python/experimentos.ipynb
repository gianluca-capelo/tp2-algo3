{
 "cells": [
  {
   "cell_type": "markdown",
   "metadata": {},
   "source": [
    "# Correr experimentos\n",
    "En este archivo está el código para correr los experimentos y escribir los resultados en archivos CSV.\n",
    "> Los archivos se guardan en la carpeta _resultados_."
   ]
  },
  {
   "cell_type": "code",
   "execution_count": 1,
   "metadata": {},
   "outputs": [],
   "source": [
    "import math, subprocess\n",
    "import pandas as pd\n",
    "import numpy as np\n",
    "from IPython.display import display, clear_output"
   ]
  },
  {
   "cell_type": "markdown",
   "metadata": {},
   "source": [
    "A continuación leemos los datasets en dataframes de Pandas."
   ]
  },
  {
   "cell_type": "code",
   "execution_count": 28,
   "metadata": {},
   "outputs": [],
   "source": [
    "def leer_instancia(path_instancia):\n",
    "    with open(path_instancia, \"r\") as f:\n",
    "        return f.read();"
   ]
  },
  {
   "cell_type": "code",
   "execution_count": 63,
   "metadata": {
    "scrolled": true
   },
   "outputs": [],
   "source": [
    "df_mejor_caso_bt_f = pd.read_csv(\"instancias/mejor-caso-bt-f/indice.csv\");"
   ]
  },
  {
   "cell_type": "code",
   "execution_count": 65,
   "metadata": {},
   "outputs": [
    {
     "data": {
      "text/html": [
       "<div>\n",
       "<style scoped>\n",
       "    .dataframe tbody tr th:only-of-type {\n",
       "        vertical-align: middle;\n",
       "    }\n",
       "\n",
       "    .dataframe tbody tr th {\n",
       "        vertical-align: top;\n",
       "    }\n",
       "\n",
       "    .dataframe thead th {\n",
       "        text-align: right;\n",
       "    }\n",
       "</style>\n",
       "<table border=\"1\" class=\"dataframe\">\n",
       "  <thead>\n",
       "    <tr style=\"text-align: right;\">\n",
       "      <th></th>\n",
       "      <th>dataset</th>\n",
       "      <th>instancia</th>\n",
       "      <th>n</th>\n",
       "      <th>R</th>\n",
       "      <th>archivo</th>\n",
       "    </tr>\n",
       "  </thead>\n",
       "  <tbody>\n",
       "    <tr>\n",
       "      <th>0</th>\n",
       "      <td>mejor-caso-bt-f</td>\n",
       "      <td>BT-MC-F-1</td>\n",
       "      <td>1</td>\n",
       "      <td>1000</td>\n",
       "      <td>instancias/mejor-caso-bt-f/BT-MC-F-1.txt</td>\n",
       "    </tr>\n",
       "    <tr>\n",
       "      <th>1</th>\n",
       "      <td>mejor-caso-bt-f</td>\n",
       "      <td>BT-MC-F-2</td>\n",
       "      <td>2</td>\n",
       "      <td>1000</td>\n",
       "      <td>instancias/mejor-caso-bt-f/BT-MC-F-2.txt</td>\n",
       "    </tr>\n",
       "    <tr>\n",
       "      <th>2</th>\n",
       "      <td>mejor-caso-bt-f</td>\n",
       "      <td>BT-MC-F-3</td>\n",
       "      <td>3</td>\n",
       "      <td>1000</td>\n",
       "      <td>instancias/mejor-caso-bt-f/BT-MC-F-3.txt</td>\n",
       "    </tr>\n",
       "    <tr>\n",
       "      <th>3</th>\n",
       "      <td>mejor-caso-bt-f</td>\n",
       "      <td>BT-MC-F-4</td>\n",
       "      <td>4</td>\n",
       "      <td>1000</td>\n",
       "      <td>instancias/mejor-caso-bt-f/BT-MC-F-4.txt</td>\n",
       "    </tr>\n",
       "    <tr>\n",
       "      <th>4</th>\n",
       "      <td>mejor-caso-bt-f</td>\n",
       "      <td>BT-MC-F-5</td>\n",
       "      <td>5</td>\n",
       "      <td>1000</td>\n",
       "      <td>instancias/mejor-caso-bt-f/BT-MC-F-5.txt</td>\n",
       "    </tr>\n",
       "    <tr>\n",
       "      <th>...</th>\n",
       "      <td>...</td>\n",
       "      <td>...</td>\n",
       "      <td>...</td>\n",
       "      <td>...</td>\n",
       "      <td>...</td>\n",
       "    </tr>\n",
       "    <tr>\n",
       "      <th>994</th>\n",
       "      <td>mejor-caso-bt-f</td>\n",
       "      <td>BT-MC-F-995</td>\n",
       "      <td>995</td>\n",
       "      <td>1000</td>\n",
       "      <td>instancias/mejor-caso-bt-f/BT-MC-F-995.txt</td>\n",
       "    </tr>\n",
       "    <tr>\n",
       "      <th>995</th>\n",
       "      <td>mejor-caso-bt-f</td>\n",
       "      <td>BT-MC-F-996</td>\n",
       "      <td>996</td>\n",
       "      <td>1000</td>\n",
       "      <td>instancias/mejor-caso-bt-f/BT-MC-F-996.txt</td>\n",
       "    </tr>\n",
       "    <tr>\n",
       "      <th>996</th>\n",
       "      <td>mejor-caso-bt-f</td>\n",
       "      <td>BT-MC-F-997</td>\n",
       "      <td>997</td>\n",
       "      <td>1000</td>\n",
       "      <td>instancias/mejor-caso-bt-f/BT-MC-F-997.txt</td>\n",
       "    </tr>\n",
       "    <tr>\n",
       "      <th>997</th>\n",
       "      <td>mejor-caso-bt-f</td>\n",
       "      <td>BT-MC-F-998</td>\n",
       "      <td>998</td>\n",
       "      <td>1000</td>\n",
       "      <td>instancias/mejor-caso-bt-f/BT-MC-F-998.txt</td>\n",
       "    </tr>\n",
       "    <tr>\n",
       "      <th>998</th>\n",
       "      <td>mejor-caso-bt-f</td>\n",
       "      <td>BT-MC-F-999</td>\n",
       "      <td>999</td>\n",
       "      <td>1000</td>\n",
       "      <td>instancias/mejor-caso-bt-f/BT-MC-F-999.txt</td>\n",
       "    </tr>\n",
       "  </tbody>\n",
       "</table>\n",
       "<p>999 rows × 5 columns</p>\n",
       "</div>"
      ],
      "text/plain": [
       "             dataset    instancia    n     R  \\\n",
       "0    mejor-caso-bt-f    BT-MC-F-1    1  1000   \n",
       "1    mejor-caso-bt-f    BT-MC-F-2    2  1000   \n",
       "2    mejor-caso-bt-f    BT-MC-F-3    3  1000   \n",
       "3    mejor-caso-bt-f    BT-MC-F-4    4  1000   \n",
       "4    mejor-caso-bt-f    BT-MC-F-5    5  1000   \n",
       "..               ...          ...  ...   ...   \n",
       "994  mejor-caso-bt-f  BT-MC-F-995  995  1000   \n",
       "995  mejor-caso-bt-f  BT-MC-F-996  996  1000   \n",
       "996  mejor-caso-bt-f  BT-MC-F-997  997  1000   \n",
       "997  mejor-caso-bt-f  BT-MC-F-998  998  1000   \n",
       "998  mejor-caso-bt-f  BT-MC-F-999  999  1000   \n",
       "\n",
       "                                        archivo  \n",
       "0      instancias/mejor-caso-bt-f/BT-MC-F-1.txt  \n",
       "1      instancias/mejor-caso-bt-f/BT-MC-F-2.txt  \n",
       "2      instancias/mejor-caso-bt-f/BT-MC-F-3.txt  \n",
       "3      instancias/mejor-caso-bt-f/BT-MC-F-4.txt  \n",
       "4      instancias/mejor-caso-bt-f/BT-MC-F-5.txt  \n",
       "..                                          ...  \n",
       "994  instancias/mejor-caso-bt-f/BT-MC-F-995.txt  \n",
       "995  instancias/mejor-caso-bt-f/BT-MC-F-996.txt  \n",
       "996  instancias/mejor-caso-bt-f/BT-MC-F-997.txt  \n",
       "997  instancias/mejor-caso-bt-f/BT-MC-F-998.txt  \n",
       "998  instancias/mejor-caso-bt-f/BT-MC-F-999.txt  \n",
       "\n",
       "[999 rows x 5 columns]"
      ]
     },
     "execution_count": 65,
     "metadata": {},
     "output_type": "execute_result"
    }
   ],
   "source": [
    "df_mejor_caso_bt_f"
   ]
  },
  {
   "cell_type": "code",
   "execution_count": 64,
   "metadata": {},
   "outputs": [],
   "source": [
    "df_peor_caso_bt_f = pd.read_csv(\"instancias/peor-caso-bt-f/indice.csv\");"
   ]
  },
  {
   "cell_type": "code",
   "execution_count": 4,
   "metadata": {
    "scrolled": true
   },
   "outputs": [],
   "source": [
    "df_dinamica = pd.read_csv(\"instancias/dinamica/indice.csv\");"
   ]
  },
  {
   "cell_type": "code",
   "execution_count": 5,
   "metadata": {},
   "outputs": [],
   "source": [
    "df_bt= pd.read_csv(\"instancias/bt/indice.csv\");"
   ]
  },
  {
   "cell_type": "code",
   "execution_count": 6,
   "metadata": {},
   "outputs": [],
   "source": [
    "df_fbms = pd.read_csv(\"instancias/muchas-soluciones-validas/indice.csv\");\n",
    "df_fbps = pd.read_csv(\"instancias/pocas-soluciones-validas/indice.csv\");"
   ]
  },
  {
   "cell_type": "markdown",
   "metadata": {},
   "source": [
    "La siguiente función sirve para correr el código sobre una instancia ejecutando un método en particular.\n",
    "- FB: Fuerza bruta\n",
    "- BT: Backtracking con ambas podas.\n",
    "- BT-F: Backtracking solamente con poda por factibilidad.\n",
    "- BT-O: Backtracking solamente con poda por optimalidad.\n",
    "- PD: Programación dinámica."
   ]
  },
  {
   "cell_type": "code",
   "execution_count": 8,
   "metadata": {},
   "outputs": [],
   "source": [
    "def correr_experimento(metodo, archivo_instancia):\n",
    "    # Leer archivo de la instancia.\n",
    "    instancia = leer_instancia(archivo_instancia)\n",
    "    \n",
    "    # Crear proceso para ejecutar el codigo.\n",
    "    process = subprocess.Popen([\"../main\", metodo], stderr=subprocess.PIPE, stdout=subprocess.PIPE, stdin=subprocess.PIPE, universal_newlines = True)\n",
    "\n",
    "    # Poner la instancia en la entrada estandar.\n",
    "    process.stdin.write(instancia)\n",
    "    process.stdin.flush()\n",
    "\n",
    "    # Correr experimento.\n",
    "    exit_code = process.wait()\n",
    "\n",
    "    # Verificar que el proceso no fallo.\n",
    "    if exit_code != 0: raise(F\"Hubo un error en la experimentacion para el algoritmo: {algoritmo} con la instancia {archivo_instancia}.\")\n",
    "    # Leer salida de STDERR con los tiempos de ejecucion de cada metodo.\n",
    "    tiempo_de_ejecucion = float(process.stderr.read());\n",
    "    \n",
    "    process.stdin.close();\n",
    "    process.stdout.close();\n",
    "    process.stderr.close();\n",
    "    \n",
    "    return tiempo_de_ejecucion;"
   ]
  },
  {
   "cell_type": "markdown",
   "metadata": {},
   "source": [
    "## Corremos los experimentos\n",
    "Vamos a guardar una tabla con las ejecuciones y sus respectivos tiempos."
   ]
  },
  {
   "cell_type": "code",
   "execution_count": 79,
   "metadata": {},
   "outputs": [],
   "source": [
    "experimentos = [];"
   ]
  },
  {
   "cell_type": "markdown",
   "metadata": {},
   "source": [
    "## Experimento Fuerza Bruta : Pocas/Muchas soluciones"
   ]
  },
  {
   "cell_type": "code",
   "execution_count": 47,
   "metadata": {},
   "outputs": [],
   "source": [
    "for i in range(0, df_fbms.shape[0]):\n",
    "    fila = df_fbms.iloc[i];\n",
    "    n = fila[\"n\"] \n",
    "    if (n <= 25):\n",
    "        experimentos.append([fila[\"dataset\"], fila[\"n\"], fila[\"R\"], \"FB\", fila[\"archivo\"]]);\n",
    "    \n",
    "for i in range(0, df_fbps.shape[0]):\n",
    "    fila = df_fbps.iloc[i];\n",
    "    n = fila[\"n\"] \n",
    "    if (n <= 25):\n",
    "        experimentos.append([fila[\"dataset\"], fila[\"n\"], fila[\"R\"], \"FB\", fila[\"archivo\"]]);"
   ]
  },
  {
   "cell_type": "markdown",
   "metadata": {},
   "source": [
    "## Experimento Back Tracking - Mejor caso poda por factibilidad == Peor caso optimalidad\n"
   ]
  },
  {
   "cell_type": "code",
   "execution_count": 48,
   "metadata": {},
   "outputs": [],
   "source": [
    "# mejor caso factibilidad\n",
    "\n",
    "for n in range(0, df_mejor_caso_bt_f.shape[0]):\n",
    "    fila_n = df_mejor_caso_bt_f.iloc[n];\n",
    "    experimentos.append([fila_n[\"dataset\"], n, fila_n[\"R\"], \"BT-F\", fila_n[\"archivo\"]]);"
   ]
  },
  {
   "cell_type": "code",
   "execution_count": 80,
   "metadata": {},
   "outputs": [],
   "source": [
    "# peor caso optimalidad\n",
    "for n in range(0, df_mejor_caso_bt_f.shape[0]):\n",
    "    fila_n = df_mejor_caso_bt_f.iloc[n];\n",
    "    tam = fila_n[\"n\"] \n",
    "    if (tam < 30):\n",
    "        experimentos.append([fila_n[\"dataset\"], n, fila_n[\"R\"], \"BT-O\", fila_n[\"archivo\"]]);"
   ]
  },
  {
   "cell_type": "markdown",
   "metadata": {},
   "source": [
    "## Experimento Back Tracking - Peor caso Factibilidad"
   ]
  },
  {
   "cell_type": "code",
   "execution_count": 81,
   "metadata": {},
   "outputs": [],
   "source": [
    "#peor caso factibilidad\n",
    "for n in range(0, df_peor_caso_bt_f.shape[0]):\n",
    "    \n",
    "    fila_n = df_peor_caso_bt_f.iloc[n];\n",
    "    tam = fila_n[\"n\"] \n",
    "    if (tam < 30):\n",
    "        experimentos.append([fila_n[\"dataset\"], n, fila_n[\"R\"], \"BT-F\", fila_n[\"archivo\"]]);"
   ]
  },
  {
   "cell_type": "code",
   "execution_count": 62,
   "metadata": {},
   "outputs": [],
   "source": [
    "#mejor caso optimalidad\n",
    "for n in range(0, df_peor_caso_bt_f.shape[0]):\n",
    "    fila_n = df_peor_caso_bt_f.iloc[n];\n",
    "    experimentos.append([fila_n[\"dataset\"], n, fila_n[\"R\"], \"BT-O\", fila_n[\"archivo\"]]);"
   ]
  },
  {
   "cell_type": "markdown",
   "metadata": {},
   "source": [
    "## Experimento Campana de Back Tracking"
   ]
  },
  {
   "cell_type": "code",
   "execution_count": 52,
   "metadata": {},
   "outputs": [],
   "source": [
    "for i in range(0, df_bt.shape[0]):\n",
    "    fila = df_bt.iloc[i];\n",
    "    experimentos.append([fila[\"dataset\"], fila[\"n\"], fila[\"R\"], \"BT\", fila[\"archivo\"]]);"
   ]
  },
  {
   "cell_type": "markdown",
   "metadata": {},
   "source": [
    "## Experimento Programacion Dinamica\n"
   ]
  },
  {
   "cell_type": "code",
   "execution_count": 53,
   "metadata": {},
   "outputs": [],
   "source": [
    "for i in range(0, df_dinamica.shape[0]):\n",
    "    fila = df_dinamica.iloc[i];\n",
    "    experimentos.append([fila[\"dataset\"], fila[\"n\"], fila[\"R\"], \"PD\", fila[\"archivo\"]]);  "
   ]
  },
  {
   "cell_type": "markdown",
   "metadata": {},
   "source": [
    "## Experimento :BT vs. PD"
   ]
  },
  {
   "cell_type": "code",
   "execution_count": 54,
   "metadata": {},
   "outputs": [],
   "source": [
    "for i in range(0, df_fbps.shape[0]):\n",
    "    fila = df_fbps.iloc[i];\n",
    "    experimentos.append([fila[\"dataset\"], fila[\"n\"], fila[\"R\"], \"PD\", fila[\"archivo\"]]);\n",
    "    experimentos.append([fila[\"dataset\"], fila[\"n\"], fila[\"R\"], \"BT\", fila[\"archivo\"]]);    "
   ]
  },
  {
   "cell_type": "markdown",
   "metadata": {},
   "source": [
    "## Ejecutar los experimentos y guardar los resultados en un archivo CSV.\n",
    "Este paso puede tardar unos minutos hasta terminar de ejecutarse."
   ]
  },
  {
   "cell_type": "code",
   "execution_count": 82,
   "metadata": {},
   "outputs": [
    {
     "data": {
      "text/plain": [
       "'Experimento: 58/58'"
      ]
     },
     "metadata": {},
     "output_type": "display_data"
    }
   ],
   "source": [
    "columnas = [\"dataset\", \"n\", \"R\", \"metodo\", \"tiempo\"];\n",
    "filas = [];\n",
    "numero = 1\n",
    "T = 5 # Numero de veces que se ejecuta cada experimento (para mayor fidelidad del tiempo).\n",
    "for experimento in experimentos:\n",
    "    # Voy mostrando que experimento se esta ejecutando.\n",
    "    clear_output(wait=True)\n",
    "    display('Experimento: ' + str(numero) + \"/\" + str(len(experimentos)))\n",
    "    numero += 1\n",
    "    \n",
    "    # Ejecutamos el experimento T veces y obtenemos la mediana.\n",
    "    tiempos = []\n",
    "    resultados = []\n",
    "    for i in range(0, T):\n",
    "        t = correr_experimento(experimento[3], experimento[4])\n",
    "        tiempos.append(t);\n",
    "    tiempo = np.median(tiempos);\n",
    "    filas.append([experimento[0], experimento[1], experimento[2], experimento[3], tiempo]);\n"
   ]
  },
  {
   "cell_type": "code",
   "execution_count": 56,
   "metadata": {},
   "outputs": [],
   "source": [
    "df_resultados = pd.DataFrame(filas, columns=columnas);\n",
    "\n",
    "df_resultados.to_csv(\"resultados/resultado.csv\", index=False, header=True);"
   ]
  },
  {
   "cell_type": "code",
   "execution_count": 57,
   "metadata": {
    "scrolled": true
   },
   "outputs": [
    {
     "data": {
      "text/html": [
       "<div>\n",
       "<style scoped>\n",
       "    .dataframe tbody tr th:only-of-type {\n",
       "        vertical-align: middle;\n",
       "    }\n",
       "\n",
       "    .dataframe tbody tr th {\n",
       "        vertical-align: top;\n",
       "    }\n",
       "\n",
       "    .dataframe thead th {\n",
       "        text-align: right;\n",
       "    }\n",
       "</style>\n",
       "<table border=\"1\" class=\"dataframe\">\n",
       "  <thead>\n",
       "    <tr style=\"text-align: right;\">\n",
       "      <th></th>\n",
       "      <th>dataset</th>\n",
       "      <th>n</th>\n",
       "      <th>R</th>\n",
       "      <th>metodo</th>\n",
       "      <th>tiempo</th>\n",
       "    </tr>\n",
       "  </thead>\n",
       "  <tbody>\n",
       "    <tr>\n",
       "      <th>0</th>\n",
       "      <td>muchas-soluciones-validas</td>\n",
       "      <td>1</td>\n",
       "      <td>1000</td>\n",
       "      <td>FB</td>\n",
       "      <td>0.000972</td>\n",
       "    </tr>\n",
       "    <tr>\n",
       "      <th>1</th>\n",
       "      <td>muchas-soluciones-validas</td>\n",
       "      <td>2</td>\n",
       "      <td>1000</td>\n",
       "      <td>FB</td>\n",
       "      <td>0.001113</td>\n",
       "    </tr>\n",
       "    <tr>\n",
       "      <th>2</th>\n",
       "      <td>muchas-soluciones-validas</td>\n",
       "      <td>3</td>\n",
       "      <td>1000</td>\n",
       "      <td>FB</td>\n",
       "      <td>0.000979</td>\n",
       "    </tr>\n",
       "    <tr>\n",
       "      <th>3</th>\n",
       "      <td>muchas-soluciones-validas</td>\n",
       "      <td>4</td>\n",
       "      <td>1000</td>\n",
       "      <td>FB</td>\n",
       "      <td>0.001044</td>\n",
       "    </tr>\n",
       "    <tr>\n",
       "      <th>4</th>\n",
       "      <td>muchas-soluciones-validas</td>\n",
       "      <td>5</td>\n",
       "      <td>1000</td>\n",
       "      <td>FB</td>\n",
       "      <td>0.001243</td>\n",
       "    </tr>\n",
       "    <tr>\n",
       "      <th>...</th>\n",
       "      <td>...</td>\n",
       "      <td>...</td>\n",
       "      <td>...</td>\n",
       "      <td>...</td>\n",
       "      <td>...</td>\n",
       "    </tr>\n",
       "    <tr>\n",
       "      <th>7538</th>\n",
       "      <td>pocas-soluciones-validas</td>\n",
       "      <td>397</td>\n",
       "      <td>1000</td>\n",
       "      <td>BT</td>\n",
       "      <td>2.885890</td>\n",
       "    </tr>\n",
       "    <tr>\n",
       "      <th>7539</th>\n",
       "      <td>pocas-soluciones-validas</td>\n",
       "      <td>398</td>\n",
       "      <td>1000</td>\n",
       "      <td>PD</td>\n",
       "      <td>1.131720</td>\n",
       "    </tr>\n",
       "    <tr>\n",
       "      <th>7540</th>\n",
       "      <td>pocas-soluciones-validas</td>\n",
       "      <td>398</td>\n",
       "      <td>1000</td>\n",
       "      <td>BT</td>\n",
       "      <td>2.972470</td>\n",
       "    </tr>\n",
       "    <tr>\n",
       "      <th>7541</th>\n",
       "      <td>pocas-soluciones-validas</td>\n",
       "      <td>399</td>\n",
       "      <td>1000</td>\n",
       "      <td>PD</td>\n",
       "      <td>1.110550</td>\n",
       "    </tr>\n",
       "    <tr>\n",
       "      <th>7542</th>\n",
       "      <td>pocas-soluciones-validas</td>\n",
       "      <td>399</td>\n",
       "      <td>1000</td>\n",
       "      <td>BT</td>\n",
       "      <td>3.152460</td>\n",
       "    </tr>\n",
       "  </tbody>\n",
       "</table>\n",
       "<p>7543 rows × 5 columns</p>\n",
       "</div>"
      ],
      "text/plain": [
       "                        dataset    n     R metodo    tiempo\n",
       "0     muchas-soluciones-validas    1  1000     FB  0.000972\n",
       "1     muchas-soluciones-validas    2  1000     FB  0.001113\n",
       "2     muchas-soluciones-validas    3  1000     FB  0.000979\n",
       "3     muchas-soluciones-validas    4  1000     FB  0.001044\n",
       "4     muchas-soluciones-validas    5  1000     FB  0.001243\n",
       "...                         ...  ...   ...    ...       ...\n",
       "7538   pocas-soluciones-validas  397  1000     BT  2.885890\n",
       "7539   pocas-soluciones-validas  398  1000     PD  1.131720\n",
       "7540   pocas-soluciones-validas  398  1000     BT  2.972470\n",
       "7541   pocas-soluciones-validas  399  1000     PD  1.110550\n",
       "7542   pocas-soluciones-validas  399  1000     BT  3.152460\n",
       "\n",
       "[7543 rows x 5 columns]"
      ]
     },
     "execution_count": 57,
     "metadata": {},
     "output_type": "execute_result"
    }
   ],
   "source": [
    "df_resultados"
   ]
  }
 ],
 "metadata": {
  "kernelspec": {
   "display_name": "Python 3",
   "language": "python",
   "name": "python3"
  },
  "language_info": {
   "codemirror_mode": {
    "name": "ipython",
    "version": 3
   },
   "file_extension": ".py",
   "mimetype": "text/x-python",
   "name": "python",
   "nbconvert_exporter": "python",
   "pygments_lexer": "ipython3",
   "version": "3.8.5"
  }
 },
 "nbformat": 4,
 "nbformat_minor": 4
}
