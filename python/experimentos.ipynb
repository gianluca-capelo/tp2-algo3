{
 "cells": [
  {
   "cell_type": "markdown",
   "metadata": {},
   "source": [
    "# Correr experimentos\n",
    "En este archivo está el código para correr los experimentos y escribir los resultados en archivos CSV.\n",
    "> Los archivos se guardan en la carpeta _resultados_."
   ]
  },
  {
   "cell_type": "code",
   "execution_count": 35,
   "metadata": {},
   "outputs": [],
   "source": [
    "import math, subprocess\n",
    "import pandas as pd\n",
    "import numpy as np\n",
    "from IPython.display import display, clear_output"
   ]
  },
  {
   "cell_type": "markdown",
   "metadata": {},
   "source": [
    "A continuación leemos los datasets en dataframes de Pandas."
   ]
  },
  {
   "cell_type": "code",
   "execution_count": 36,
   "metadata": {},
   "outputs": [],
   "source": [
    "def leer_instancia(path_instancia):\n",
    "    with open(path_instancia, \"r\") as f:\n",
    "        return f.read();"
   ]
  },
  {
   "cell_type": "code",
   "execution_count": 63,
   "metadata": {
    "scrolled": true
   },
   "outputs": [],
   "source": [
    "berlin52 = pd.read_csv(\"instancias/mejor-caso-bt-f/indice.csv\");"
   ]
  },
  {
   "cell_type": "code",
   "execution_count": 37,
   "metadata": {},
   "outputs": [],
   "source": [
    "df_aleatorio = pd.read_csv(\"instancias_aleatorias/indice.csv\")"
   ]
  },
  {
   "cell_type": "markdown",
   "metadata": {},
   "source": [
    "La siguiente función sirve para correr el código sobre una instancia ejecutando un método en particular.\n",
    "\n",
    "- **VMC** : vecino mas cercano\n",
    "- **AGM** : arbol generador minimo\n",
    "- **I** : incersion\n",
    "- **tabu falta** : tabu"
   ]
  },
  {
   "cell_type": "code",
   "execution_count": 38,
   "metadata": {},
   "outputs": [],
   "source": [
    "def correr_experimento(metodo, archivo_instancia):\n",
    "    # Leer archivo de la instancia.\n",
    "    instancia = leer_instancia(archivo_instancia)\n",
    "    \n",
    "    # Crear proceso para ejecutar el codigo.\n",
    "    process = subprocess.Popen([\"../tp2\", metodo], stderr=subprocess.PIPE, stdout=subprocess.PIPE, stdin=subprocess.PIPE, universal_newlines = True)\n",
    "\n",
    "    # Poner la instancia en la entrada estandar.\n",
    "    process.stdin.write(instancia)\n",
    "    process.stdin.flush()\n",
    "\n",
    "    # Correr experimento.\n",
    "    exit_code = process.wait()\n",
    "\n",
    "    # Verificar que el proceso no fallo.\n",
    "    if exit_code != 0: raise(F\"Hubo un error en la experimentacion para el algoritmo: {algoritmo} con la instancia {archivo_instancia}.\")\n",
    "    # Leer salida de STDERR con los tiempos de ejecucion de cada metodo.\n",
    "    tiempo_de_ejecucion = float(process.stderr.read());\n",
    "    costo = process.stdout.read() \n",
    "    #print(process.stdout.read()) # resultado del metodo\n",
    "    process.stdin.close();\n",
    "    process.stdout.close();\n",
    "    process.stderr.close();\n",
    "    costo = costo.split(\" \")[1]\n",
    "    costo = costo.split(\"\\n\")[0]\n",
    "    res = (tiempo_de_ejecucion,costo)\n",
    "    \n",
    "    return res;\n",
    "\n",
    "\n"
   ]
  },
  {
   "cell_type": "markdown",
   "metadata": {},
   "source": [
    "## Corremos los experimentos\n",
    "Vamos a guardar una tabla con las ejecuciones y sus respectivos tiempos."
   ]
  },
  {
   "cell_type": "code",
   "execution_count": 39,
   "metadata": {},
   "outputs": [
    {
     "data": {
      "text/plain": [
       "[]"
      ]
     },
     "execution_count": 39,
     "metadata": {},
     "output_type": "execute_result"
    }
   ],
   "source": [
    "experimentos = [];\n",
    "experimentos"
   ]
  },
  {
   "cell_type": "markdown",
   "metadata": {},
   "source": [
    "## Experimento aleatorio\n"
   ]
  },
  {
   "cell_type": "code",
   "execution_count": 40,
   "metadata": {},
   "outputs": [],
   "source": [
    "for i in range(0, df_aleatorio.shape[0]):\n",
    "    fila = df_aleatorio.iloc[i];\n",
    "    experimentos.append([fila[\"dataset\"], fila[\"n\"],\"AGM\", fila[\"archivo\"]]);\n",
    "    experimentos.append([fila[\"dataset\"], fila[\"n\"],\"VMC\", fila[\"archivo\"]]);\n",
    "    experimentos.append([fila[\"dataset\"], fila[\"n\"],\"I\", fila[\"archivo\"]]);    "
   ]
  },
  {
   "cell_type": "code",
   "execution_count": null,
   "metadata": {},
   "outputs": [],
   "source": [
    "## Tabu search"
   ]
  },
  {
   "cell_type": "code",
   "execution_count": null,
   "metadata": {},
   "outputs": [],
   "source": [
    "for i in range(0, df_aleatorio.shape[0]):\n",
    "    fila = df_aleatorio.iloc[i];\n",
    "    experimentos.append([fila[\"dataset\"], fila[\"n\"],\"AGM-TS1\", fila[\"archivo\"]]);\n",
    "    experimentos.append([fila[\"dataset\"], fila[\"n\"],\"AGM-TS2\", fila[\"archivo\"]]);\n",
    "    \n",
    "    experimentos.append([fila[\"dataset\"], fila[\"n\"],\"VCM-TS1\", fila[\"archivo\"]]);\n",
    "    experimentos.append([fila[\"dataset\"], fila[\"n\"],\"VCM-TS2\", fila[\"archivo\"]]);\n",
    "\n",
    "    \n",
    "    #     experimentos.append([fila[\"dataset\"], fila[\"n\"],\"I\", fila[\"archivo\"]]); "
   ]
  },
  {
   "cell_type": "code",
   "execution_count": 41,
   "metadata": {},
   "outputs": [
    {
     "data": {
      "text/plain": [
       "'Experimento: 114/114'"
      ]
     },
     "metadata": {},
     "output_type": "display_data"
    }
   ],
   "source": [
    "columnas = [\"dataset\", \"n\", \"metodo\", \"tiempo\",\"costo\"];\n",
    "filas = [];\n",
    "numero = 1\n",
    "T = 5 # Numero de veces que se ejecuta cada experimento (para mayor fidelidad del tiempo).\n",
    "for experimento in experimentos:\n",
    "    # Voy mostrando que experimento se esta ejecutando.\n",
    "    clear_output(wait=True)\n",
    "    display('Experimento: ' + str(numero) + \"/\" + str(len(experimentos)))\n",
    "    numero += 1\n",
    "    \n",
    "    # Ejecutamos el experimento T veces y obtenemos la mediana.\n",
    "    costo = 0\n",
    "    tiempos = []\n",
    "    resultados = []\n",
    "    for i in range(0, T):\n",
    "        t = correr_experimento(experimento[2], experimento[3])[0]\n",
    "        costo = correr_experimento(experimento[2], experimento[3])[1]\n",
    "        tiempos.append(t);\n",
    "    tiempo = np.median(tiempos);\n",
    "    filas.append([experimento[0], experimento[1], experimento[2], tiempo,costo]);"
   ]
  },
  {
   "cell_type": "code",
   "execution_count": 42,
   "metadata": {},
   "outputs": [],
   "source": [
    "df_resultados = pd.DataFrame(filas, columns=columnas);\n",
    "\n",
    "df_resultados.to_csv(\"resultados/resultado.csv\", index=False, header=True);"
   ]
  },
  {
   "cell_type": "code",
   "execution_count": 44,
   "metadata": {},
   "outputs": [
    {
     "data": {
      "text/html": [
       "<div>\n",
       "<style scoped>\n",
       "    .dataframe tbody tr th:only-of-type {\n",
       "        vertical-align: middle;\n",
       "    }\n",
       "\n",
       "    .dataframe tbody tr th {\n",
       "        vertical-align: top;\n",
       "    }\n",
       "\n",
       "    .dataframe thead th {\n",
       "        text-align: right;\n",
       "    }\n",
       "</style>\n",
       "<table border=\"1\" class=\"dataframe\">\n",
       "  <thead>\n",
       "    <tr style=\"text-align: right;\">\n",
       "      <th></th>\n",
       "      <th>dataset</th>\n",
       "      <th>n</th>\n",
       "      <th>metodo</th>\n",
       "      <th>tiempo</th>\n",
       "      <th>costo</th>\n",
       "    </tr>\n",
       "  </thead>\n",
       "  <tbody>\n",
       "    <tr>\n",
       "      <th>0</th>\n",
       "      <td>dataset_aleatorias</td>\n",
       "      <td>10</td>\n",
       "      <td>AGM</td>\n",
       "      <td>0.018330</td>\n",
       "      <td>1231</td>\n",
       "    </tr>\n",
       "    <tr>\n",
       "      <th>1</th>\n",
       "      <td>dataset_aleatorias</td>\n",
       "      <td>10</td>\n",
       "      <td>VMC</td>\n",
       "      <td>0.008803</td>\n",
       "      <td>874</td>\n",
       "    </tr>\n",
       "    <tr>\n",
       "      <th>2</th>\n",
       "      <td>dataset_aleatorias</td>\n",
       "      <td>10</td>\n",
       "      <td>I</td>\n",
       "      <td>0.096841</td>\n",
       "      <td>77</td>\n",
       "    </tr>\n",
       "    <tr>\n",
       "      <th>3</th>\n",
       "      <td>dataset_aleatorias</td>\n",
       "      <td>15</td>\n",
       "      <td>AGM</td>\n",
       "      <td>0.023357</td>\n",
       "      <td>1396</td>\n",
       "    </tr>\n",
       "    <tr>\n",
       "      <th>4</th>\n",
       "      <td>dataset_aleatorias</td>\n",
       "      <td>15</td>\n",
       "      <td>VMC</td>\n",
       "      <td>0.012061</td>\n",
       "      <td>1235</td>\n",
       "    </tr>\n",
       "    <tr>\n",
       "      <th>...</th>\n",
       "      <td>...</td>\n",
       "      <td>...</td>\n",
       "      <td>...</td>\n",
       "      <td>...</td>\n",
       "      <td>...</td>\n",
       "    </tr>\n",
       "    <tr>\n",
       "      <th>109</th>\n",
       "      <td>dataset_aleatorias</td>\n",
       "      <td>190</td>\n",
       "      <td>VMC</td>\n",
       "      <td>1.219740</td>\n",
       "      <td>3259</td>\n",
       "    </tr>\n",
       "    <tr>\n",
       "      <th>110</th>\n",
       "      <td>dataset_aleatorias</td>\n",
       "      <td>190</td>\n",
       "      <td>I</td>\n",
       "      <td>1990.380000</td>\n",
       "      <td>-41569</td>\n",
       "    </tr>\n",
       "    <tr>\n",
       "      <th>111</th>\n",
       "      <td>dataset_aleatorias</td>\n",
       "      <td>195</td>\n",
       "      <td>AGM</td>\n",
       "      <td>1.414610</td>\n",
       "      <td>11912</td>\n",
       "    </tr>\n",
       "    <tr>\n",
       "      <th>112</th>\n",
       "      <td>dataset_aleatorias</td>\n",
       "      <td>195</td>\n",
       "      <td>VMC</td>\n",
       "      <td>1.474870</td>\n",
       "      <td>3560</td>\n",
       "    </tr>\n",
       "    <tr>\n",
       "      <th>113</th>\n",
       "      <td>dataset_aleatorias</td>\n",
       "      <td>195</td>\n",
       "      <td>I</td>\n",
       "      <td>2416.080000</td>\n",
       "      <td>-44427</td>\n",
       "    </tr>\n",
       "  </tbody>\n",
       "</table>\n",
       "<p>114 rows × 5 columns</p>\n",
       "</div>"
      ],
      "text/plain": [
       "                dataset    n metodo       tiempo   costo\n",
       "0    dataset_aleatorias   10    AGM     0.018330    1231\n",
       "1    dataset_aleatorias   10    VMC     0.008803     874\n",
       "2    dataset_aleatorias   10      I     0.096841      77\n",
       "3    dataset_aleatorias   15    AGM     0.023357    1396\n",
       "4    dataset_aleatorias   15    VMC     0.012061    1235\n",
       "..                  ...  ...    ...          ...     ...\n",
       "109  dataset_aleatorias  190    VMC     1.219740    3259\n",
       "110  dataset_aleatorias  190      I  1990.380000  -41569\n",
       "111  dataset_aleatorias  195    AGM     1.414610   11912\n",
       "112  dataset_aleatorias  195    VMC     1.474870    3560\n",
       "113  dataset_aleatorias  195      I  2416.080000  -44427\n",
       "\n",
       "[114 rows x 5 columns]"
      ]
     },
     "execution_count": 44,
     "metadata": {},
     "output_type": "execute_result"
    }
   ],
   "source": [
    "df_resultados"
   ]
  }
 ],
 "metadata": {
  "kernelspec": {
   "display_name": "Python 3",
   "language": "python",
   "name": "python3"
  },
  "language_info": {
   "codemirror_mode": {
    "name": "ipython",
    "version": 3
   },
   "file_extension": ".py",
   "mimetype": "text/x-python",
   "name": "python",
   "nbconvert_exporter": "python",
   "pygments_lexer": "ipython3",
   "version": "3.8.5"
  }
 },
 "nbformat": 4,
 "nbformat_minor": 4
}
