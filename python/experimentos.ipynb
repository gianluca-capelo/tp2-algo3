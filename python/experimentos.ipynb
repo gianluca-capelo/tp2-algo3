{
 "cells": [
  {
   "cell_type": "markdown",
   "metadata": {},
   "source": [
    "# Correr experimentos\n",
    "En este archivo está el código para correr los experimentos y escribir los resultados en archivos CSV.\n",
    "> Los archivos se guardan en la carpeta _resultados_."
   ]
  },
  {
   "cell_type": "code",
   "execution_count": 1,
   "metadata": {},
   "outputs": [],
   "source": [
    "import math, subprocess\n",
    "import pandas as pd\n",
    "import numpy as np\n",
    "from IPython.display import display, clear_output"
   ]
  },
  {
   "cell_type": "markdown",
   "metadata": {},
   "source": [
    "A continuación leemos los datasets en dataframes de Pandas."
   ]
  },
  {
   "cell_type": "code",
   "execution_count": 2,
   "metadata": {},
   "outputs": [],
   "source": [
    "def leer_instancia(path_instancia):\n",
    "    with open(path_instancia, \"r\") as f:\n",
    "        return f.read();"
   ]
  },
  {
   "cell_type": "code",
   "execution_count": 8,
   "metadata": {},
   "outputs": [],
   "source": [
    "df_aleatorio = pd.read_csv(\"instancias_aleatorias/indice.csv\")"
   ]
  },
  {
   "cell_type": "markdown",
   "metadata": {},
   "source": [
    "La siguiente función sirve para correr el código sobre una instancia ejecutando un método en particular.\n",
    "\n",
    "- **VMC** : vecino mas cercano\n",
    "- **AGM** : arbol generador minimo\n",
    "- **I** : incersion\n",
    "- **tabu falta** : tabu"
   ]
  },
  {
   "cell_type": "code",
   "execution_count": 42,
   "metadata": {},
   "outputs": [],
   "source": [
    "def correr_experimento(metodo, archivo_instancia,parametros_tabu):\n",
    "    # Leer archivo de la instancia.\n",
    "    instancia = leer_instancia(archivo_instancia)\n",
    "    \n",
    "    cmds = [\"../tp2\", metodo] + parametros_tabu\n",
    "    # Crear proceso para ejecutar el codigo.\n",
    "    process = subprocess.Popen(cmds , stderr=subprocess.PIPE, stdout=subprocess.PIPE, stdin=subprocess.PIPE, universal_newlines = True)\n",
    "\n",
    "    # Poner la instancia en la entrada estandar.\n",
    "    process.stdin.write(instancia)\n",
    "    process.stdin.flush()\n",
    "\n",
    "    # Correr experimento.\n",
    "    exit_code = process.wait()\n",
    "\n",
    "    # Verificar que el proceso no fallo.\n",
    "    if exit_code != 0: raise(f\"Hubo un error en la experimentacion para el algoritmo: {metodo} con la instancia {archivo_instancia}.\")\n",
    "    # Leer salida de STDERR con los tiempos de ejecucion de cada metodo.\n",
    "    tiempo_de_ejecucion = float(process.stderr.read());\n",
    "    costo = process.stdout.read() \n",
    "    #print(process.stdout.read()) # resultado del metodo\n",
    "    process.stdin.close();\n",
    "    process.stdout.close();\n",
    "    process.stderr.close();\n",
    "    costo = costo.split(\" \")[1]\n",
    "    costo = costo.split(\"\\n\")[0]\n",
    "    res = (tiempo_de_ejecucion,float(costo))\n",
    "    \n",
    "    return res;\n",
    "\n",
    "\n"
   ]
  },
  {
   "cell_type": "code",
   "execution_count": 32,
   "metadata": {},
   "outputs": [
    {
     "data": {
      "text/plain": [
       "(14.2955, '10402')"
      ]
     },
     "execution_count": 32,
     "metadata": {},
     "output_type": "execute_result"
    }
   ],
   "source": [
    "correr_experimento(\"AGM-TS1\",  \"instancias_salida/berlin52.txt\", [\"50\",\"50\",\"50\",\"50\"])\n"
   ]
  },
  {
   "cell_type": "markdown",
   "metadata": {},
   "source": [
    "## Corremos los experimentos\n",
    "Vamos a guardar una tabla con las ejecuciones y sus respectivos tiempos."
   ]
  },
  {
   "cell_type": "code",
   "execution_count": 74,
   "metadata": {},
   "outputs": [
    {
     "data": {
      "text/plain": [
       "[]"
      ]
     },
     "execution_count": 74,
     "metadata": {},
     "output_type": "execute_result"
    }
   ],
   "source": [
    "experimentos = [];\n",
    "experimentos"
   ]
  },
  {
   "cell_type": "markdown",
   "metadata": {},
   "source": [
    "# Berlin"
   ]
  },
  {
   "cell_type": "markdown",
   "metadata": {},
   "source": [
    "## berlin con Tabu "
   ]
  },
  {
   "cell_type": "code",
   "execution_count": 60,
   "metadata": {},
   "outputs": [],
   "source": [
    "data = \"berlin\"\n",
    "n = 52\n",
    "archivo_berlin = \"instancias_salida/berlin52.txt\""
   ]
  },
  {
   "cell_type": "code",
   "execution_count": 75,
   "metadata": {},
   "outputs": [],
   "source": [
    "Metodos = [\"AGM-TS1\",\"AGM-TS2\",\"VMC-TS1\",\"VMC-TS2\",\"I-TS1\",\"I-TS2\"]\n",
    "max_iter = [20,50,100,150]\n",
    "rang_iter = [10,50,100,150] # tiene sentido si es menor que max\n",
    "porcentaje_vecinos = [10,30,50,100]\n",
    "largo_lista = [10,50,100]\n",
    "\n",
    "\n",
    "for metodo in Metodos:    \n",
    "    for m in max_iter:\n",
    "        for r in rang_iter :\n",
    "            for p in porcentaje_vecinos:\n",
    "                for T in largo_lista :\n",
    "                    experimentos.append([data, n ,metodo, archivo_berlin,[str(T),str(m),str(r),str(p)]]);\n"
   ]
  },
  {
   "cell_type": "markdown",
   "metadata": {},
   "source": [
    "## Berlin sin tabu"
   ]
  },
  {
   "cell_type": "code",
   "execution_count": 76,
   "metadata": {},
   "outputs": [],
   "source": [
    "experimentos.append([data, n ,\"AGM\", archivo_berlin,[str(0),str(0),str(0),str(0)]]);\n",
    "experimentos.append([data, n ,\"VMC\", archivo_berlin,[str(0),str(0),str(0),str(0)]]);\n",
    "experimentos.append([data, n ,\"I\", archivo_berlin,[str(0),str(0),str(0),str(0)]]);"
   ]
  },
  {
   "cell_type": "markdown",
   "metadata": {},
   "source": [
    "## Experimento aleatorio\n"
   ]
  },
  {
   "cell_type": "code",
   "execution_count": 40,
   "metadata": {},
   "outputs": [],
   "source": [
    "for i in range(0, df_aleatorio.shape[0]):\n",
    "    fila = df_aleatorio.iloc[i];\n",
    "    experimentos.append([fila[\"dataset\"], fila[\"n\"],\"AGM\", fila[\"archivo\"],0,0,0,0]);\n",
    "    experimentos.append([fila[\"dataset\"], fila[\"n\"],\"VMC\", fila[\"archivo\"],0,0,0,0]);\n",
    "    experimentos.append([fila[\"dataset\"], fila[\"n\"],\"I\", fila[\"archivo\"],0,0,0,0]);    "
   ]
  },
  {
   "cell_type": "code",
   "execution_count": 6,
   "metadata": {},
   "outputs": [],
   "source": [
    "for i in range(0, df_aleatorio.shape[0]):\n",
    "    fila = df_aleatorio.iloc[i];\n",
    "    experimentos.append([fila[\"dataset\"], fila[\"n\"],\"I\", fila[\"archivo\"]]); "
   ]
  },
  {
   "cell_type": "code",
   "execution_count": null,
   "metadata": {},
   "outputs": [],
   "source": [
    "## Tabu search"
   ]
  },
  {
   "cell_type": "code",
   "execution_count": 50,
   "metadata": {},
   "outputs": [],
   "source": [
    "for i in range(0, df_aleatorio.shape[0]):\n",
    "    fila = df_aleatorio.iloc[i];\n",
    "    experimentos.append([fila[\"dataset\"], fila[\"n\"],\"AGM-TS1\", fila[\"archivo\"]]);\n",
    "    experimentos.append([fila[\"dataset\"], fila[\"n\"],\"AGM-TS2\", fila[\"archivo\"]]);\n",
    "    \n",
    "    experimentos.append([fila[\"dataset\"], fila[\"n\"],\"VMC-TS1\", fila[\"archivo\"]]);\n",
    "    experimentos.append([fila[\"dataset\"], fila[\"n\"],\"VMC-TS2\", fila[\"archivo\"]]);\n",
    "\n",
    "    \n",
    "    #     experimentos.append([fila[\"dataset\"], fila[\"n\"],\"I\", fila[\"archivo\"]]); "
   ]
  },
  {
   "cell_type": "markdown",
   "metadata": {},
   "source": [
    "## TABU"
   ]
  },
  {
   "cell_type": "code",
   "execution_count": 77,
   "metadata": {},
   "outputs": [
    {
     "data": {
      "text/plain": [
       "'Experimento: 1155/1155'"
      ]
     },
     "metadata": {},
     "output_type": "display_data"
    }
   ],
   "source": [
    "columnas = [\"dataset\", \"n\", \"metodo\", \"tiempo\",\"costo\",\"max_iter\",\"rang_iter\",\"percentage\",\"largolista\"];\n",
    "\n",
    "\n",
    "filas = [];\n",
    "numero = 1\n",
    "T = 5 # Numero de veces que se ejecuta cada experimento (para mayor fidelidad del tiempo).\n",
    "for experimento in experimentos:\n",
    "    # Voy mostrando que experimento se esta ejecutando.\n",
    "    clear_output(wait=True)\n",
    "    display('Experimento: ' + str(numero) + \"/\" + str(len(experimentos)))\n",
    "    numero += 1\n",
    "    \n",
    "    # Ejecutamos el experimento T veces y obtenemos la mediana.\n",
    "    tiempos = []\n",
    "    costos = []\n",
    "    resultados = []\n",
    "    for i in range(0, T):\n",
    "        exp = correr_experimento(experimento[2], experimento[3],experimento[4])\n",
    "        t = exp[0]\n",
    "        c = exp[1]\n",
    "        costos.append(c)\n",
    "        tiempos.append(t);\n",
    "    costo = np.median(costos)\n",
    "    tiempo = np.median(tiempos);\n",
    "    filas.append([experimento[0], experimento[1], experimento[2], tiempo,costo,\n",
    "                  experimento[4][0],experimento[4][1],experimento[4][2],experimento[4][3]]);"
   ]
  },
  {
   "cell_type": "code",
   "execution_count": 78,
   "metadata": {},
   "outputs": [],
   "source": [
    "df_resultados = pd.DataFrame(filas, columns=columnas);\n",
    "\n",
    "df_resultados.to_csv(\"resultados/resultado.csv\", index=False, header=True);"
   ]
  },
  {
   "cell_type": "code",
   "execution_count": 79,
   "metadata": {},
   "outputs": [
    {
     "data": {
      "text/html": [
       "<div>\n",
       "<style scoped>\n",
       "    .dataframe tbody tr th:only-of-type {\n",
       "        vertical-align: middle;\n",
       "    }\n",
       "\n",
       "    .dataframe tbody tr th {\n",
       "        vertical-align: top;\n",
       "    }\n",
       "\n",
       "    .dataframe thead th {\n",
       "        text-align: right;\n",
       "    }\n",
       "</style>\n",
       "<table border=\"1\" class=\"dataframe\">\n",
       "  <thead>\n",
       "    <tr style=\"text-align: right;\">\n",
       "      <th></th>\n",
       "      <th>dataset</th>\n",
       "      <th>n</th>\n",
       "      <th>metodo</th>\n",
       "      <th>tiempo</th>\n",
       "      <th>costo</th>\n",
       "      <th>max_iter</th>\n",
       "      <th>rang_iter</th>\n",
       "      <th>percentage</th>\n",
       "      <th>largolista</th>\n",
       "    </tr>\n",
       "  </thead>\n",
       "  <tbody>\n",
       "    <tr>\n",
       "      <th>0</th>\n",
       "      <td>berlin</td>\n",
       "      <td>52</td>\n",
       "      <td>AGM-TS1</td>\n",
       "      <td>2.193130</td>\n",
       "      <td>10402.0</td>\n",
       "      <td>10</td>\n",
       "      <td>20</td>\n",
       "      <td>10</td>\n",
       "      <td>10</td>\n",
       "    </tr>\n",
       "    <tr>\n",
       "      <th>1</th>\n",
       "      <td>berlin</td>\n",
       "      <td>52</td>\n",
       "      <td>AGM-TS1</td>\n",
       "      <td>2.021480</td>\n",
       "      <td>10402.0</td>\n",
       "      <td>50</td>\n",
       "      <td>20</td>\n",
       "      <td>10</td>\n",
       "      <td>10</td>\n",
       "    </tr>\n",
       "    <tr>\n",
       "      <th>2</th>\n",
       "      <td>berlin</td>\n",
       "      <td>52</td>\n",
       "      <td>AGM-TS1</td>\n",
       "      <td>2.033360</td>\n",
       "      <td>10402.0</td>\n",
       "      <td>100</td>\n",
       "      <td>20</td>\n",
       "      <td>10</td>\n",
       "      <td>10</td>\n",
       "    </tr>\n",
       "    <tr>\n",
       "      <th>3</th>\n",
       "      <td>berlin</td>\n",
       "      <td>52</td>\n",
       "      <td>AGM-TS1</td>\n",
       "      <td>2.579850</td>\n",
       "      <td>10402.0</td>\n",
       "      <td>10</td>\n",
       "      <td>20</td>\n",
       "      <td>10</td>\n",
       "      <td>30</td>\n",
       "    </tr>\n",
       "    <tr>\n",
       "      <th>4</th>\n",
       "      <td>berlin</td>\n",
       "      <td>52</td>\n",
       "      <td>AGM-TS1</td>\n",
       "      <td>2.550410</td>\n",
       "      <td>10402.0</td>\n",
       "      <td>50</td>\n",
       "      <td>20</td>\n",
       "      <td>10</td>\n",
       "      <td>30</td>\n",
       "    </tr>\n",
       "    <tr>\n",
       "      <th>...</th>\n",
       "      <td>...</td>\n",
       "      <td>...</td>\n",
       "      <td>...</td>\n",
       "      <td>...</td>\n",
       "      <td>...</td>\n",
       "      <td>...</td>\n",
       "      <td>...</td>\n",
       "      <td>...</td>\n",
       "      <td>...</td>\n",
       "    </tr>\n",
       "    <tr>\n",
       "      <th>1150</th>\n",
       "      <td>berlin</td>\n",
       "      <td>52</td>\n",
       "      <td>I-TS2</td>\n",
       "      <td>51.968000</td>\n",
       "      <td>15771.0</td>\n",
       "      <td>50</td>\n",
       "      <td>150</td>\n",
       "      <td>150</td>\n",
       "      <td>100</td>\n",
       "    </tr>\n",
       "    <tr>\n",
       "      <th>1151</th>\n",
       "      <td>berlin</td>\n",
       "      <td>52</td>\n",
       "      <td>I-TS2</td>\n",
       "      <td>52.164500</td>\n",
       "      <td>15771.0</td>\n",
       "      <td>100</td>\n",
       "      <td>150</td>\n",
       "      <td>150</td>\n",
       "      <td>100</td>\n",
       "    </tr>\n",
       "    <tr>\n",
       "      <th>1152</th>\n",
       "      <td>berlin</td>\n",
       "      <td>52</td>\n",
       "      <td>AGM</td>\n",
       "      <td>0.124531</td>\n",
       "      <td>10402.0</td>\n",
       "      <td>0</td>\n",
       "      <td>0</td>\n",
       "      <td>0</td>\n",
       "      <td>0</td>\n",
       "    </tr>\n",
       "    <tr>\n",
       "      <th>1153</th>\n",
       "      <td>berlin</td>\n",
       "      <td>52</td>\n",
       "      <td>VMC</td>\n",
       "      <td>0.078734</td>\n",
       "      <td>8980.0</td>\n",
       "      <td>0</td>\n",
       "      <td>0</td>\n",
       "      <td>0</td>\n",
       "      <td>0</td>\n",
       "    </tr>\n",
       "    <tr>\n",
       "      <th>1154</th>\n",
       "      <td>berlin</td>\n",
       "      <td>52</td>\n",
       "      <td>I</td>\n",
       "      <td>31.949000</td>\n",
       "      <td>15771.0</td>\n",
       "      <td>0</td>\n",
       "      <td>0</td>\n",
       "      <td>0</td>\n",
       "      <td>0</td>\n",
       "    </tr>\n",
       "  </tbody>\n",
       "</table>\n",
       "<p>1155 rows × 9 columns</p>\n",
       "</div>"
      ],
      "text/plain": [
       "     dataset   n   metodo     tiempo    costo max_iter rang_iter percentage  \\\n",
       "0     berlin  52  AGM-TS1   2.193130  10402.0       10        20         10   \n",
       "1     berlin  52  AGM-TS1   2.021480  10402.0       50        20         10   \n",
       "2     berlin  52  AGM-TS1   2.033360  10402.0      100        20         10   \n",
       "3     berlin  52  AGM-TS1   2.579850  10402.0       10        20         10   \n",
       "4     berlin  52  AGM-TS1   2.550410  10402.0       50        20         10   \n",
       "...      ...  ..      ...        ...      ...      ...       ...        ...   \n",
       "1150  berlin  52    I-TS2  51.968000  15771.0       50       150        150   \n",
       "1151  berlin  52    I-TS2  52.164500  15771.0      100       150        150   \n",
       "1152  berlin  52      AGM   0.124531  10402.0        0         0          0   \n",
       "1153  berlin  52      VMC   0.078734   8980.0        0         0          0   \n",
       "1154  berlin  52        I  31.949000  15771.0        0         0          0   \n",
       "\n",
       "     largolista  \n",
       "0            10  \n",
       "1            10  \n",
       "2            10  \n",
       "3            30  \n",
       "4            30  \n",
       "...         ...  \n",
       "1150        100  \n",
       "1151        100  \n",
       "1152          0  \n",
       "1153          0  \n",
       "1154          0  \n",
       "\n",
       "[1155 rows x 9 columns]"
      ]
     },
     "execution_count": 79,
     "metadata": {},
     "output_type": "execute_result"
    }
   ],
   "source": [
    "df_resultados"
   ]
  },
  {
   "cell_type": "code",
   "execution_count": null,
   "metadata": {},
   "outputs": [],
   "source": []
  },
  {
   "cell_type": "code",
   "execution_count": null,
   "metadata": {},
   "outputs": [],
   "source": []
  },
  {
   "cell_type": "code",
   "execution_count": null,
   "metadata": {},
   "outputs": [],
   "source": []
  },
  {
   "cell_type": "code",
   "execution_count": null,
   "metadata": {},
   "outputs": [],
   "source": []
  },
  {
   "cell_type": "code",
   "execution_count": null,
   "metadata": {},
   "outputs": [],
   "source": []
  },
  {
   "cell_type": "code",
   "execution_count": null,
   "metadata": {},
   "outputs": [],
   "source": []
  },
  {
   "cell_type": "code",
   "execution_count": null,
   "metadata": {},
   "outputs": [],
   "source": []
  },
  {
   "cell_type": "code",
   "execution_count": null,
   "metadata": {},
   "outputs": [],
   "source": []
  },
  {
   "cell_type": "code",
   "execution_count": null,
   "metadata": {},
   "outputs": [],
   "source": []
  },
  {
   "cell_type": "code",
   "execution_count": null,
   "metadata": {},
   "outputs": [],
   "source": []
  },
  {
   "cell_type": "code",
   "execution_count": 9,
   "metadata": {},
   "outputs": [
    {
     "data": {
      "text/html": [
       "<div>\n",
       "<style scoped>\n",
       "    .dataframe tbody tr th:only-of-type {\n",
       "        vertical-align: middle;\n",
       "    }\n",
       "\n",
       "    .dataframe tbody tr th {\n",
       "        vertical-align: top;\n",
       "    }\n",
       "\n",
       "    .dataframe thead th {\n",
       "        text-align: right;\n",
       "    }\n",
       "</style>\n",
       "<table border=\"1\" class=\"dataframe\">\n",
       "  <thead>\n",
       "    <tr style=\"text-align: right;\">\n",
       "      <th></th>\n",
       "      <th>dataset</th>\n",
       "      <th>n</th>\n",
       "      <th>metodo</th>\n",
       "      <th>tiempo</th>\n",
       "      <th>costo</th>\n",
       "    </tr>\n",
       "  </thead>\n",
       "  <tbody>\n",
       "    <tr>\n",
       "      <th>0</th>\n",
       "      <td>dataset_aleatorias</td>\n",
       "      <td>10</td>\n",
       "      <td>AGM</td>\n",
       "      <td>0.018330</td>\n",
       "      <td>1231</td>\n",
       "    </tr>\n",
       "    <tr>\n",
       "      <th>1</th>\n",
       "      <td>dataset_aleatorias</td>\n",
       "      <td>10</td>\n",
       "      <td>VMC</td>\n",
       "      <td>0.008803</td>\n",
       "      <td>874</td>\n",
       "    </tr>\n",
       "    <tr>\n",
       "      <th>3</th>\n",
       "      <td>dataset_aleatorias</td>\n",
       "      <td>15</td>\n",
       "      <td>AGM</td>\n",
       "      <td>0.023357</td>\n",
       "      <td>1396</td>\n",
       "    </tr>\n",
       "    <tr>\n",
       "      <th>4</th>\n",
       "      <td>dataset_aleatorias</td>\n",
       "      <td>15</td>\n",
       "      <td>VMC</td>\n",
       "      <td>0.012061</td>\n",
       "      <td>1235</td>\n",
       "    </tr>\n",
       "    <tr>\n",
       "      <th>6</th>\n",
       "      <td>dataset_aleatorias</td>\n",
       "      <td>20</td>\n",
       "      <td>AGM</td>\n",
       "      <td>0.033290</td>\n",
       "      <td>1129</td>\n",
       "    </tr>\n",
       "    <tr>\n",
       "      <th>...</th>\n",
       "      <td>...</td>\n",
       "      <td>...</td>\n",
       "      <td>...</td>\n",
       "      <td>...</td>\n",
       "      <td>...</td>\n",
       "    </tr>\n",
       "    <tr>\n",
       "      <th>261</th>\n",
       "      <td>dataset_aleatorias</td>\n",
       "      <td>190</td>\n",
       "      <td>VMC-TS2</td>\n",
       "      <td>139.429000</td>\n",
       "      <td>2915</td>\n",
       "    </tr>\n",
       "    <tr>\n",
       "      <th>262</th>\n",
       "      <td>dataset_aleatorias</td>\n",
       "      <td>195</td>\n",
       "      <td>AGM-TS1</td>\n",
       "      <td>209.213000</td>\n",
       "      <td>8970</td>\n",
       "    </tr>\n",
       "    <tr>\n",
       "      <th>263</th>\n",
       "      <td>dataset_aleatorias</td>\n",
       "      <td>195</td>\n",
       "      <td>AGM-TS2</td>\n",
       "      <td>139.678000</td>\n",
       "      <td>8998</td>\n",
       "    </tr>\n",
       "    <tr>\n",
       "      <th>264</th>\n",
       "      <td>dataset_aleatorias</td>\n",
       "      <td>195</td>\n",
       "      <td>VMC-TS1</td>\n",
       "      <td>232.482000</td>\n",
       "      <td>3337</td>\n",
       "    </tr>\n",
       "    <tr>\n",
       "      <th>265</th>\n",
       "      <td>dataset_aleatorias</td>\n",
       "      <td>195</td>\n",
       "      <td>VMC-TS2</td>\n",
       "      <td>138.784000</td>\n",
       "      <td>3144</td>\n",
       "    </tr>\n",
       "  </tbody>\n",
       "</table>\n",
       "<p>228 rows × 5 columns</p>\n",
       "</div>"
      ],
      "text/plain": [
       "                dataset    n   metodo      tiempo  costo\n",
       "0    dataset_aleatorias   10      AGM    0.018330   1231\n",
       "1    dataset_aleatorias   10      VMC    0.008803    874\n",
       "3    dataset_aleatorias   15      AGM    0.023357   1396\n",
       "4    dataset_aleatorias   15      VMC    0.012061   1235\n",
       "6    dataset_aleatorias   20      AGM    0.033290   1129\n",
       "..                  ...  ...      ...         ...    ...\n",
       "261  dataset_aleatorias  190  VMC-TS2  139.429000   2915\n",
       "262  dataset_aleatorias  195  AGM-TS1  209.213000   8970\n",
       "263  dataset_aleatorias  195  AGM-TS2  139.678000   8998\n",
       "264  dataset_aleatorias  195  VMC-TS1  232.482000   3337\n",
       "265  dataset_aleatorias  195  VMC-TS2  138.784000   3144\n",
       "\n",
       "[228 rows x 5 columns]"
      ]
     },
     "execution_count": 9,
     "metadata": {},
     "output_type": "execute_result"
    }
   ],
   "source": [
    "df_viejo = pd.read_csv(\"resultados/resultado.csv\")\n",
    "df_viejo = df_viejo[df_viejo[\"metodo\"] != \"I\"]\n",
    "df_viejo"
   ]
  },
  {
   "cell_type": "code",
   "execution_count": 10,
   "metadata": {},
   "outputs": [],
   "source": [
    "df_save = df_viejo.append(df_resultados,ignore_index = True)"
   ]
  },
  {
   "cell_type": "code",
   "execution_count": 11,
   "metadata": {},
   "outputs": [],
   "source": [
    "df_save.to_csv(\"resultados/resultado.csv\", index=False, header=True);"
   ]
  },
  {
   "cell_type": "code",
   "execution_count": 13,
   "metadata": {},
   "outputs": [
    {
     "data": {
      "text/html": [
       "<div>\n",
       "<style scoped>\n",
       "    .dataframe tbody tr th:only-of-type {\n",
       "        vertical-align: middle;\n",
       "    }\n",
       "\n",
       "    .dataframe tbody tr th {\n",
       "        vertical-align: top;\n",
       "    }\n",
       "\n",
       "    .dataframe thead th {\n",
       "        text-align: right;\n",
       "    }\n",
       "</style>\n",
       "<table border=\"1\" class=\"dataframe\">\n",
       "  <thead>\n",
       "    <tr style=\"text-align: right;\">\n",
       "      <th></th>\n",
       "      <th>dataset</th>\n",
       "      <th>n</th>\n",
       "      <th>metodo</th>\n",
       "      <th>tiempo</th>\n",
       "      <th>costo</th>\n",
       "    </tr>\n",
       "  </thead>\n",
       "  <tbody>\n",
       "    <tr>\n",
       "      <th>0</th>\n",
       "      <td>dataset_aleatorias</td>\n",
       "      <td>10</td>\n",
       "      <td>AGM</td>\n",
       "      <td>0.018330</td>\n",
       "      <td>1231</td>\n",
       "    </tr>\n",
       "    <tr>\n",
       "      <th>1</th>\n",
       "      <td>dataset_aleatorias</td>\n",
       "      <td>10</td>\n",
       "      <td>VMC</td>\n",
       "      <td>0.008803</td>\n",
       "      <td>874</td>\n",
       "    </tr>\n",
       "    <tr>\n",
       "      <th>2</th>\n",
       "      <td>dataset_aleatorias</td>\n",
       "      <td>15</td>\n",
       "      <td>AGM</td>\n",
       "      <td>0.023357</td>\n",
       "      <td>1396</td>\n",
       "    </tr>\n",
       "    <tr>\n",
       "      <th>3</th>\n",
       "      <td>dataset_aleatorias</td>\n",
       "      <td>15</td>\n",
       "      <td>VMC</td>\n",
       "      <td>0.012061</td>\n",
       "      <td>1235</td>\n",
       "    </tr>\n",
       "    <tr>\n",
       "      <th>4</th>\n",
       "      <td>dataset_aleatorias</td>\n",
       "      <td>20</td>\n",
       "      <td>AGM</td>\n",
       "      <td>0.033290</td>\n",
       "      <td>1129</td>\n",
       "    </tr>\n",
       "    <tr>\n",
       "      <th>...</th>\n",
       "      <td>...</td>\n",
       "      <td>...</td>\n",
       "      <td>...</td>\n",
       "      <td>...</td>\n",
       "      <td>...</td>\n",
       "    </tr>\n",
       "    <tr>\n",
       "      <th>261</th>\n",
       "      <td>dataset_aleatorias</td>\n",
       "      <td>175</td>\n",
       "      <td>I</td>\n",
       "      <td>1465.460000</td>\n",
       "      <td>9003</td>\n",
       "    </tr>\n",
       "    <tr>\n",
       "      <th>262</th>\n",
       "      <td>dataset_aleatorias</td>\n",
       "      <td>180</td>\n",
       "      <td>I</td>\n",
       "      <td>1611.590000</td>\n",
       "      <td>9952</td>\n",
       "    </tr>\n",
       "    <tr>\n",
       "      <th>263</th>\n",
       "      <td>dataset_aleatorias</td>\n",
       "      <td>185</td>\n",
       "      <td>I</td>\n",
       "      <td>1823.510000</td>\n",
       "      <td>6076</td>\n",
       "    </tr>\n",
       "    <tr>\n",
       "      <th>264</th>\n",
       "      <td>dataset_aleatorias</td>\n",
       "      <td>190</td>\n",
       "      <td>I</td>\n",
       "      <td>1904.760000</td>\n",
       "      <td>7891</td>\n",
       "    </tr>\n",
       "    <tr>\n",
       "      <th>265</th>\n",
       "      <td>dataset_aleatorias</td>\n",
       "      <td>195</td>\n",
       "      <td>I</td>\n",
       "      <td>2009.170000</td>\n",
       "      <td>7980</td>\n",
       "    </tr>\n",
       "  </tbody>\n",
       "</table>\n",
       "<p>266 rows × 5 columns</p>\n",
       "</div>"
      ],
      "text/plain": [
       "                dataset    n metodo       tiempo costo\n",
       "0    dataset_aleatorias   10    AGM     0.018330  1231\n",
       "1    dataset_aleatorias   10    VMC     0.008803   874\n",
       "2    dataset_aleatorias   15    AGM     0.023357  1396\n",
       "3    dataset_aleatorias   15    VMC     0.012061  1235\n",
       "4    dataset_aleatorias   20    AGM     0.033290  1129\n",
       "..                  ...  ...    ...          ...   ...\n",
       "261  dataset_aleatorias  175      I  1465.460000  9003\n",
       "262  dataset_aleatorias  180      I  1611.590000  9952\n",
       "263  dataset_aleatorias  185      I  1823.510000  6076\n",
       "264  dataset_aleatorias  190      I  1904.760000  7891\n",
       "265  dataset_aleatorias  195      I  2009.170000  7980\n",
       "\n",
       "[266 rows x 5 columns]"
      ]
     },
     "execution_count": 13,
     "metadata": {},
     "output_type": "execute_result"
    }
   ],
   "source": [
    "df_save"
   ]
  }
 ],
 "metadata": {
  "kernelspec": {
   "display_name": "Python 3",
   "language": "python",
   "name": "python3"
  },
  "language_info": {
   "codemirror_mode": {
    "name": "ipython",
    "version": 3
   },
   "file_extension": ".py",
   "mimetype": "text/x-python",
   "name": "python",
   "nbconvert_exporter": "python",
   "pygments_lexer": "ipython3",
   "version": "3.8.5"
  }
 },
 "nbformat": 4,
 "nbformat_minor": 4
}
