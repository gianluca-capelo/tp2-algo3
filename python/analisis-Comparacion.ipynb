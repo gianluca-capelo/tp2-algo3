{
 "cells": [
  {
   "cell_type": "code",
   "execution_count": 16,
   "metadata": {},
   "outputs": [],
   "source": [
    "import numpy as np\n",
    "import pandas as pd\n",
    "import seaborn as sns\n",
    "import matplotlib.pyplot as plt"
   ]
  },
  {
   "cell_type": "code",
   "execution_count": 17,
   "metadata": {},
   "outputs": [],
   "source": [
    "def correlacion_pearson(data_frame, columna1, columna2):\n",
    "    return np.corrcoef(data_frame[columna1], data_frame[columna2])[0,1];"
   ]
  },
  {
   "cell_type": "markdown",
   "metadata": {},
   "source": [
    "# Experimentos del TP2 - 1er cuatri 2021\n",
    "En esta carpeta de Jupyter vamos a poner lo relativo a realizar la experimentación computacional.\n",
    "- **Asegurarse de correr los experimentos en el notebook Experimentos antes de utilizar este notebook.**\n",
    "- En este archivo se lee el output de los experimentos y se muestra de manera gráfica esos resultados."
   ]
  },
  {
   "cell_type": "markdown",
   "metadata": {},
   "source": [
    "# Métodos\n",
    "Los métodos evaluados en este notebook son los siguientes:\n",
    "\n",
    "- **VMC** : vecino mas cercano\n",
    "- **AGM** : arbol generador minimo\n",
    "- **I** : incersion"
   ]
  },
  {
   "cell_type": "markdown",
   "metadata": {},
   "source": [
    "# Experimentos\n",
    "Leemos el dataframe con todos los resultados."
   ]
  },
  {
   "cell_type": "code",
   "execution_count": 18,
   "metadata": {},
   "outputs": [
    {
     "data": {
      "text/html": [
       "<div>\n",
       "<style scoped>\n",
       "    .dataframe tbody tr th:only-of-type {\n",
       "        vertical-align: middle;\n",
       "    }\n",
       "\n",
       "    .dataframe tbody tr th {\n",
       "        vertical-align: top;\n",
       "    }\n",
       "\n",
       "    .dataframe thead th {\n",
       "        text-align: right;\n",
       "    }\n",
       "</style>\n",
       "<table border=\"1\" class=\"dataframe\">\n",
       "  <thead>\n",
       "    <tr style=\"text-align: right;\">\n",
       "      <th></th>\n",
       "      <th>dataset</th>\n",
       "      <th>n</th>\n",
       "      <th>metodo</th>\n",
       "      <th>tiempo</th>\n",
       "      <th>costo</th>\n",
       "      <th>largolista</th>\n",
       "      <th>max_iter</th>\n",
       "      <th>rang_iter</th>\n",
       "      <th>percentage</th>\n",
       "    </tr>\n",
       "  </thead>\n",
       "  <tbody>\n",
       "    <tr>\n",
       "      <th>0</th>\n",
       "      <td>ch150</td>\n",
       "      <td>150</td>\n",
       "      <td>AGM</td>\n",
       "      <td>1.472310</td>\n",
       "      <td>9315.0</td>\n",
       "      <td>0</td>\n",
       "      <td>0</td>\n",
       "      <td>0</td>\n",
       "      <td>0</td>\n",
       "    </tr>\n",
       "    <tr>\n",
       "      <th>1</th>\n",
       "      <td>ch150</td>\n",
       "      <td>150</td>\n",
       "      <td>AGM-TS1</td>\n",
       "      <td>5390.930000</td>\n",
       "      <td>8587.0</td>\n",
       "      <td>200</td>\n",
       "      <td>500</td>\n",
       "      <td>50</td>\n",
       "      <td>50</td>\n",
       "    </tr>\n",
       "    <tr>\n",
       "      <th>2</th>\n",
       "      <td>ch150</td>\n",
       "      <td>150</td>\n",
       "      <td>AGM-TS2</td>\n",
       "      <td>10251.000000</td>\n",
       "      <td>7507.0</td>\n",
       "      <td>100</td>\n",
       "      <td>500</td>\n",
       "      <td>300</td>\n",
       "      <td>100</td>\n",
       "    </tr>\n",
       "    <tr>\n",
       "      <th>3</th>\n",
       "      <td>ch150</td>\n",
       "      <td>150</td>\n",
       "      <td>VMC</td>\n",
       "      <td>0.685514</td>\n",
       "      <td>8191.0</td>\n",
       "      <td>0</td>\n",
       "      <td>0</td>\n",
       "      <td>0</td>\n",
       "      <td>0</td>\n",
       "    </tr>\n",
       "    <tr>\n",
       "      <th>4</th>\n",
       "      <td>ch150</td>\n",
       "      <td>150</td>\n",
       "      <td>VMC-TS1</td>\n",
       "      <td>5263.050000</td>\n",
       "      <td>8098.0</td>\n",
       "      <td>100</td>\n",
       "      <td>500</td>\n",
       "      <td>50</td>\n",
       "      <td>50</td>\n",
       "    </tr>\n",
       "    <tr>\n",
       "      <th>5</th>\n",
       "      <td>ch150</td>\n",
       "      <td>150</td>\n",
       "      <td>VMC-TS2</td>\n",
       "      <td>5220.460000</td>\n",
       "      <td>8085.0</td>\n",
       "      <td>100</td>\n",
       "      <td>500</td>\n",
       "      <td>300</td>\n",
       "      <td>50</td>\n",
       "    </tr>\n",
       "    <tr>\n",
       "      <th>6</th>\n",
       "      <td>ch150</td>\n",
       "      <td>150</td>\n",
       "      <td>I</td>\n",
       "      <td>1043.420000</td>\n",
       "      <td>13855.0</td>\n",
       "      <td>0</td>\n",
       "      <td>0</td>\n",
       "      <td>0</td>\n",
       "      <td>0</td>\n",
       "    </tr>\n",
       "    <tr>\n",
       "      <th>7</th>\n",
       "      <td>ch150</td>\n",
       "      <td>150</td>\n",
       "      <td>I-TS1</td>\n",
       "      <td>10775.000000</td>\n",
       "      <td>7876.0</td>\n",
       "      <td>100</td>\n",
       "      <td>500</td>\n",
       "      <td>100</td>\n",
       "      <td>100</td>\n",
       "    </tr>\n",
       "    <tr>\n",
       "      <th>8</th>\n",
       "      <td>ch150</td>\n",
       "      <td>150</td>\n",
       "      <td>I-TS2</td>\n",
       "      <td>11399.800000</td>\n",
       "      <td>7737.0</td>\n",
       "      <td>50</td>\n",
       "      <td>500</td>\n",
       "      <td>50</td>\n",
       "      <td>100</td>\n",
       "    </tr>\n",
       "    <tr>\n",
       "      <th>9</th>\n",
       "      <td>ch150</td>\n",
       "      <td>150</td>\n",
       "      <td>AGM-TS1</td>\n",
       "      <td>9943.070000</td>\n",
       "      <td>7567.0</td>\n",
       "      <td>200</td>\n",
       "      <td>500</td>\n",
       "      <td>50</td>\n",
       "      <td>100</td>\n",
       "    </tr>\n",
       "  </tbody>\n",
       "</table>\n",
       "</div>"
      ],
      "text/plain": [
       "  dataset    n   metodo        tiempo    costo  largolista  max_iter  \\\n",
       "0   ch150  150      AGM      1.472310   9315.0           0         0   \n",
       "1   ch150  150  AGM-TS1   5390.930000   8587.0         200       500   \n",
       "2   ch150  150  AGM-TS2  10251.000000   7507.0         100       500   \n",
       "3   ch150  150      VMC      0.685514   8191.0           0         0   \n",
       "4   ch150  150  VMC-TS1   5263.050000   8098.0         100       500   \n",
       "5   ch150  150  VMC-TS2   5220.460000   8085.0         100       500   \n",
       "6   ch150  150        I   1043.420000  13855.0           0         0   \n",
       "7   ch150  150    I-TS1  10775.000000   7876.0         100       500   \n",
       "8   ch150  150    I-TS2  11399.800000   7737.0          50       500   \n",
       "9   ch150  150  AGM-TS1   9943.070000   7567.0         200       500   \n",
       "\n",
       "   rang_iter  percentage  \n",
       "0          0           0  \n",
       "1         50          50  \n",
       "2        300         100  \n",
       "3          0           0  \n",
       "4         50          50  \n",
       "5        300          50  \n",
       "6          0           0  \n",
       "7        100         100  \n",
       "8         50         100  \n",
       "9         50         100  "
      ]
     },
     "execution_count": 18,
     "metadata": {},
     "output_type": "execute_result"
    }
   ],
   "source": [
    "df_resultados = pd.read_csv(\"resultados/expComparacion.csv\");\n",
    "df_resultados"
   ]
  },
  {
   "cell_type": "code",
   "execution_count": 19,
   "metadata": {},
   "outputs": [
    {
     "data": {
      "text/plain": [
       "array(['AGM', 'AGM-TS1', 'AGM-TS2', 'VMC', 'VMC-TS1', 'VMC-TS2', 'I',\n",
       "       'I-TS1', 'I-TS2'], dtype=object)"
      ]
     },
     "execution_count": 19,
     "metadata": {},
     "output_type": "execute_result"
    }
   ],
   "source": [
    "df_resultados[\"metodo\"].unique()"
   ]
  },
  {
   "cell_type": "markdown",
   "metadata": {},
   "source": [
    "# Buscar parametros optimos tabu"
   ]
  },
  {
   "cell_type": "markdown",
   "metadata": {},
   "source": [
    "## GAP\n",
    "Creamos un dataframe para analizar el GAP relativo de cada metodo \n",
    "\n",
    "\n",
    "Gap relativo = (costo-optimo) /optimo"
   ]
  },
  {
   "cell_type": "code",
   "execution_count": 20,
   "metadata": {},
   "outputs": [],
   "source": [
    "## gap = costo / optimo * 100 - 100 = gap\n",
    "def gap(costo, optimo):\n",
    "    return int(costo / optimo * 100 - 100)\n",
    "\n",
    "dic_optimos = {'ch150': 6528}\n",
    "\n",
    "df_gap = df_resultados[(df_resultados[\"dataset\"] == \"berlin52\") | (df_resultados[\"dataset\"] == \"ch150\")].copy();\n",
    "#df_gap.drop(df_gap.columns[[5,6,7,8]], axis=1, inplace=True)\n",
    "list_gap = []\n",
    "list_optimo = []\n",
    "for index, row in df_gap.iterrows():\n",
    "    costo = int(row['costo'])\n",
    "    optimo = dic_optimos[row['dataset']]\n",
    "    value_gap = (costo - optimo) / optimo \n",
    "    list_optimo.append(dic_optimos[row['dataset']])\n",
    "    list_gap.append(value_gap)\n",
    "\n",
    "\n",
    "df_gap['optimo'] = list_optimo\n",
    "df_gap['gap'] = list_gap"
   ]
  },
  {
   "cell_type": "code",
   "execution_count": 21,
   "metadata": {},
   "outputs": [
    {
     "data": {
      "text/html": [
       "<div>\n",
       "<style scoped>\n",
       "    .dataframe tbody tr th:only-of-type {\n",
       "        vertical-align: middle;\n",
       "    }\n",
       "\n",
       "    .dataframe tbody tr th {\n",
       "        vertical-align: top;\n",
       "    }\n",
       "\n",
       "    .dataframe thead th {\n",
       "        text-align: right;\n",
       "    }\n",
       "</style>\n",
       "<table border=\"1\" class=\"dataframe\">\n",
       "  <thead>\n",
       "    <tr style=\"text-align: right;\">\n",
       "      <th></th>\n",
       "      <th>dataset</th>\n",
       "      <th>n</th>\n",
       "      <th>metodo</th>\n",
       "      <th>tiempo</th>\n",
       "      <th>costo</th>\n",
       "      <th>largolista</th>\n",
       "      <th>max_iter</th>\n",
       "      <th>rang_iter</th>\n",
       "      <th>percentage</th>\n",
       "      <th>optimo</th>\n",
       "      <th>gap</th>\n",
       "    </tr>\n",
       "  </thead>\n",
       "  <tbody>\n",
       "    <tr>\n",
       "      <th>2</th>\n",
       "      <td>ch150</td>\n",
       "      <td>150</td>\n",
       "      <td>AGM-TS2</td>\n",
       "      <td>10251.000000</td>\n",
       "      <td>7507.0</td>\n",
       "      <td>100</td>\n",
       "      <td>500</td>\n",
       "      <td>300</td>\n",
       "      <td>100</td>\n",
       "      <td>6528</td>\n",
       "      <td>0.149969</td>\n",
       "    </tr>\n",
       "    <tr>\n",
       "      <th>9</th>\n",
       "      <td>ch150</td>\n",
       "      <td>150</td>\n",
       "      <td>AGM-TS1</td>\n",
       "      <td>9943.070000</td>\n",
       "      <td>7567.0</td>\n",
       "      <td>200</td>\n",
       "      <td>500</td>\n",
       "      <td>50</td>\n",
       "      <td>100</td>\n",
       "      <td>6528</td>\n",
       "      <td>0.159161</td>\n",
       "    </tr>\n",
       "    <tr>\n",
       "      <th>8</th>\n",
       "      <td>ch150</td>\n",
       "      <td>150</td>\n",
       "      <td>I-TS2</td>\n",
       "      <td>11399.800000</td>\n",
       "      <td>7737.0</td>\n",
       "      <td>50</td>\n",
       "      <td>500</td>\n",
       "      <td>50</td>\n",
       "      <td>100</td>\n",
       "      <td>6528</td>\n",
       "      <td>0.185202</td>\n",
       "    </tr>\n",
       "    <tr>\n",
       "      <th>7</th>\n",
       "      <td>ch150</td>\n",
       "      <td>150</td>\n",
       "      <td>I-TS1</td>\n",
       "      <td>10775.000000</td>\n",
       "      <td>7876.0</td>\n",
       "      <td>100</td>\n",
       "      <td>500</td>\n",
       "      <td>100</td>\n",
       "      <td>100</td>\n",
       "      <td>6528</td>\n",
       "      <td>0.206495</td>\n",
       "    </tr>\n",
       "    <tr>\n",
       "      <th>5</th>\n",
       "      <td>ch150</td>\n",
       "      <td>150</td>\n",
       "      <td>VMC-TS2</td>\n",
       "      <td>5220.460000</td>\n",
       "      <td>8085.0</td>\n",
       "      <td>100</td>\n",
       "      <td>500</td>\n",
       "      <td>300</td>\n",
       "      <td>50</td>\n",
       "      <td>6528</td>\n",
       "      <td>0.238511</td>\n",
       "    </tr>\n",
       "    <tr>\n",
       "      <th>4</th>\n",
       "      <td>ch150</td>\n",
       "      <td>150</td>\n",
       "      <td>VMC-TS1</td>\n",
       "      <td>5263.050000</td>\n",
       "      <td>8098.0</td>\n",
       "      <td>100</td>\n",
       "      <td>500</td>\n",
       "      <td>50</td>\n",
       "      <td>50</td>\n",
       "      <td>6528</td>\n",
       "      <td>0.240502</td>\n",
       "    </tr>\n",
       "    <tr>\n",
       "      <th>3</th>\n",
       "      <td>ch150</td>\n",
       "      <td>150</td>\n",
       "      <td>VMC</td>\n",
       "      <td>0.685514</td>\n",
       "      <td>8191.0</td>\n",
       "      <td>0</td>\n",
       "      <td>0</td>\n",
       "      <td>0</td>\n",
       "      <td>0</td>\n",
       "      <td>6528</td>\n",
       "      <td>0.254749</td>\n",
       "    </tr>\n",
       "    <tr>\n",
       "      <th>1</th>\n",
       "      <td>ch150</td>\n",
       "      <td>150</td>\n",
       "      <td>AGM-TS1</td>\n",
       "      <td>5390.930000</td>\n",
       "      <td>8587.0</td>\n",
       "      <td>200</td>\n",
       "      <td>500</td>\n",
       "      <td>50</td>\n",
       "      <td>50</td>\n",
       "      <td>6528</td>\n",
       "      <td>0.315411</td>\n",
       "    </tr>\n",
       "    <tr>\n",
       "      <th>0</th>\n",
       "      <td>ch150</td>\n",
       "      <td>150</td>\n",
       "      <td>AGM</td>\n",
       "      <td>1.472310</td>\n",
       "      <td>9315.0</td>\n",
       "      <td>0</td>\n",
       "      <td>0</td>\n",
       "      <td>0</td>\n",
       "      <td>0</td>\n",
       "      <td>6528</td>\n",
       "      <td>0.426930</td>\n",
       "    </tr>\n",
       "    <tr>\n",
       "      <th>6</th>\n",
       "      <td>ch150</td>\n",
       "      <td>150</td>\n",
       "      <td>I</td>\n",
       "      <td>1043.420000</td>\n",
       "      <td>13855.0</td>\n",
       "      <td>0</td>\n",
       "      <td>0</td>\n",
       "      <td>0</td>\n",
       "      <td>0</td>\n",
       "      <td>6528</td>\n",
       "      <td>1.122396</td>\n",
       "    </tr>\n",
       "  </tbody>\n",
       "</table>\n",
       "</div>"
      ],
      "text/plain": [
       "  dataset    n   metodo        tiempo    costo  largolista  max_iter  \\\n",
       "2   ch150  150  AGM-TS2  10251.000000   7507.0         100       500   \n",
       "9   ch150  150  AGM-TS1   9943.070000   7567.0         200       500   \n",
       "8   ch150  150    I-TS2  11399.800000   7737.0          50       500   \n",
       "7   ch150  150    I-TS1  10775.000000   7876.0         100       500   \n",
       "5   ch150  150  VMC-TS2   5220.460000   8085.0         100       500   \n",
       "4   ch150  150  VMC-TS1   5263.050000   8098.0         100       500   \n",
       "3   ch150  150      VMC      0.685514   8191.0           0         0   \n",
       "1   ch150  150  AGM-TS1   5390.930000   8587.0         200       500   \n",
       "0   ch150  150      AGM      1.472310   9315.0           0         0   \n",
       "6   ch150  150        I   1043.420000  13855.0           0         0   \n",
       "\n",
       "   rang_iter  percentage  optimo       gap  \n",
       "2        300         100    6528  0.149969  \n",
       "9         50         100    6528  0.159161  \n",
       "8         50         100    6528  0.185202  \n",
       "7        100         100    6528  0.206495  \n",
       "5        300          50    6528  0.238511  \n",
       "4         50          50    6528  0.240502  \n",
       "3          0           0    6528  0.254749  \n",
       "1         50          50    6528  0.315411  \n",
       "0          0           0    6528  0.426930  \n",
       "6          0           0    6528  1.122396  "
      ]
     },
     "execution_count": 21,
     "metadata": {},
     "output_type": "execute_result"
    }
   ],
   "source": [
    "df_gap.sort_values(by=['gap'],ascending=True)"
   ]
  },
  {
   "cell_type": "code",
   "execution_count": 11,
   "metadata": {
    "scrolled": true
   },
   "outputs": [
    {
     "data": {
      "image/png": "[encoded data removed]",
      "text/plain": [
       "<Figure size 432x288 with 1 Axes>"
      ]
     },
     "metadata": {},
     "output_type": "display_data"
    },
    {
     "data": {
      "image/png": "[encoded data removed]",
      "text/plain": [
       "<Figure size 432x288 with 1 Axes>"
      ]
     },
     "metadata": {},
     "output_type": "display_data"
    },
    {
     "data": {
      "image/png": "[encoded data removed]",
      "text/plain": [
       "<Figure size 432x288 with 1 Axes>"
      ]
     },
     "metadata": {},
     "output_type": "display_data"
    }
   ],
   "source": [
    "df = df_gap.copy()\n",
    "\n",
    "\n",
    "df_vmc = df_gap[ (df[\"metodo\"] == \"AGM\") | (df[\"metodo\"] == \"AGM-TS1\")| (df[\"metodo\"] == \"AGM-TS2\")]\n",
    "sns.set_style(\"darkgrid\")\n",
    "plt.ylim(0.0, 1.0)\n",
    "sns.barplot(data = df_vmc,x =\"metodo\",y = \"gap\",palette=\"Blues_d\" )\n",
    "plt.title(\"AGM\")\n",
    "plt.savefig(\"graficos/AGM-TS.svg\")\n",
    "plt.show()\n",
    "\n",
    "plt.ylim(0.0, 1.0)\n",
    "df_agm = df_gap[ (df[\"metodo\"] == \"VMC\") | (df[\"metodo\"] == \"VMC-TS1\")| (df[\"metodo\"] == \"VMC-TS2\")]\n",
    "sns.barplot(data = df_agm,x =\"metodo\",y = \"gap\",palette=\"Blues_d\" )\n",
    "plt.title(\"VMC\")\n",
    "plt.savefig(\"graficos/VMC-TS.svg\")\n",
    "plt.show()\n",
    "\n",
    "plt.ylim(0.0, 1.0)\n",
    "df_i = df_gap[ (df[\"metodo\"] == \"I\") | (df[\"metodo\"] == \"I-TS1\")| (df[\"metodo\"] == \"I-TS2\")]\n",
    "sns.barplot(data = df_i,x =\"metodo\",y = \"gap\",palette=\"Blues_d\" )\n",
    "plt.title(\"Insercion\")\n",
    "plt.savefig(\"graficos/I-TS.svg\")\n",
    "plt.show()"
   ]
  },
  {
   "cell_type": "code",
   "execution_count": 52,
   "metadata": {},
   "outputs": [
    {
     "data": {
      "image/png": "[encoded data removed]",
      "text/plain": [
       "<Figure size 432x288 with 1 Axes>"
      ]
     },
     "metadata": {},
     "output_type": "display_data"
    }
   ],
   "source": [
    "df = df_gap.drop(9)\n",
    "sns.set_style(\"darkgrid\")\n",
    "plt.ylim(0.0, 1.0)\n",
    "sns.barplot(data = df,x =\"metodo\",y = \"gap\",palette=\"Blues_d\" )\n",
    "plt.xticks(rotation=45)\n",
    "plt.savefig(\"graficos/barplot_tabu_todos.svg\")\n",
    "plt.show()"
   ]
  },
  {
   "cell_type": "code",
   "execution_count": 31,
   "metadata": {},
   "outputs": [
    {
     "data": {
      "image/png": "[encoded data removed]",
      "text/plain": [
       "<Figure size 432x288 with 1 Axes>"
      ]
     },
     "metadata": {},
     "output_type": "display_data"
    }
   ],
   "source": [
    "df = df_gap.copy()\n",
    "df = df[df[\"metodo\"] == \"AGM-TS1\"]\n",
    "sns.barplot(data = df, x= \"percentage\", y = \"gap\" ,palette=\"Reds_d\")\n",
    "plt.title(\"AGM-TS1\")\n",
    "plt.ylim(0.0, 1.0)\n",
    "plt.savefig(\"graficos/AGM-TS1-porcentaje.svg\")\n",
    "plt.show()"
   ]
  },
  {
   "cell_type": "code",
   "execution_count": 15,
   "metadata": {
    "scrolled": true
   },
   "outputs": [
    {
     "data": {
      "image/png": "[encoded data removed]",
      "text/plain": [
       "<Figure size 432x288 with 1 Axes>"
      ]
     },
     "metadata": {},
     "output_type": "display_data"
    },
    {
     "data": {
      "image/png": "[encoded data removed]",
      "text/plain": [
       "<Figure size 432x288 with 1 Axes>"
      ]
     },
     "metadata": {},
     "output_type": "display_data"
    },
    {
     "data": {
      "image/png": "[encoded data removed]",
      "text/plain": [
       "<Figure size 432x288 with 1 Axes>"
      ]
     },
     "metadata": {},
     "output_type": "display_data"
    }
   ],
   "source": [
    "df = df_gap.copy()\n",
    "df_vmc = df_gap[ (df[\"metodo\"] == \"AGM\") | (df[\"metodo\"] == \"AGM-TS1\")| (df[\"metodo\"] == \"AGM-TS2\")]\n",
    "sns.set_style(\"darkgrid\")\n",
    "    \n",
    "sns.barplot(data = df_vmc,x =\"metodo\",y = \"tiempo\",palette=\"Reds_d\" )\n",
    "plt.yscale('log')          \n",
    "\n",
    "plt.ylim((10**0,10**4))\n",
    "\n",
    "plt.show()\n",
    "\n",
    "df_agm = df_gap[ (df[\"metodo\"] == \"VMC\") | (df[\"metodo\"] == \"VMC-TS1\")| (df[\"metodo\"] == \"VMC-TS2\")]\n",
    "sns.barplot(data = df_agm,x =\"metodo\",y = \"tiempo\",palette=\"Reds_d\")\n",
    "plt.yscale('log')\n",
    "plt.ylim((10**0,10**4))\n",
    "plt.show()\n",
    "\n",
    "df_i = df_gap[ (df[\"metodo\"] == \"I\") | (df[\"metodo\"] == \"I-TS1\")| (df[\"metodo\"] == \"I-TS2\")]\n",
    "sns.barplot(data = df_i,x =\"metodo\",y = \"tiempo\",palette=\"Reds_d\")\n",
    "plt.yscale('log')\n",
    "plt.ylim((10**0,10**4))\n",
    "plt.show()"
   ]
  }
 ],
 "metadata": {
  "kernelspec": {
   "display_name": "Python 3",
   "language": "python",
   "name": "python3"
  },
  "language_info": {
   "codemirror_mode": {
    "name": "ipython",
    "version": 3
   },
   "file_extension": ".py",
   "mimetype": "text/x-python",
   "name": "python",
   "nbconvert_exporter": "python",
   "pygments_lexer": "ipython3",
   "version": "3.8.5"
  }
 },
 "nbformat": 4,
 "nbformat_minor": 4
}
