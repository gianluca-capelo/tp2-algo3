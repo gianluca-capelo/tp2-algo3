{
 "cells": [
  {
   "cell_type": "markdown",
   "metadata": {},
   "source": [
    "# Correr experimentos\n",
    "En este archivo está el código para correr los experimentos y escribir los resultados en archivos CSV.\n",
    "> Los archivos se guardan en la carpeta _resultados_."
   ]
  },
  {
   "cell_type": "code",
   "execution_count": 73,
   "metadata": {},
   "outputs": [],
   "source": [
    "import math, subprocess\n",
    "import pandas as pd\n",
    "import numpy as np\n",
    "from IPython.display import display, clear_output"
   ]
  },
  {
   "cell_type": "markdown",
   "metadata": {},
   "source": [
    "A continuación leemos los datasets en dataframes de Pandas."
   ]
  },
  {
   "cell_type": "code",
   "execution_count": 74,
   "metadata": {},
   "outputs": [],
   "source": [
    "def leer_instancia(path_instancia):\n",
    "    with open(path_instancia, \"r\") as f:\n",
    "        return f.read();"
   ]
  },
  {
   "cell_type": "code",
   "execution_count": 48,
   "metadata": {},
   "outputs": [],
   "source": [
    "df_aleatorio = pd.read_csv(\"instancias_aleatorias/indice.csv\")"
   ]
  },
  {
   "cell_type": "markdown",
   "metadata": {},
   "source": [
    "La siguiente función sirve para correr el código sobre una instancia ejecutando un método en particular.\n",
    "\n",
    "- **VMC** : vecino mas cercano\n",
    "- **AGM** : arbol generador minimo\n",
    "- **I** : incersion\n",
    "- **tabu falta** : tabu"
   ]
  },
  {
   "cell_type": "code",
   "execution_count": 75,
   "metadata": {},
   "outputs": [],
   "source": [
    "def correr_experimento(metodo, archivo_instancia,parametros_tabu):\n",
    "    # Leer archivo de la instancia.\n",
    "    instancia = leer_instancia(archivo_instancia)\n",
    "    \n",
    "    cmds = [\"../tp2\", metodo] + parametros_tabu\n",
    "    # Crear proceso para ejecutar el codigo.\n",
    "    process = subprocess.Popen(cmds , stderr=subprocess.PIPE, stdout=subprocess.PIPE, stdin=subprocess.PIPE, universal_newlines = True)\n",
    "\n",
    "    # Poner la instancia en la entrada estandar.\n",
    "    process.stdin.write(instancia)\n",
    "    process.stdin.flush()\n",
    "\n",
    "    # Correr experimento.\n",
    "    exit_code = process.wait()\n",
    "\n",
    "    # Verificar que el proceso no fallo.\n",
    "    if exit_code != 0: raise(f\"Hubo un error en la experimentacion para el algoritmo: {metodo} con la instancia {archivo_instancia}.\")\n",
    "    # Leer salida de STDERR con los tiempos de ejecucion de cada metodo.\n",
    "    tiempo_de_ejecucion = float(process.stderr.read());\n",
    "    costo = process.stdout.read() \n",
    "    #print(process.stdout.read()) # resultado del metodo\n",
    "    process.stdin.close();\n",
    "    process.stdout.close();\n",
    "    process.stderr.close();\n",
    "    costo = costo.split(\" \")[1]\n",
    "    costo = costo.split(\"\\n\")[0]\n",
    "    res = (tiempo_de_ejecucion,float(costo))\n",
    "    \n",
    "    return res;\n",
    "\n",
    "\n"
   ]
  },
  {
   "cell_type": "code",
   "execution_count": 32,
   "metadata": {},
   "outputs": [
    {
     "data": {
      "text/plain": [
       "(14.2955, '10402')"
      ]
     },
     "execution_count": 32,
     "metadata": {},
     "output_type": "execute_result"
    }
   ],
   "source": [
    "correr_experimento(\"AGM-TS1\",  \"instancias_salida/berlin52.txt\", [\"50\",\"50\",\"50\",\"50\"])\n"
   ]
  },
  {
   "cell_type": "markdown",
   "metadata": {},
   "source": [
    "## Corremos los experimentos\n",
    "Vamos a guardar una tabla con las ejecuciones y sus respectivos tiempos."
   ]
  },
  {
   "cell_type": "code",
   "execution_count": 85,
   "metadata": {},
   "outputs": [
    {
     "data": {
      "text/plain": [
       "[]"
      ]
     },
     "execution_count": 85,
     "metadata": {},
     "output_type": "execute_result"
    }
   ],
   "source": [
    "experimentos = [];\n",
    "experimentos"
   ]
  },
  {
   "cell_type": "markdown",
   "metadata": {},
   "source": [
    "# Burma  14 sin tabu"
   ]
  },
  {
   "cell_type": "code",
   "execution_count": null,
   "metadata": {},
   "outputs": [],
   "source": [
    "data = \"burma14\"\n",
    "n = 14\n",
    "archivo_burma = \"instancias_salida/burma14.txt\"\n",
    "\n",
    "experimentos.append([data, n ,\"AGM\", archivo_burma,[str(0),str(0),str(0),str(0)]]);\n",
    "experimentos.append([data, n ,\"VMC\", archivo_burma,[str(0),str(0),str(0),str(0)]]);\n",
    "experimentos.append([data, n ,\"I\", archivo_burma,[str(0),str(0),str(0),str(0)]]);"
   ]
  },
  {
   "cell_type": "markdown",
   "metadata": {},
   "source": [
    "## ch150"
   ]
  },
  {
   "cell_type": "code",
   "execution_count": 51,
   "metadata": {},
   "outputs": [],
   "source": [
    "data = \"ch150\"\n",
    "n_ch = 150\n",
    "archivo_ch = \"instancias_salida/ch150.txt\"\n",
    "\n",
    "experimentos.append([data, n ,\"AGM\", archivo_ch,[str(0),str(0),str(0),str(0)]]);\n",
    "experimentos.append([data, n ,\"VMC\", archivo_ch,[str(0),str(0),str(0),str(0)]]);\n",
    "experimentos.append([data, n ,\"I\", archivo_ch,[str(0),str(0),str(0),str(0)]]);"
   ]
  },
  {
   "cell_type": "code",
   "execution_count": 83,
   "metadata": {},
   "outputs": [],
   "source": [
    "data = \"ch150\"\n",
    "n = 150\n",
    "archivo_ch = \"instancias_salida/ch150.txt\"\n",
    "\n",
    "Metodos = [\"VMC-TS1\",\"VMC-TS2\"]\n",
    "\n",
    "max_iter = [50,200,500]\n",
    "rang_iter = [50,100] # tiene sentido si es menor que max\n",
    "porcentaje_vecinos = [30,70,100]\n",
    "largo_lista = [50,100,150]\n",
    "\n",
    "for metodo in Metodos:    \n",
    "    for m in max_iter:\n",
    "        for r in rang_iter :\n",
    "            for p in porcentaje_vecinos:\n",
    "                for T in largo_lista :\n",
    "                    experimentos.append([data, n ,metodo, archivo_ch,[str(T),str(m),str(r),str(p)]]);\n"
   ]
  },
  {
   "cell_type": "markdown",
   "metadata": {},
   "source": [
    "# Berlin"
   ]
  },
  {
   "cell_type": "markdown",
   "metadata": {},
   "source": [
    "## berlin con Tabu "
   ]
  },
  {
   "cell_type": "code",
   "execution_count": 86,
   "metadata": {},
   "outputs": [],
   "source": [
    "data = \"berlin52\"\n",
    "n = 52\n",
    "archivo_berlin = \"instancias_salida/berlin52.txt\""
   ]
  },
  {
   "cell_type": "code",
   "execution_count": 87,
   "metadata": {
    "tags": []
   },
   "outputs": [],
   "source": [
    "Metodos = [\"AGM-TS1\",\"AGM-TS2\",\"VMC-TS1\",\"VMC-TS2\",\"I-TS1\",\"I-TS2\"]\n",
    "\n",
    "max_iter = [1000]\n",
    "\n",
    "#max_iter = [50,200,500]\n",
    "rang_iter = [50,100,300] # tiene sentido si es menor que max\n",
    "porcentaje_vecinos = [5,30,50,100]\n",
    "largo_lista = [50,100,200]\n",
    "\n",
    "for metodo in Metodos:    \n",
    "    for m in max_iter:\n",
    "        for r in rang_iter :\n",
    "            for p in porcentaje_vecinos:\n",
    "                for T in largo_lista :\n",
    "                    experimentos.append([data, n ,metodo, archivo_berlin,[str(T),str(m),str(r),str(p)]]);\n"
   ]
  },
  {
   "cell_type": "markdown",
   "metadata": {},
   "source": [
    "## Berlin sin tabu"
   ]
  },
  {
   "cell_type": "code",
   "execution_count": 79,
   "metadata": {},
   "outputs": [],
   "source": [
    "experimentos.append([data, n ,\"AGM\", archivo_berlin,[str(0),str(0),str(0),str(0)]]);\n",
    "experimentos.append([data, n ,\"VMC\", archivo_berlin,[str(0),str(0),str(0),str(0)]]);\n",
    "experimentos.append([data, n ,\"I\", archivo_berlin,[str(0),str(0),str(0),str(0)]]);"
   ]
  },
  {
   "cell_type": "markdown",
   "metadata": {},
   "source": [
    "## Experimento aleatorio\n"
   ]
  },
  {
   "cell_type": "code",
   "execution_count": 40,
   "metadata": {},
   "outputs": [],
   "source": [
    "for i in range(0, df_aleatorio.shape[0]):\n",
    "    fila = df_aleatorio.iloc[i];\n",
    "    experimentos.append([fila[\"dataset\"], fila[\"n\"],\"AGM\", fila[\"archivo\"],[str(0),str(0),str(0),str(0)]]);\n",
    "    experimentos.append([fila[\"dataset\"], fila[\"n\"],\"VMC\", fila[\"archivo\"],[str(0),str(0),str(0),str(0)]]);\n",
    "    experimentos.append([fila[\"dataset\"], fila[\"n\"],\"I\", fila[\"archivo\"],[str(0),str(0),str(0),str(0)]]);    "
   ]
  },
  {
   "cell_type": "code",
   "execution_count": null,
   "metadata": {},
   "outputs": [],
   "source": [
    "## Tabu search"
   ]
  },
  {
   "cell_type": "code",
   "execution_count": 50,
   "metadata": {},
   "outputs": [],
   "source": [
    "for i in range(0, df_aleatorio.shape[0]):\n",
    "    fila = df_aleatorio.iloc[i];\n",
    "    experimentos.append([fila[\"dataset\"], fila[\"n\"],\"AGM-TS1\", fila[\"archivo\"],[str(0),str(0),str(0),str(0)]]);\n",
    "    experimentos.append([fila[\"dataset\"], fila[\"n\"],\"AGM-TS2\", fila[\"archivo\"],[str(0),str(0),str(0),str(0)]]);\n",
    "    \n",
    "    experimentos.append([fila[\"dataset\"], fila[\"n\"],\"VMC-TS1\", fila[\"archivo\"],[str(0),str(0),str(0),str(0)]]);\n",
    "    experimentos.append([fila[\"dataset\"], fila[\"n\"],\"VMC-TS2\", fila[\"archivo\"],[str(0),str(0),str(0),str(0)]]);\n",
    "\n",
    "    experimentos.append([fila[\"dataset\"], fila[\"n\"],\"I-TS1\", fila[\"archivo\"],[str(0),str(0),str(0),str(0)]]);\n",
    "    experimentos.append([fila[\"dataset\"], fila[\"n\"],\"I-TS2\", fila[\"archivo\"],[str(0),str(0),str(0),str(0)]]);\n",
    "    \n"
   ]
  },
  {
   "cell_type": "markdown",
   "metadata": {},
   "source": [
    "## CORRER EXPERIMENTOS"
   ]
  },
  {
   "cell_type": "code",
   "execution_count": 88,
   "metadata": {},
   "outputs": [
    {
     "data": {
      "text/plain": [
       "'Experimento: 216/216'"
      ]
     },
     "metadata": {},
     "output_type": "display_data"
    },
    {
     "name": "stdout",
     "output_type": "stream",
     "text": [
      "fin :)\n"
     ]
    }
   ],
   "source": [
    "columnas = [\"dataset\", \"n\", \"metodo\", \"tiempo\",\"costo\",\"largolista\",\"max_iter\",\"rang_iter\",\"percentage\",];\n",
    "\n",
    "\n",
    "filas = [];\n",
    "numero = 1\n",
    "T = 5 # Numero de veces que se ejecuta cada experimento (para mayor fidelidad del tiempo).\n",
    "for experimento in experimentos:\n",
    "    # Voy mostrando que experimento se esta ejecutando.\n",
    "    clear_output(wait=True)\n",
    "    display('Experimento: ' + str(numero) + \"/\" + str(len(experimentos)))\n",
    "    numero += 1\n",
    "    \n",
    "    # Ejecutamos el experimento T veces y obtenemos la mediana.\n",
    "    tiempos = []\n",
    "    costos = []\n",
    "    resultados = []\n",
    "    for i in range(0, T):\n",
    "        exp = correr_experimento(experimento[2], experimento[3],experimento[4])\n",
    "        t = exp[0]\n",
    "        c = exp[1]\n",
    "        costos.append(c)\n",
    "        tiempos.append(t);\n",
    "    costo = np.median(costos)\n",
    "    tiempo = np.median(tiempos);\n",
    "    filas.append([experimento[0], experimento[1], experimento[2], tiempo,costo,\n",
    "                  experimento[4][0],experimento[4][1],experimento[4][2],experimento[4][3]]);\n",
    "print('fin :)')"
   ]
  },
  {
   "cell_type": "code",
   "execution_count": 89,
   "metadata": {},
   "outputs": [],
   "source": [
    "df_resultados = pd.DataFrame(filas, columns=columnas);\n",
    "df_resultados.to_csv(\"resultados/resultado.csv\", index=False, header=True);"
   ]
  }
 ],
 "metadata": {
  "kernelspec": {
   "display_name": "Python 3",
   "language": "python",
   "name": "python3"
  },
  "language_info": {
   "codemirror_mode": {
    "name": "ipython",
    "version": 3
   },
   "file_extension": ".py",
   "mimetype": "text/x-python",
   "name": "python",
   "nbconvert_exporter": "python",
   "pygments_lexer": "ipython3",
   "version": "3.8.5"
  }
 },
 "nbformat": 4,
 "nbformat_minor": 4
}
