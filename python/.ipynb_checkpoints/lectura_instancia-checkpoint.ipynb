{
 "cells": [
  {
   "cell_type": "code",
   "execution_count": 59,
   "id": "33cdbe49-3a9a-4818-8e01-cb304adb3e82",
   "metadata": {},
   "outputs": [],
   "source": [
    "# https://campus.exactas.uba.ar/pluginfile.php/293726/mod_resource/content/1/lectura_instancia.ipynb\n",
    "# pip3 install tsplib95\n",
    "\n",
    "import tsplib95 as tl\n",
    "\n",
    "def generar_instancia(archivo_entrada, archivo_salida):\n",
    "    prob = tl.load(archivo_entrada)\n",
    "    salida = open(archivo_salida,'w')\n",
    "        \n",
    "    grafo = prob.get_graph()\n",
    "    \n",
    "    print(grafo.number_of_nodes(),grafo.number_of_edges() - grafo.number_of_nodes() , file=salida)\n",
    "    for u,v in grafo.edges:\n",
    "        if u<v:\n",
    "            print(u,v,grafo.get_edge_data(u,v)['weight'], file=salida)\n",
    "                    \n",
    "    return grafo"
   ]
  },
  {
   "cell_type": "code",
   "execution_count": 60,
   "id": "292cbbec-9882-48a1-82db-33b2c311d9e6",
   "metadata": {},
   "outputs": [],
   "source": [
    "#ORIGINAL\n",
    "\n",
    "# # https://campus.exactas.uba.ar/pluginfile.php/293726/mod_resource/content/1/lectura_instancia.ipynb\n",
    "# # pip3 install tsplib95\n",
    "\n",
    "# import tsplib95 as tl\n",
    "\n",
    "# def generar_instancia(archivo_entrada, archivo_salida):\n",
    "#     prob = tl.load(archivo_entrada)\n",
    "#     salida = open(archivo_salida,'w')\n",
    "        \n",
    "#     grafo = prob.get_graph()\n",
    "        \n",
    "#     print(grafo.number_of_nodes(),grafo.number_of_edges(), file=salida)\n",
    "#     for u,v in grafo.edges:\n",
    "#         if u<v:\n",
    "#             print(u,v,grafo.get_edge_data(u,v)['weight'], file=salida)\n",
    "                    \n",
    "#     return grafo"
   ]
  },
  {
   "cell_type": "code",
   "execution_count": 61,
   "id": "14c19d73-eb53-427b-b780-49b674c77b49",
   "metadata": {},
   "outputs": [],
   "source": [
    "grafo = generar_instancia(archivo_entrada='./instancias_entrada/berlin52.tsp.txt' , archivo_salida='./instancias_salida/berlin52.txt')"
   ]
  },
  {
   "cell_type": "code",
   "execution_count": 62,
   "id": "41f5acc0-18e1-405d-a2aa-5cbe953cdfb3",
   "metadata": {},
   "outputs": [],
   "source": [
    "grafo = generar_instancia(archivo_entrada='./instancias_entrada/burma14.tsp.txt' , archivo_salida='./instancias_salida/burma14.txt')"
   ]
  },
  {
   "cell_type": "code",
   "execution_count": 63,
   "id": "2cf2276a-e997-4756-ae06-311f81080725",
   "metadata": {},
   "outputs": [],
   "source": [
    "grafo = generar_instancia(archivo_entrada='./instancias_entrada/lin318.tsp.txt' , archivo_salida='./instancias_salida/lin318.txt')"
   ]
  },
  {
   "cell_type": "code",
   "execution_count": 64,
   "id": "7088016c",
   "metadata": {},
   "outputs": [],
   "source": [
    "grafo = generar_instancia(archivo_entrada='./instancias_entrada/pr226.tsp.txt' , archivo_salida='./instancias_salida/pr226.txt')"
   ]
  },
  {
   "cell_type": "code",
   "execution_count": 65,
   "id": "a5ee4ee4-4734-4de4-8215-1bde43af0227",
   "metadata": {},
   "outputs": [],
   "source": [
    "grafo = generar_instancia(archivo_entrada='./instancias_entrada/rl1323.tsp.txt' , archivo_salida='./instancias_salida/rl1323.txt')"
   ]
  },
  {
   "cell_type": "code",
   "execution_count": 66,
   "id": "593dcdd8-1c55-4931-895f-444a5ff47ec8",
   "metadata": {},
   "outputs": [],
   "source": [
    "grafo = generar_instancia(archivo_entrada='./instancias_entrada/d657.tsp.txt' , archivo_salida='./instancias_salida/d657.txt')"
   ]
  },
  {
   "cell_type": "code",
   "execution_count": null,
   "id": "b81f9754-6a93-4dfa-af97-122871d7a546",
   "metadata": {},
   "outputs": [],
   "source": []
  },
  {
   "cell_type": "code",
   "execution_count": null,
   "id": "0f75d812-55ae-4311-8894-d7851f0abbea",
   "metadata": {},
   "outputs": [],
   "source": [
    "# https://campus.exactas.uba.ar/pluginfile.php/293726/mod_resource/content/1/lectura_instancia.ipynb\n",
    "# pip3 install tsplib95\n",
    "\n",
    "import tsplib95 as tl\n",
    "\n",
    "def generar_instancia(archivo_entrada, archivo_salida):\n",
    "    prob = tl.load(archivo_entrada)\n",
    "    salida = open(archivo_salida,'w')\n",
    "        \n",
    "    grafo = prob.get_graph()\n",
    "    m = list(list())\n",
    "    \n",
    "    print(grafo.number_of_nodes(),grafo.number_of_edges() - grafo.number_of_nodes() , file=salida)\n",
    "    for u,v in grafo.edges:\n",
    "        if u<v:\n",
    "            print(u,v,grafo.get_edge_data(u,v)['weight'], file=salida)\n",
    "        m[u][v] = grafo.get_edge_data(u,v)['weight']\n",
    "                    \n",
    "    print(m)"
   ]
  }
 ],
 "metadata": {
  "kernelspec": {
   "display_name": "Python 3",
   "language": "python",
   "name": "python3"
  },
  "language_info": {
   "codemirror_mode": {
    "name": "ipython",
    "version": 3
   },
   "file_extension": ".py",
   "mimetype": "text/x-python",
   "name": "python",
   "nbconvert_exporter": "python",
   "pygments_lexer": "ipython3",
   "version": "3.8.6"
  }
 },
 "nbformat": 4,
 "nbformat_minor": 5
}
