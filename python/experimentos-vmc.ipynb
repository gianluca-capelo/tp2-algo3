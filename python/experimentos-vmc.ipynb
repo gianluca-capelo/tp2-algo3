{
 "cells": [
  {
   "cell_type": "markdown",
   "metadata": {},
   "source": [
    "# Correr experimentos\n",
    "En este archivo está el código para correr los experimentos y escribir los resultados en archivos CSV.\n",
    "> Los archivos se guardan en la carpeta _resultados_."
   ]
  },
  {
   "cell_type": "code",
   "execution_count": 34,
   "metadata": {},
   "outputs": [],
   "source": [
    "import math, subprocess\n",
    "import pandas as pd\n",
    "import numpy as np\n",
    "from IPython.display import display, clear_output"
   ]
  },
  {
   "cell_type": "markdown",
   "metadata": {},
   "source": [
    "A continuación leemos los datasets en dataframes de Pandas."
   ]
  },
  {
   "cell_type": "code",
   "execution_count": 35,
   "metadata": {},
   "outputs": [],
   "source": [
    "def leer_instancia(path_instancia):\n",
    "    with open(path_instancia, \"r\") as f:\n",
    "        return f.read();"
   ]
  },
  {
   "cell_type": "code",
   "execution_count": null,
   "metadata": {},
   "outputs": [],
   "source": [
    "pd.read_csv(\"instancias/mejor-caso-bt-f/indice.csv\");"
   ]
  },
  {
   "cell_type": "markdown",
   "metadata": {},
   "source": [
    "La siguiente función sirve para correr el código sobre una instancia ejecutando un método en particular.\n",
    "- FB: Fuerza bruta\n",
    "- BT: Backtracking con ambas podas.\n",
    "- BT-F: Backtracking solamente con poda por factibilidad.\n",
    "- BT-O: Backtracking solamente con poda por optimalidad.\n",
    "- PD: Programación dinámica."
   ]
  },
  {
   "cell_type": "code",
   "execution_count": 36,
   "metadata": {},
   "outputs": [],
   "source": [
    "def correr_experimento(metodo, archivo_instancia):\n",
    "    # Leer archivo de la instancia.\n",
    "    instancia = leer_instancia(archivo_instancia)\n",
    "    \n",
    "    # Crear proceso para ejecutar el codigo.\n",
    "    process = subprocess.Popen([\"../tp2\", metodo], stderr=subprocess.PIPE, stdout=subprocess.PIPE, stdin=subprocess.PIPE, universal_newlines = True)\n",
    "\n",
    "    # Poner la instancia en la entrada estandar.\n",
    "    process.stdin.write(instancia)\n",
    "    process.stdin.flush()\n",
    "\n",
    "    # Correr experimento.\n",
    "    exit_code = process.wait()\n",
    "\n",
    "    # Verificar que el proceso no fallo.\n",
    "    if exit_code != 0: raise(F\"Hubo un error en la experimentacion para el algoritmo: {metodo} con la instancia {archivo_instancia}.\")\n",
    "    # Leer salida de STDERR con los tiempos de ejecucion de cada metodo.\n",
    "    tiempo_de_ejecucion = float(process.stderr.read());\n",
    "    \n",
    "    \n",
    "    costo = process.stdout.read() # resultado del metodo\n",
    "    \n",
    "    \n",
    "    process.stdin.close();\n",
    "    process.stdout.close();\n",
    "    process.stderr.close();\n",
    "    \n",
    "    #return tiempo_de_ejecucion;\n",
    "    return costo;    "
   ]
  },
  {
   "cell_type": "markdown",
   "metadata": {},
   "source": [
    "## Corremos los experimentos\n",
    "Vamos a guardar una tabla con las ejecuciones y sus respectivos tiempos."
   ]
  },
  {
   "cell_type": "code",
   "execution_count": 18,
   "metadata": {},
   "outputs": [],
   "source": [
    "experimentos = [];"
   ]
  },
  {
   "cell_type": "code",
   "execution_count": 37,
   "metadata": {},
   "outputs": [
    {
     "name": "stdout",
     "output_type": "stream",
     "text": [
      "['ch150.txt', 'pr299.txt', 'a280.txt', 'berlin52.txt', 'd493.txt', 'd1291.txt', 'rd100.txt', 'burma14.txt', 'rl1304.txt', 'rl1323.txt', 'd657.txt', 'st70.txt', 'pr226.txt', 'lin318.txt']\n"
     ]
    }
   ],
   "source": [
    "from os import listdir\n",
    "from os.path import isfile, join\n",
    "\n",
    "def ls(ruta = './instancias_salida'):\n",
    "    return [arch for arch in listdir(ruta) if isfile(join(ruta, arch))]\n",
    "archivos_salida = ls()\n",
    "\n",
    "print(archivos_salida)"
   ]
  },
  {
   "cell_type": "code",
   "execution_count": 38,
   "metadata": {},
   "outputs": [
    {
     "name": "stdout",
     "output_type": "stream",
     "text": [
      "ch150.txt\n",
      "GANA VMC\n",
      "VMC: 8191\n",
      "Agm:9315\n",
      "-----------------------------\n",
      "pr299.txt\n",
      "GANA VMC\n",
      "VMC: 59890\n",
      "Agm:66918\n",
      "-----------------------------\n",
      "a280.txt\n",
      "GANA VMC\n",
      "VMC: 3157\n",
      "Agm:3492\n",
      "-----------------------------\n",
      "berlin52.txt\n",
      "GANA VMC\n",
      "VMC: 8980\n",
      "Agm:10402\n",
      "-----------------------------\n",
      "d493.txt\n",
      "GANA VMC\n",
      "VMC: 41665\n",
      "Agm:45334\n",
      "-----------------------------\n",
      "d1291.txt\n",
      "GANA VMC\n",
      "VMC: 60214\n",
      "Agm:74292\n",
      "-----------------------------\n",
      "rd100.txt\n",
      "GANA VMC\n",
      "VMC: 9938\n",
      "Agm:10467\n",
      "-----------------------------\n",
      "burma14.txt\n",
      "GANA AGM\n",
      "VMC: 4048\n",
      "Agm:4003\n",
      "-----------------------------\n",
      "rl1304.txt\n",
      "GANA VMC\n",
      "VMC: 335779\n",
      "Agm:376090\n",
      "-----------------------------\n",
      "rl1323.txt\n",
      "GANA VMC\n",
      "VMC: 332103\n",
      "Agm:390569\n",
      "-----------------------------\n",
      "d657.txt\n",
      "GANA VMC\n",
      "VMC: 61627\n",
      "Agm:65967\n",
      "-----------------------------\n",
      "st70.txt\n",
      "GANA VMC\n",
      "VMC: 830\n",
      "Agm:874\n",
      "-----------------------------\n",
      "pr226.txt\n",
      "GANA VMC\n",
      "VMC: 94683\n",
      "Agm:114702\n",
      "-----------------------------\n",
      "lin318.txt\n",
      "GANA VMC\n",
      "VMC: 54019\n",
      "Agm:60978\n",
      "-----------------------------\n"
     ]
    }
   ],
   "source": [
    "for a in archivos_salida:\n",
    "    \n",
    "    experimento_vmc = correr_experimento(\"VMC\",f\"instancias_salida/{a}\")\n",
    "    experimento_agm = correr_experimento(\"AGM\",f\"instancias_salida/{a}\")\n",
    "    print(a)\n",
    "    if(int(experimento_vmc.split()[1]) < int(experimento_agm.split()[1]) ):\n",
    "        print(\"GANA VMC\")\n",
    "        print(f\"VMC: {experimento_vmc.split()[1]}\")\n",
    "        print(f\"Agm:{experimento_agm.split()[1]}\")\n",
    "    else:\n",
    "        print(\"GANA AGM\")\n",
    "        print(f\"VMC: {experimento_vmc.split()[1]}\")\n",
    "        print(f\"Agm:{experimento_agm.split()[1]}\")\n",
    "    print(\"-----------------------------\")"
   ]
  },
  {
   "cell_type": "markdown",
   "metadata": {},
   "source": [
    "## Experimentacion VMC"
   ]
  },
  {
   "cell_type": "code",
   "execution_count": 25,
   "metadata": {},
   "outputs": [
    {
     "name": "stdout",
     "output_type": "stream",
     "text": [
      "52 8980\n",
      "1 22 49 32 36 35 34 39 40 38 37 48 24 5 15 6 4 25 46 44 16 50 20 23 31 18 3 19 45 41 8 10 9 43 33 51 12 28 27 26 47 13 14 52 11 29 30 21 17 42 7 2 \n",
      "\n"
     ]
    }
   ],
   "source": [
    "experimento_vmc = correr_experimento(\"VMC\",\"instancias_salida/berlin52.txt\")\n",
    "print(experimento_vmc)"
   ]
  },
  {
   "cell_type": "code",
   "execution_count": 27,
   "metadata": {},
   "outputs": [
    {
     "data": {
      "text/plain": [
       "'8980'"
      ]
     },
     "execution_count": 27,
     "metadata": {},
     "output_type": "execute_result"
    }
   ],
   "source": [
    "experimento_vmc.split()[1]"
   ]
  },
  {
   "cell_type": "markdown",
   "metadata": {},
   "source": [
    "## Experimento Fuerza Bruta : Pocas/Muchas soluciones"
   ]
  },
  {
   "cell_type": "code",
   "execution_count": 47,
   "metadata": {},
   "outputs": [],
   "source": [
    "for i in range(0, df_fbms.shape[0]):\n",
    "    fila = df_fbms.iloc[i];\n",
    "    n = fila[\"n\"] \n",
    "    if (n <= 25):\n",
    "        experimentos.append([fila[\"dataset\"], fila[\"n\"], fila[\"R\"], \"FB\", fila[\"archivo\"]]);\n",
    "    \n",
    "for i in range(0, df_fbps.shape[0]):\n",
    "    fila = df_fbps.iloc[i];\n",
    "    n = fila[\"n\"] \n",
    "    if (n <= 25):\n",
    "        experimentos.append([fila[\"dataset\"], fila[\"n\"], fila[\"R\"], \"FB\", fila[\"archivo\"]]);"
   ]
  },
  {
   "cell_type": "markdown",
   "metadata": {},
   "source": [
    "## Experimento Back Tracking - Mejor caso poda por factibilidad == Peor caso optimalidad\n"
   ]
  },
  {
   "cell_type": "code",
   "execution_count": 48,
   "metadata": {},
   "outputs": [],
   "source": [
    "# mejor caso factibilidad\n",
    "\n",
    "for n in range(0, df_mejor_caso_bt_f.shape[0]):\n",
    "    fila_n = df_mejor_caso_bt_f.iloc[n];\n",
    "    experimentos.append([fila_n[\"dataset\"], n, fila_n[\"R\"], \"BT-F\", fila_n[\"archivo\"]]);"
   ]
  },
  {
   "cell_type": "code",
   "execution_count": 80,
   "metadata": {},
   "outputs": [],
   "source": [
    "# peor caso optimalidad\n",
    "for n in range(0, df_mejor_caso_bt_f.shape[0]):\n",
    "    fila_n = df_mejor_caso_bt_f.iloc[n];\n",
    "    tam = fila_n[\"n\"] \n",
    "    if (tam < 30):\n",
    "        experimentos.append([fila_n[\"dataset\"], n, fila_n[\"R\"], \"BT-O\", fila_n[\"archivo\"]]);"
   ]
  },
  {
   "cell_type": "markdown",
   "metadata": {},
   "source": [
    "## Experimento Back Tracking - Peor caso Factibilidad"
   ]
  },
  {
   "cell_type": "code",
   "execution_count": 81,
   "metadata": {},
   "outputs": [],
   "source": [
    "#peor caso factibilidad\n",
    "for n in range(0, df_peor_caso_bt_f.shape[0]):\n",
    "    \n",
    "    fila_n = df_peor_caso_bt_f.iloc[n];\n",
    "    tam = fila_n[\"n\"] \n",
    "    if (tam < 30):\n",
    "        experimentos.append([fila_n[\"dataset\"], n, fila_n[\"R\"], \"BT-F\", fila_n[\"archivo\"]]);"
   ]
  },
  {
   "cell_type": "code",
   "execution_count": 62,
   "metadata": {},
   "outputs": [],
   "source": [
    "#mejor caso optimalidad\n",
    "for n in range(0, df_peor_caso_bt_f.shape[0]):\n",
    "    fila_n = df_peor_caso_bt_f.iloc[n];\n",
    "    experimentos.append([fila_n[\"dataset\"], n, fila_n[\"R\"], \"BT-O\", fila_n[\"archivo\"]]);"
   ]
  },
  {
   "cell_type": "markdown",
   "metadata": {},
   "source": [
    "## Experimento Campana de Back Tracking"
   ]
  },
  {
   "cell_type": "code",
   "execution_count": 52,
   "metadata": {},
   "outputs": [],
   "source": [
    "for i in range(0, df_bt.shape[0]):\n",
    "    fila = df_bt.iloc[i];\n",
    "    experimentos.append([fila[\"dataset\"], fila[\"n\"], fila[\"R\"], \"BT\", fila[\"archivo\"]]);"
   ]
  },
  {
   "cell_type": "markdown",
   "metadata": {},
   "source": [
    "## Experimento Programacion Dinamica\n"
   ]
  },
  {
   "cell_type": "code",
   "execution_count": 53,
   "metadata": {},
   "outputs": [],
   "source": [
    "for i in range(0, df_dinamica.shape[0]):\n",
    "    fila = df_dinamica.iloc[i];\n",
    "    experimentos.append([fila[\"dataset\"], fila[\"n\"], fila[\"R\"], \"PD\", fila[\"archivo\"]]);  "
   ]
  },
  {
   "cell_type": "markdown",
   "metadata": {},
   "source": [
    "## Experimento :BT vs. PD"
   ]
  },
  {
   "cell_type": "code",
   "execution_count": 54,
   "metadata": {},
   "outputs": [],
   "source": [
    "for i in range(0, df_fbps.shape[0]):\n",
    "    fila = df_fbps.iloc[i];\n",
    "    experimentos.append([fila[\"dataset\"], fila[\"n\"], fila[\"R\"], \"PD\", fila[\"archivo\"]]);\n",
    "    experimentos.append([fila[\"dataset\"], fila[\"n\"], fila[\"R\"], \"BT\", fila[\"archivo\"]]);    "
   ]
  },
  {
   "cell_type": "markdown",
   "metadata": {},
   "source": [
    "## Ejecutar los experimentos y guardar los resultados en un archivo CSV.\n",
    "Este paso puede tardar unos minutos hasta terminar de ejecutarse."
   ]
  },
  {
   "cell_type": "code",
   "execution_count": 82,
   "metadata": {},
   "outputs": [
    {
     "data": {
      "text/plain": [
       "'Experimento: 58/58'"
      ]
     },
     "metadata": {},
     "output_type": "display_data"
    }
   ],
   "source": [
    "columnas = [\"dataset\", \"n\", \"R\", \"metodo\", \"tiempo\"];\n",
    "filas = [];\n",
    "numero = 1\n",
    "T = 5 # Numero de veces que se ejecuta cada experimento (para mayor fidelidad del tiempo).\n",
    "for experimento in experimentos:\n",
    "    # Voy mostrando que experimento se esta ejecutando.\n",
    "    clear_output(wait=True)\n",
    "    display('Experimento: ' + str(numero) + \"/\" + str(len(experimentos)))\n",
    "    numero += 1\n",
    "    \n",
    "    # Ejecutamos el experimento T veces y obtenemos la mediana.\n",
    "    tiempos = []\n",
    "    resultados = []\n",
    "    for i in range(0, T):\n",
    "        t = correr_experimento(experimento[3], experimento[4])\n",
    "        tiempos.append(t);\n",
    "    tiempo = np.median(tiempos);\n",
    "    filas.append([experimento[0], experimento[1], experimento[2], experimento[3], tiempo]);\n"
   ]
  },
  {
   "cell_type": "code",
   "execution_count": 56,
   "metadata": {},
   "outputs": [],
   "source": [
    "df_resultados = pd.DataFrame(filas, columns=columnas);\n",
    "\n",
    "df_resultados.to_csv(\"resultados/resultado.csv\", index=False, header=True);"
   ]
  },
  {
   "cell_type": "code",
   "execution_count": 57,
   "metadata": {
    "scrolled": true
   },
   "outputs": [
    {
     "data": {
      "text/html": [
       "<div>\n",
       "<style scoped>\n",
       "    .dataframe tbody tr th:only-of-type {\n",
       "        vertical-align: middle;\n",
       "    }\n",
       "\n",
       "    .dataframe tbody tr th {\n",
       "        vertical-align: top;\n",
       "    }\n",
       "\n",
       "    .dataframe thead th {\n",
       "        text-align: right;\n",
       "    }\n",
       "</style>\n",
       "<table border=\"1\" class=\"dataframe\">\n",
       "  <thead>\n",
       "    <tr style=\"text-align: right;\">\n",
       "      <th></th>\n",
       "      <th>dataset</th>\n",
       "      <th>n</th>\n",
       "      <th>R</th>\n",
       "      <th>metodo</th>\n",
       "      <th>tiempo</th>\n",
       "    </tr>\n",
       "  </thead>\n",
       "  <tbody>\n",
       "    <tr>\n",
       "      <th>0</th>\n",
       "      <td>muchas-soluciones-validas</td>\n",
       "      <td>1</td>\n",
       "      <td>1000</td>\n",
       "      <td>FB</td>\n",
       "      <td>0.000972</td>\n",
       "    </tr>\n",
       "    <tr>\n",
       "      <th>1</th>\n",
       "      <td>muchas-soluciones-validas</td>\n",
       "      <td>2</td>\n",
       "      <td>1000</td>\n",
       "      <td>FB</td>\n",
       "      <td>0.001113</td>\n",
       "    </tr>\n",
       "    <tr>\n",
       "      <th>2</th>\n",
       "      <td>muchas-soluciones-validas</td>\n",
       "      <td>3</td>\n",
       "      <td>1000</td>\n",
       "      <td>FB</td>\n",
       "      <td>0.000979</td>\n",
       "    </tr>\n",
       "    <tr>\n",
       "      <th>3</th>\n",
       "      <td>muchas-soluciones-validas</td>\n",
       "      <td>4</td>\n",
       "      <td>1000</td>\n",
       "      <td>FB</td>\n",
       "      <td>0.001044</td>\n",
       "    </tr>\n",
       "    <tr>\n",
       "      <th>4</th>\n",
       "      <td>muchas-soluciones-validas</td>\n",
       "      <td>5</td>\n",
       "      <td>1000</td>\n",
       "      <td>FB</td>\n",
       "      <td>0.001243</td>\n",
       "    </tr>\n",
       "    <tr>\n",
       "      <th>...</th>\n",
       "      <td>...</td>\n",
       "      <td>...</td>\n",
       "      <td>...</td>\n",
       "      <td>...</td>\n",
       "      <td>...</td>\n",
       "    </tr>\n",
       "    <tr>\n",
       "      <th>7538</th>\n",
       "      <td>pocas-soluciones-validas</td>\n",
       "      <td>397</td>\n",
       "      <td>1000</td>\n",
       "      <td>BT</td>\n",
       "      <td>2.885890</td>\n",
       "    </tr>\n",
       "    <tr>\n",
       "      <th>7539</th>\n",
       "      <td>pocas-soluciones-validas</td>\n",
       "      <td>398</td>\n",
       "      <td>1000</td>\n",
       "      <td>PD</td>\n",
       "      <td>1.131720</td>\n",
       "    </tr>\n",
       "    <tr>\n",
       "      <th>7540</th>\n",
       "      <td>pocas-soluciones-validas</td>\n",
       "      <td>398</td>\n",
       "      <td>1000</td>\n",
       "      <td>BT</td>\n",
       "      <td>2.972470</td>\n",
       "    </tr>\n",
       "    <tr>\n",
       "      <th>7541</th>\n",
       "      <td>pocas-soluciones-validas</td>\n",
       "      <td>399</td>\n",
       "      <td>1000</td>\n",
       "      <td>PD</td>\n",
       "      <td>1.110550</td>\n",
       "    </tr>\n",
       "    <tr>\n",
       "      <th>7542</th>\n",
       "      <td>pocas-soluciones-validas</td>\n",
       "      <td>399</td>\n",
       "      <td>1000</td>\n",
       "      <td>BT</td>\n",
       "      <td>3.152460</td>\n",
       "    </tr>\n",
       "  </tbody>\n",
       "</table>\n",
       "<p>7543 rows × 5 columns</p>\n",
       "</div>"
      ],
      "text/plain": [
       "                        dataset    n     R metodo    tiempo\n",
       "0     muchas-soluciones-validas    1  1000     FB  0.000972\n",
       "1     muchas-soluciones-validas    2  1000     FB  0.001113\n",
       "2     muchas-soluciones-validas    3  1000     FB  0.000979\n",
       "3     muchas-soluciones-validas    4  1000     FB  0.001044\n",
       "4     muchas-soluciones-validas    5  1000     FB  0.001243\n",
       "...                         ...  ...   ...    ...       ...\n",
       "7538   pocas-soluciones-validas  397  1000     BT  2.885890\n",
       "7539   pocas-soluciones-validas  398  1000     PD  1.131720\n",
       "7540   pocas-soluciones-validas  398  1000     BT  2.972470\n",
       "7541   pocas-soluciones-validas  399  1000     PD  1.110550\n",
       "7542   pocas-soluciones-validas  399  1000     BT  3.152460\n",
       "\n",
       "[7543 rows x 5 columns]"
      ]
     },
     "execution_count": 57,
     "metadata": {},
     "output_type": "execute_result"
    }
   ],
   "source": [
    "df_resultados"
   ]
  }
 ],
 "metadata": {
  "kernelspec": {
   "display_name": "Python 3",
   "language": "python",
   "name": "python3"
  },
  "language_info": {
   "codemirror_mode": {
    "name": "ipython",
    "version": 3
   },
   "file_extension": ".py",
   "mimetype": "text/x-python",
   "name": "python",
   "nbconvert_exporter": "python",
   "pygments_lexer": "ipython3",
   "version": "3.8.5"
  }
 },
 "nbformat": 4,
 "nbformat_minor": 4
}
