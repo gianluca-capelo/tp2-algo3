{
 "cells": [
  {
   "cell_type": "markdown",
   "metadata": {},
   "source": [
    "# Generador de instancias\n",
    "En este notebook está el código para generar los sets de instancias que se usan para experimentar.\n",
    "- Estas instancias van a ser guardadas en la carpeta __instancias__.\n",
    "- Cada set estará en su propia carpeta y tendrá un archivo _indice.csv_ que contendrá información sobre las instancias."
   ]
  },
  {
   "cell_type": "code",
   "execution_count": 1,
   "metadata": {},
   "outputs": [],
   "source": [
    "import random, math\n",
    "import pandas as pd"
   ]
  },
  {
   "cell_type": "code",
   "execution_count": 2,
   "metadata": {},
   "outputs": [],
   "source": [
    "# n : cantidad de vertices del grafo\n",
    "#Inicios: todos los v de cada arista v->w\n",
    "#Destinos: todos los w de cada arista v->w\n",
    "#Pesos: todos los pesos de cada arista v->w\n",
    "\n",
    "def save_instance(dataset, instance_name,n, Inicios,Destinos, Pesos):\n",
    "    with open(F\"instancias/{dataset}/{instance_name}.txt\", \"w\") as f:\n",
    "        \n",
    "        print(n, len(Inicios), file=f)\n",
    "\n",
    "        for i in range(len(Pesos)): \n",
    "            print(Inicios[i], file=f, end=\" \")\n",
    "            print(Destinos[i], file=f, end=\" \")\n",
    "            print(Pesos[i], file=f)\n",
    "            \n",
    "def save_index(dataset, instances):\n",
    "    with open(F\"instancias/{dataset}/instances.txt\", \"w\") as f:\n",
    "        for instance in instances: \n",
    "            print(instance, file=f)"
   ]
  },
  {
   "cell_type": "markdown",
   "metadata": {},
   "source": [
    "## Instancias aleatorias complejidad\n",
    "\n"
   ]
  },
  {
   "cell_type": "code",
   "execution_count": 3,
   "metadata": {},
   "outputs": [],
   "source": [
    "def save_instance_rand(n):\n",
    "        with open(F\"instancias_aleatorias/instancia_{n}.txt\", \"w\") as f:\n",
    "            print(n,(n*(n-1)//2),file=f,end=\"\\n\")\n",
    "            for u in range(1,n+1):\n",
    "                for v in range(1,n+1):\n",
    "                    if u<v:\n",
    "                        rand = random.randrange(10,300,1) \n",
    "                        print(u,v,rand, file=f,end=\"\\n\")\n",
    "\n",
    "def save_instance_rand(n):\n",
    "        with open(F\"instancias_aleatorias/agm-ins/instancia_{n}.txt\", \"w\") as f:\n",
    "            print(n,(n*(n-1)//2),file=f,end=\"\\n\")\n",
    "            for u in range(1,n+1):\n",
    "                for v in range(1,n+1):\n",
    "                    if u<v:\n",
    "                        rand = random.randrange(10,300,1) \n",
    "                        print(u,v,rand, file=f,end=\"\\n\")"
   ]
  },
  {
   "cell_type": "code",
   "execution_count": 7,
   "metadata": {},
   "outputs": [],
   "source": [
    "filas_indice = []\n",
    "for n in range(10,300,10):\n",
    "    \n",
    "    save_instance_rand_agm_ins(n)\n",
    "    filas_indice.append([\"dataset_aleatorias\", F\"aletorias_{n}\", n, F\"instancias_aleatorias/complejidad/instancia_{n}.txt\"])\n",
    "    \n",
    "pd.DataFrame(filas_indice, columns=[\"dataset\", \"instancia\", \"n\", \"archivo\"]).to_csv(\"instancias_aleatorias/indice.csv\", index=False, header=True)\n"
   ]
  },
  {
   "cell_type": "code",
   "execution_count": null,
   "metadata": {},
   "outputs": [],
   "source": []
  },
  {
   "cell_type": "markdown",
   "metadata": {},
   "source": [
    "## Instancias aleatorias agm ins vmc\n",
    "\n"
   ]
  },
  {
   "cell_type": "code",
   "execution_count": 4,
   "metadata": {},
   "outputs": [],
   "source": [
    "filas_indice = []\n",
    "for n in range(50,151,50):\n",
    "    \n",
    "    save_instance_rand(n)\n",
    "    filas_indice.append([\"dataset_aleatorias_agm_ins\", F\"aletorias_{n}\", n, F\"instancias_aleatorias/agm-ins/instancia_{n}.txt\"])\n",
    "    \n",
    "pd.DataFrame(filas_indice, columns=[\"dataset\", \"instancia\", \"n\", \"archivo\"]).to_csv(\"instancias_aleatorias/agm-ins/indice.csv\", index=False, header=True)\n"
   ]
  },
  {
   "cell_type": "code",
   "execution_count": null,
   "metadata": {},
   "outputs": [],
   "source": []
  }
 ],
 "metadata": {
  "kernelspec": {
   "display_name": "Python 3",
   "language": "python",
   "name": "python3"
  },
  "language_info": {
   "codemirror_mode": {
    "name": "ipython",
    "version": 3
   },
   "file_extension": ".py",
   "mimetype": "text/x-python",
   "name": "python",
   "nbconvert_exporter": "python",
   "pygments_lexer": "ipython3",
   "version": "3.8.5"
  }
 },
 "nbformat": 4,
 "nbformat_minor": 4
}
