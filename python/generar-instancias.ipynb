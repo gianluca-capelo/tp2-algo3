{
 "cells": [
  {
   "cell_type": "markdown",
   "metadata": {},
   "source": [
    "# Generador de instancias\n",
    "En este notebook está el código para generar los sets de instancias que se usan para experimentar.\n",
    "- Estas instancias van a ser guardadas en la carpeta __instancias__.\n",
    "- Cada set estará en su propia carpeta y tendrá un archivo _indice.csv_ que contendrá información sobre las instancias."
   ]
  },
  {
   "cell_type": "code",
   "execution_count": 1,
   "metadata": {},
   "outputs": [],
   "source": [
    "import random, math\n",
    "import pandas as pd"
   ]
  },
  {
   "cell_type": "code",
   "execution_count": 4,
   "metadata": {},
   "outputs": [],
   "source": [
    "def save_instance(dataset, instance_name, Pesos,Resistencias, R):\n",
    "    with open(F\"instancias/{dataset}/{instance_name}.txt\", \"w\") as f:\n",
    "          \n",
    "        print(len(Pesos), R, file=f)\n",
    "\n",
    "        for i in range(len(Pesos)): \n",
    "            print(Pesos[i], file=f, end=\" \")\n",
    "            print(Resistencias[i], file=f)\n",
    "\n",
    "def save_index(dataset, instances):\n",
    "    with open(F\"instancias/{dataset}/instances.txt\", \"w\") as f:\n",
    "        for instance in instances: \n",
    "            print(instance, file=f)"
   ]
  },
  {
   "cell_type": "markdown",
   "metadata": {},
   "source": [
    "## Dataset 2 - Pocas/Muchas soluciones validas\n",
    "\n",
    "#### pocas : productos pesados\n",
    "#### muchas: productos livianos"
   ]
  },
  {
   "cell_type": "code",
   "execution_count": 5,
   "metadata": {},
   "outputs": [],
   "source": [
    "#Muchas Soluciones\n",
    "\n",
    "filas_indice = []\n",
    "R = 1000  \n",
    "\n",
    "for n in range(1,40):\n",
    "    \n",
    "    Pesos = [random.randrange(1,R*0.2,1) for i in range(0, n)]\n",
    "    Resistencias = [random.randrange(R*0.8,R, 10) for i in range(0,n)] \n",
    "    \n",
    "    save_instance(\"muchas-soluciones-validas\", F\"FB-MS-{n}\", Pesos,Resistencias, R)\n",
    "    filas_indice.append([\"muchas-soluciones-validas\", F\"FB-MS-{n}\", n, R, F\"instancias/muchas-soluciones-validas/FB-MS-{n}.txt\"])\n",
    "pd.DataFrame(filas_indice, columns=[\"dataset\", \"instancia\", \"n\", \"R\", \"archivo\"]).to_csv(\"instancias/muchas-soluciones-validas/indice.csv\", index=False, header=True)\n"
   ]
  },
  {
   "cell_type": "code",
   "execution_count": 6,
   "metadata": {},
   "outputs": [],
   "source": [
    "#Pocas Soluciones\n",
    "random.seed(10)\n",
    "\n",
    "filas_indice = []\n",
    "R = 1000 \n",
    "\n",
    "for n in range(1, 400): \n",
    "   \n",
    "    Pesos = [random.randrange(R*0.4,R,1) for i in range(0, n)]\n",
    "    Resistencias = [random.randrange(R*0.8,R, 10) for i in range(0,n)] \n",
    "    \n",
    "    save_instance(\"pocas-soluciones-validas\", F\"FB-PS-{n}\", Pesos,Resistencias, R)\n",
    "    filas_indice.append([\"pocas-soluciones-validas\", F\"FB-PS-{n}\", n, R, F\"instancias/pocas-soluciones-validas/FB-PS-{n}.txt\"])\n",
    "pd.DataFrame(filas_indice, columns=[\"dataset\", \"instancia\", \"n\", \"R\", \"archivo\"]).to_csv(\"instancias/pocas-soluciones-validas/indice.csv\", index=False, header=True)"
   ]
  },
  {
   "cell_type": "markdown",
   "metadata": {},
   "source": [
    "## Dataset 3  - Mejor caso Factibilidad\n"
   ]
  },
  {
   "cell_type": "code",
   "execution_count": 12,
   "metadata": {},
   "outputs": [],
   "source": [
    "filas_indice = []\n",
    "for n in range(1, 1000): \n",
    "    R = 1000\n",
    "    Pesos = [R+1 for i in range(0, n)]\n",
    "    Resistencias = [random.randrange(1, 100, 1) for i in range(0,n)] # arbitrario\n",
    "    save_instance(\"mejor-caso-bt-f\", F\"BT-MC-F-{n}\", Pesos,Resistencias, R)\n",
    "    filas_indice.append([\"mejor-caso-bt-f\", F\"BT-MC-F-{n}\", n, R, F\"instancias/mejor-caso-bt-f/BT-MC-F-{n}.txt\"])\n",
    "pd.DataFrame(filas_indice, columns=[\"dataset\", \"instancia\", \"n\", \"R\", \"archivo\"]).to_csv(\"instancias/mejor-caso-bt-f/indice.csv\", index=False, header=True)"
   ]
  },
  {
   "cell_type": "markdown",
   "metadata": {},
   "source": [
    "## Dataset 3 bis - Peor caso Factibilidad"
   ]
  },
  {
   "cell_type": "code",
   "execution_count": 13,
   "metadata": {},
   "outputs": [],
   "source": [
    "filas_indice = []\n",
    "for n in range(1, 1000): \n",
    "    R = 1000\n",
    "    Pesos = [1 for i in range(0, n)]\n",
    "    Resistencias = [R for i in range(0,n)] # arbitrario\n",
    "    save_instance(\"peor-caso-bt-f\", F\"BT-PC-F-{n}\", Pesos,Resistencias, R)\n",
    "    filas_indice.append([\"peor-caso-bt-f\", F\"BT-PC-F-{n}\", n, R, F\"instancias/peor-caso-bt-f/BT-PC-F-{n}.txt\"])\n",
    "pd.DataFrame(filas_indice, columns=[\"dataset\", \"instancia\", \"n\", \"R\", \"archivo\"]).to_csv(\"instancias/peor-caso-bt-f/indice.csv\", index=False, header=True)"
   ]
  },
  {
   "cell_type": "markdown",
   "metadata": {},
   "source": [
    "## Dataset 4 - Campana BackTracking"
   ]
  },
  {
   "cell_type": "code",
   "execution_count": 10,
   "metadata": {},
   "outputs": [],
   "source": [
    "desde = 1\n",
    "hasta = 300\n",
    "filas_indice = []\n",
    "\n",
    "for n in range(1,31):\n",
    "    Pesos = [i for i in range(1, n+1)]\n",
    "    Resistencias = [random.randrange(max(1,math.floor(n*(n-1)/8)), max(2,math.floor(n*(n-1)/2)), 1) for i in range(n)]\n",
    "    random.shuffle(Pesos)\n",
    "    random.shuffle(Resistencias)\n",
    "    for R in range(desde, hasta, 2):\n",
    "        save_instance(\"bt\", F\"BT-{n}-{R}\", Pesos,Resistencias, R)\n",
    "        filas_indice.append([\"bt\", F\"BT-{n}-{R}\", n, R, F\"instancias/bt/BT-{n}-{R}.txt\"])\n",
    "pd.DataFrame(filas_indice, columns=[\"dataset\", \"instancia\", \"n\", \"R\", \"archivo\"]).to_csv(\"instancias/bt/indice.csv\", index=False, header=True)"
   ]
  },
  {
   "cell_type": "markdown",
   "metadata": {},
   "source": [
    "## Dataset 5 - Programacion Dinamica \n",
    "### mismo que muchas soluciones sobre un rango mas amplio de n y R"
   ]
  },
  {
   "cell_type": "code",
   "execution_count": 11,
   "metadata": {},
   "outputs": [],
   "source": [
    "desde = 1000\n",
    "hasta = 8000\n",
    "filas_indice = []\n",
    "\n",
    "for n in range(desde, hasta, 500):\n",
    "    for R in range(desde, hasta, 500):\n",
    "    \n",
    "        Pesos = [random.randrange(1,R*0.2,1) for i in range(0, n)]\n",
    "        Resistencias = [random.randrange(R*0.8,R, 10) for i in range(0,n)] \n",
    "\n",
    "        save_instance(\"dinamica\", F\"DP-{n}-{R}\", Pesos, Resistencias, R)\n",
    "        filas_indice.append([\"dinamica\", F\"DP-{n}-{R}\", n, R, F\"instancias/dinamica/DP-{n}-{R}.txt\"])\n",
    "\n",
    "pd.DataFrame(filas_indice, columns=[\"dataset\", \"instancia\", \"n\", \"R\", \"archivo\"]).to_csv(\"instancias/dinamica/indice.csv\", index=False, header=True)"
   ]
  }
 ],
 "metadata": {
  "kernelspec": {
   "display_name": "Python 3",
   "language": "python",
   "name": "python3"
  },
  "language_info": {
   "codemirror_mode": {
    "name": "ipython",
    "version": 3
   },
   "file_extension": ".py",
   "mimetype": "text/x-python",
   "name": "python",
   "nbconvert_exporter": "python",
   "pygments_lexer": "ipython3",
   "version": "3.8.5"
  }
 },
 "nbformat": 4,
 "nbformat_minor": 4
}
