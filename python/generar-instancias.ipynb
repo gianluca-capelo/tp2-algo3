{
 "cells": [
  {
   "cell_type": "markdown",
   "metadata": {},
   "source": [
    "# Generador de instancias\n",
    "En este notebook está el código para generar los sets de instancias que se usan para experimentar.\n",
    "- Estas instancias van a ser guardadas en la carpeta __instancias__.\n",
    "- Cada set estará en su propia carpeta y tendrá un archivo _indice.csv_ que contendrá información sobre las instancias."
   ]
  },
  {
   "cell_type": "code",
   "execution_count": 19,
   "metadata": {},
   "outputs": [],
   "source": [
    "import random, math\n",
    "import pandas as pd"
   ]
  },
  {
   "cell_type": "code",
   "execution_count": 20,
   "metadata": {},
   "outputs": [],
   "source": [
    "# n : cantidad de vertices del grafo\n",
    "#Inicios: todos los v de cada arista v->w\n",
    "#Destinos: todos los w de cada arista v->w\n",
    "#Pesos: todos los pesos de cada arista v->w\n",
    "\n",
    "def save_instance(dataset, instance_name,n, Inicios,Destinos, Pesos):\n",
    "    with open(F\"instancias/{dataset}/{instance_name}.txt\", \"w\") as f:\n",
    "        \n",
    "        print(n, len(Inicios), file=f)\n",
    "\n",
    "        for i in range(len(Pesos)): \n",
    "            print(Inicios[i], file=f, end=\" \")\n",
    "            print(Destinos[i], file=f, end=\" \")\n",
    "            print(Pesos[i], file=f)\n",
    "            \n",
    "\n",
    "def save_index(dataset, instances):\n",
    "    with open(F\"instancias/{dataset}/instances.txt\", \"w\") as f:\n",
    "        for instance in instances: \n",
    "            print(instance, file=f)"
   ]
  },
  {
   "cell_type": "markdown",
   "metadata": {},
   "source": [
    "## Instancias aleatorias\n"
   ]
  },
  {
   "cell_type": "code",
   "execution_count": 34,
   "metadata": {},
   "outputs": [],
   "source": [
    "def save_instance_rand(n):\n",
    "        with open(F\"instancias_aleatorias/instancia_{n}.txt\", \"w\") as f:\n",
    "            print(n,(n*(n-1)//2),file=f,end=\"\\n\")\n",
    "            for u in range(1,n+1):\n",
    "                for v in range(1,n+1):\n",
    "                    if u<v:\n",
    "                        rand = random.randrange(10,300,1) \n",
    "                        print(u,v,rand, file=f,end=\"\\n\")"
   ]
  },
  {
   "cell_type": "code",
   "execution_count": 35,
   "metadata": {},
   "outputs": [],
   "source": [
    "filas_indice = []\n",
    "\n",
    "for n in range(10,800,10):\n",
    "    \n",
    "    save_instance_rand(n)\n",
    "    filas_indice.append([\"dataset_aleatorias\", F\"aletorias_{n}\", n, F\"instancias_aleatorias/instancia_{n}.txt\"])\n",
    "    \n",
    "pd.DataFrame(filas_indice, columns=[\"dataset\", \"instancia\", \"n\", \"archivo\"]).to_csv(\"instancias_aleatorias/indice.csv\", index=False, header=True)\n"
   ]
  },
  {
   "cell_type": "markdown",
   "metadata": {},
   "source": [
    "## Ejemplo TP1\n",
    "\n",
    "## Dataset 2 - Pocas/Muchas soluciones validas\n"
   ]
  },
  {
   "cell_type": "code",
   "execution_count": 33,
   "metadata": {},
   "outputs": [],
   "source": [
    "#Muchas Soluciones\n",
    "\n",
    "filas_indice = []\n",
    "R = 1000  \n",
    "\n",
    "for n in range(1,40):\n",
    "    \n",
    "    Pesos = [random.randrange(1,R*0.2,1) for i in range(0, n)]\n",
    "    Resistencias = [random.randrange(R*0.8,R, 10) for i in range(0,n)] \n",
    "    \n",
    "    save_instance(\"muchas-soluciones-validas\", F\"FB-MS-{n}\", Pesos,Resistencias, R)\n",
    "    filas_indice.append([\"muchas-soluciones-validas\", F\"FB-MS-{n}\", n, R, F\"instancias/muchas-soluciones-validas/FB-MS-{n}.txt\"])\n",
    "pd.DataFrame(filas_indice, columns=[\"dataset\", \"instancia\", \"n\", \"R\", \"archivo\"]).to_csv(\"instancias/muchas-soluciones-validas/indice.csv\", index=False, header=True)\n"
   ]
  }
 ],
 "metadata": {
  "kernelspec": {
   "display_name": "Python 3",
   "language": "python",
   "name": "python3"
  },
  "language_info": {
   "codemirror_mode": {
    "name": "ipython",
    "version": 3
   },
   "file_extension": ".py",
   "mimetype": "text/x-python",
   "name": "python",
   "nbconvert_exporter": "python",
   "pygments_lexer": "ipython3",
   "version": "3.8.10"
  }
 },
 "nbformat": 4,
 "nbformat_minor": 4
}
