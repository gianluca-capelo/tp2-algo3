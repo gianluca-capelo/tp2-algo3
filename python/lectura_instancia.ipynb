{
 "cells": [
  {
   "cell_type": "code",
   "execution_count": 59,
   "id": "33cdbe49-3a9a-4818-8e01-cb304adb3e82",
   "metadata": {},
   "outputs": [],
   "source": [
    "# https://campus.exactas.uba.ar/pluginfile.php/293726/mod_resource/content/1/lectura_instancia.ipynb\n",
    "# pip3 install tsplib95\n",
    "\n",
    "import tsplib95 as tl\n",
    "\n",
    "def generar_instancia(archivo_entrada, archivo_salida):\n",
    "    prob = tl.load(archivo_entrada)\n",
    "    salida = open(archivo_salida,'w')\n",
    "        \n",
    "    grafo = prob.get_graph()\n",
    "    \n",
    "    print(grafo.number_of_nodes(),grafo.number_of_edges() - grafo.number_of_nodes() , file=salida)\n",
    "    for u,v in grafo.edges:\n",
    "        if u<v:\n",
    "            print(u,v,grafo.get_edge_data(u,v)['weight'], file=salida)\n",
    "                    \n",
    "    return grafo"
   ]
  },
  {
   "cell_type": "code",
   "execution_count": 60,
   "id": "292cbbec-9882-48a1-82db-33b2c311d9e6",
   "metadata": {},
   "outputs": [],
   "source": [
    "#ORIGINAL\n",
    "\n",
    "# # https://campus.exactas.uba.ar/pluginfile.php/293726/mod_resource/content/1/lectura_instancia.ipynb\n",
    "# # pip3 install tsplib95\n",
    "\n",
    "# import tsplib95 as tl\n",
    "\n",
    "# def generar_instancia(archivo_entrada, archivo_salida):\n",
    "#     prob = tl.load(archivo_entrada)\n",
    "#     salida = open(archivo_salida,'w')\n",
    "        \n",
    "#     grafo = prob.get_graph()\n",
    "        \n",
    "#     print(grafo.number_of_nodes(),grafo.number_of_edges(), file=salida)\n",
    "#     for u,v in grafo.edges:\n",
    "#         if u<v:\n",
    "#             print(u,v,grafo.get_edge_data(u,v)['weight'], file=salida)\n",
    "                    \n",
    "#     return grafo"
   ]
  },
  {
   "cell_type": "code",
   "execution_count": 61,
   "id": "14c19d73-eb53-427b-b780-49b674c77b49",
   "metadata": {},
   "outputs": [],
   "source": [
    "grafo = generar_instancia(archivo_entrada='./instancias_entrada/berlin52.tsp.txt' , archivo_salida='./instancias_salida/berlin52.txt')"
   ]
  },
  {
   "cell_type": "code",
   "execution_count": 62,
   "id": "41f5acc0-18e1-405d-a2aa-5cbe953cdfb3",
   "metadata": {},
   "outputs": [],
   "source": [
    "grafo = generar_instancia(archivo_entrada='./instancias_entrada/burma14.tsp.txt' , archivo_salida='./instancias_salida/burma14.txt')"
   ]
  },
  {
   "cell_type": "code",
   "execution_count": 63,
   "id": "2cf2276a-e997-4756-ae06-311f81080725",
   "metadata": {},
   "outputs": [],
   "source": [
    "grafo = generar_instancia(archivo_entrada='./instancias_entrada/lin318.tsp.txt' , archivo_salida='./instancias_salida/lin318.txt')"
   ]
  },
  {
   "cell_type": "code",
   "execution_count": 64,
   "id": "7088016c",
   "metadata": {},
   "outputs": [],
   "source": [
    "grafo = generar_instancia(archivo_entrada='./instancias_entrada/pr226.tsp.txt' , archivo_salida='./instancias_salida/pr226.txt')"
   ]
  },
  {
   "cell_type": "code",
   "execution_count": 65,
   "id": "a5ee4ee4-4734-4de4-8215-1bde43af0227",
   "metadata": {},
   "outputs": [],
   "source": [
    "grafo = generar_instancia(archivo_entrada='./instancias_entrada/rl1323.tsp.txt' , archivo_salida='./instancias_salida/rl1323.txt')"
   ]
  },
  {
   "cell_type": "code",
   "execution_count": 66,
   "id": "593dcdd8-1c55-4931-895f-444a5ff47ec8",
   "metadata": {},
   "outputs": [],
   "source": [
    "grafo = generar_instancia(archivo_entrada='./instancias_entrada/d657.tsp.txt' , archivo_salida='./instancias_salida/d657.txt')"
   ]
  },
  {
   "cell_type": "code",
   "execution_count": null,
   "id": "b81f9754-6a93-4dfa-af97-122871d7a546",
   "metadata": {},
   "outputs": [],
   "source": []
  },
  {
   "cell_type": "code",
   "execution_count": 106,
   "id": "e9a82e68-a81d-4828-85a5-702e45141eb2",
   "metadata": {},
   "outputs": [],
   "source": [
    "\n",
    "# A Python program for Prim's Minimum Spanning Tree (MST) algorithm.\n",
    "# The program is for adjacency matrix representation of the graph\n",
    "  \n",
    "import sys # Library for INT_MAX\n",
    "  \n",
    "class Graph():\n",
    "  \n",
    "    def __init__(self, vertices):\n",
    "        self.V = vertices\n",
    "        self.graph = [[0 for column in range(vertices)] \n",
    "                    for row in range(vertices)]\n",
    "  \n",
    "    # A utility function to print the constructed MST stored in parent[]\n",
    "    def printMST(self, parent):\n",
    "        print(\"Edge \\tWeight\")\n",
    "        for i in range(1, self.V):\n",
    "            print(parent[i], \"-\", i, \"\\t\", self.graph[i][ parent[i] ])\n",
    "  \n",
    "    # A utility function to find the vertex with \n",
    "    # minimum distance value, from the set of vertices \n",
    "    # not yet included in shortest path tree\n",
    "    def minKey(self, key, mstSet):\n",
    "  \n",
    "        # Initilaize min value\n",
    "        min = sys.maxsize\n",
    "  \n",
    "        for v in range(self.V):\n",
    "            if key[v] < min and mstSet[v] == False:\n",
    "                min = key[v]\n",
    "                min_index = v\n",
    "  \n",
    "        return min_index\n",
    "  \n",
    "    # Function to construct and print MST for a graph \n",
    "    # represented using adjacency matrix representation\n",
    "    def primMST(self):\n",
    "  \n",
    "        # Key values used to pick minimum weight edge in cut\n",
    "        key = [sys.maxsize] * self.V\n",
    "        parent = [None] * self.V # Array to store constructed MST\n",
    "        # Make key 0 so that this vertex is picked as first vertex\n",
    "        key[0] = 0 \n",
    "        mstSet = [False] * self.V\n",
    "  \n",
    "        parent[0] = -1 # First node is always the root of\n",
    "  \n",
    "        for cout in range(self.V):\n",
    "  \n",
    "            # Pick the minimum distance vertex from \n",
    "            # the set of vertices not yet processed. \n",
    "            # u is always equal to src in first iteration\n",
    "            u = self.minKey(key, mstSet)\n",
    "  \n",
    "            # Put the minimum distance vertex in \n",
    "            # the shortest path tree\n",
    "            mstSet[u] = True\n",
    "  \n",
    "            # Update dist value of the adjacent vertices \n",
    "            # of the picked vertex only if the current \n",
    "            # distance is greater than new distance and\n",
    "            # the vertex in not in the shotest path tree\n",
    "            for v in range(self.V):\n",
    "  \n",
    "                # graph[u][v] is non zero only for adjacent vertices of m\n",
    "                # mstSet[v] is false for vertices not yet included in MST\n",
    "                # Update the key only if graph[u][v] is smaller than key[v]\n",
    "                if self.graph[u][v] > 0 and mstSet[v] == False and key[v] > self.graph[u][v]:\n",
    "                        key[v] = self.graph[u][v]\n",
    "                        parent[v] = u\n",
    "  \n",
    "        self.printMST(parent)\n",
    "  \n",
    "# g = Graph(5)\n",
    "# g.graph = [ [0, 2, 0, 6, 0],\n",
    "#             [2, 0, 3, 8, 5],\n",
    "#             [0, 3, 0, 0, 7],\n",
    "#             [6, 8, 0, 0, 9],\n",
    "#             [0, 5, 7, 9, 0]]\n",
    "  \n",
    "# g.primMST();\n",
    "  \n",
    "# Contributed by Divyanshu Mehta"
   ]
  },
  {
   "cell_type": "code",
   "execution_count": 107,
   "id": "0f75d812-55ae-4311-8894-d7851f0abbea",
   "metadata": {},
   "outputs": [
    {
     "name": "stdout",
     "output_type": "stream",
     "text": [
      "Edge \tWeight\n",
      "0 - 1 \t 153\n",
      "13 - 2 \t 211\n",
      "11 - 3 \t 259\n",
      "5 - 4 \t 400\n",
      "11 - 5 \t 19\n",
      "12 - 6 \t 124\n",
      "0 - 7 \t 70\n",
      "10 - 8 \t 43\n",
      "8 - 9 \t 276\n",
      "7 - 10 \t 133\n",
      "6 - 11 \t 163\n",
      "7 - 12 \t 273\n",
      "11 - 13 \t 221\n"
     ]
    }
   ],
   "source": [
    "# https://campus.exactas.uba.ar/pluginfile.php/293726/mod_resource/content/1/lectura_instancia.ipynb\n",
    "# pip3 install tsplib95\n",
    "\n",
    "import tsplib95 as tl\n",
    "\n",
    "archivo_entrada = \"./instancias_entrada/burma14.tsp.txt\"\n",
    "prob = tl.load(archivo_entrada)\n",
    "        \n",
    "grafo = prob.get_graph()\n",
    "n = grafo.number_of_nodes()\n",
    "m = [ [ 0 for i in range(n) ] for j in range(n) ]\n",
    "    \n",
    "for u in range(n):\n",
    "    for v in range(n):\n",
    "        m[u][v] = grafo.get_edge_data(u+1,v+1)['weight']\n",
    "\n",
    "    \n",
    "\n",
    "g = Graph(n)\n",
    "g.graph = m\n",
    "g.primMST()"
   ]
  },
  {
   "cell_type": "code",
   "execution_count": null,
   "id": "12d9ad16-8d64-4a85-b86f-efa1f3023472",
   "metadata": {},
   "outputs": [],
   "source": []
  },
  {
   "cell_type": "code",
   "execution_count": null,
   "id": "e6a20443-efef-4448-bdaf-399111f4c98c",
   "metadata": {},
   "outputs": [],
   "source": []
  }
 ],
 "metadata": {
  "kernelspec": {
   "display_name": "Python 3",
   "language": "python",
   "name": "python3"
  },
  "language_info": {
   "codemirror_mode": {
    "name": "ipython",
    "version": 3
   },
   "file_extension": ".py",
   "mimetype": "text/x-python",
   "name": "python",
   "nbconvert_exporter": "python",
   "pygments_lexer": "ipython3",
   "version": "3.8.6"
  }
 },
 "nbformat": 4,
 "nbformat_minor": 5
}
