{
 "cells": [
  {
   "cell_type": "code",
   "execution_count": 11,
   "id": "33cdbe49-3a9a-4818-8e01-cb304adb3e82",
   "metadata": {},
   "outputs": [],
   "source": [
    "# https://campus.exactas.uba.ar/pluginfile.php/293726/mod_resource/content/1/lectura_instancia.ipynb\n",
    "\n",
    "import tsplib95 as tl\n",
    "\n",
    "def generar_instancia(archivo_entrada, archivo_salida):\n",
    "    prob = tl.load(archivo_entrada)\n",
    "    salida = open(archivo_salida,'w')\n",
    "        \n",
    "    grafo = prob.get_graph()\n",
    "        \n",
    "    print(grafo.number_of_nodes(),grafo.number_of_edges(), file=salida)\n",
    "    for u,v in grafo.edges:\n",
    "        if u<v:\n",
    "            print(u,v,grafo.get_edge_data(u,v)['weight'], file=salida)\n",
    "                    \n",
    "    return grafo\n"
   ]
  },
  {
   "cell_type": "code",
   "execution_count": 12,
   "id": "14c19d73-eb53-427b-b780-49b674c77b49",
   "metadata": {},
   "outputs": [],
   "source": [
    "grafo = generar_instancia(archivo_entrada='./berlin52.tsp.txt' , archivo_salida='./berlin52.txt')"
   ]
  },
  {
   "cell_type": "code",
   "execution_count": null,
   "id": "2cf2276a-e997-4756-ae06-311f81080725",
   "metadata": {},
   "outputs": [],
   "source": []
  }
 ],
 "metadata": {
  "kernelspec": {
   "display_name": "Python 3",
   "language": "python",
   "name": "python3"
  },
  "language_info": {
   "codemirror_mode": {
    "name": "ipython",
    "version": 3
   },
   "file_extension": ".py",
   "mimetype": "text/x-python",
   "name": "python",
   "nbconvert_exporter": "python",
   "pygments_lexer": "ipython3",
   "version": "3.8.6"
  }
 },
 "nbformat": 4,
 "nbformat_minor": 5
}
