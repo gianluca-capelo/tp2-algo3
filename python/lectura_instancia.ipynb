{
 "cells": [
  {
   "cell_type": "code",
   "execution_count": 3,
   "id": "33cdbe49-3a9a-4818-8e01-cb304adb3e82",
   "metadata": {},
   "outputs": [],
   "source": [
    "import tsplib95 as tl\n",
    "\n",
    "def generar_instancia(archivo_entrada, archivo_salida):\n",
    "    prob = tl.load(archivo_entrada)\n",
    "    salida = open(archivo_salida,'w')\n",
    "\n",
    "    grafo = prob.get_graph()\n",
    "    \n",
    "    print(grafo.number_of_nodes(),grafo.number_of_edges() - grafo.number_of_nodes() , file=salida)\n",
    "    for u,v in grafo.edges:\n",
    "        if u<v:\n",
    "            print(u,v,grafo.get_edge_data(u,v)['weight'], file=salida)\n",
    "                    \n",
    "    return grafo"
   ]
  },
  {
   "cell_type": "code",
   "execution_count": 17,
   "id": "21cecfdc",
   "metadata": {},
   "outputs": [
    {
     "name": "stdout",
     "output_type": "stream",
     "text": [
      "['d493.tsp.txt', 'pr299.tsp.txt', 'rl1304.tsp.txt', 'ch150.tsp.txt', 'pr226.tsp.txt', 'berlin52.tsp.txt', 'a280.tsp.txt', 'pr152.tsp.txt', 'd1291.tsp.txt', 'rd100.tsp.txt', 'st70.tsp.txt', 'd657.tsp.txt', 'burma14.tsp.txt', 'lin318.tsp.txt', 'rl1323.tsp.txt']\n"
     ]
    }
   ],
   "source": [
    "from os import listdir\n",
    "from os.path import isfile, join\n",
    "\n",
    "def ls(ruta = './instancias_entrada'):\n",
    "    return [arch for arch in listdir(ruta) if isfile(join(ruta, arch))]\n",
    "archivos_entrada = ls()\n",
    "\n",
    "print(archivos_entrada)"
   ]
  },
  {
   "cell_type": "code",
   "execution_count": 18,
   "id": "e8eeb08c",
   "metadata": {},
   "outputs": [
    {
     "name": "stdout",
     "output_type": "stream",
     "text": [
      "['d493.txt', 'pr299.txt', 'rl1304.txt', 'ch150.txt', 'pr226.txt', 'berlin52.txt', 'a280.txt', 'pr152.txt', 'd1291.txt', 'rd100.txt', 'st70.txt', 'd657.txt', 'burma14.txt', 'lin318.txt', 'rl1323.txt']\n"
     ]
    }
   ],
   "source": [
    "archivos_salida = []\n",
    "for a in archivos_entrada:\n",
    "    arch = a.split(\".tsp\")[0] + a.split(\".tsp\")[1]\n",
    "    archivos_salida.append(arch)\n",
    "print(archivos_salida)"
   ]
  },
  {
   "cell_type": "code",
   "execution_count": 19,
   "id": "a49c6b01",
   "metadata": {},
   "outputs": [
    {
     "ename": "ParsingError",
     "evalue": "IndexedCoordinatesField(NODE_COORD_SECTION): item.152=>ParsingError('expected key-value pair')",
     "output_type": "error",
     "traceback": [
      "\u001b[0;31m---------------------------------------------------------------------------\u001b[0m",
      "\u001b[0;31mParsingError\u001b[0m                              Traceback (most recent call last)",
      "\u001b[0;32m~/Documents/Algoritmos3/Venv/lib/python3.8/site-packages/tsplib95/fields.py\u001b[0m in \u001b[0;36mparse\u001b[0;34m(self, text)\u001b[0m\n\u001b[1;32m    128\u001b[0m         \u001b[0;32mtry\u001b[0m\u001b[0;34m:\u001b[0m\u001b[0;34m\u001b[0m\u001b[0;34m\u001b[0m\u001b[0m\n\u001b[0;32m--> 129\u001b[0;31m             \u001b[0;32mreturn\u001b[0m \u001b[0mself\u001b[0m\u001b[0;34m.\u001b[0m\u001b[0mtf\u001b[0m\u001b[0;34m.\u001b[0m\u001b[0mparse\u001b[0m\u001b[0;34m(\u001b[0m\u001b[0mtext\u001b[0m\u001b[0;34m)\u001b[0m\u001b[0;34m\u001b[0m\u001b[0;34m\u001b[0m\u001b[0m\n\u001b[0m\u001b[1;32m    130\u001b[0m         \u001b[0;32mexcept\u001b[0m \u001b[0mexceptions\u001b[0m\u001b[0;34m.\u001b[0m\u001b[0mParsingError\u001b[0m \u001b[0;32mas\u001b[0m \u001b[0me\u001b[0m\u001b[0;34m:\u001b[0m\u001b[0;34m\u001b[0m\u001b[0;34m\u001b[0m\u001b[0m\n",
      "\u001b[0;32m~/Documents/Algoritmos3/Venv/lib/python3.8/site-packages/tsplib95/transformers.py\u001b[0m in \u001b[0;36mparse\u001b[0;34m(self, text)\u001b[0m\n\u001b[1;32m    158\u001b[0m             \u001b[0merror\u001b[0m \u001b[0;34m=\u001b[0m \u001b[0mutils\u001b[0m\u001b[0;34m.\u001b[0m\u001b[0mfriendly_join\u001b[0m\u001b[0;34m(\u001b[0m\u001b[0merrors\u001b[0m\u001b[0;34m,\u001b[0m \u001b[0mlimit\u001b[0m\u001b[0;34m=\u001b[0m\u001b[0;36m3\u001b[0m\u001b[0;34m)\u001b[0m\u001b[0;34m\u001b[0m\u001b[0;34m\u001b[0m\u001b[0m\n\u001b[0;32m--> 159\u001b[0;31m             \u001b[0;32mraise\u001b[0m \u001b[0mexceptions\u001b[0m\u001b[0;34m.\u001b[0m\u001b[0mParsingError\u001b[0m\u001b[0;34m(\u001b[0m\u001b[0merror\u001b[0m\u001b[0;34m)\u001b[0m\u001b[0;34m\u001b[0m\u001b[0;34m\u001b[0m\u001b[0m\n\u001b[0m\u001b[1;32m    160\u001b[0m \u001b[0;34m\u001b[0m\u001b[0m\n",
      "\u001b[0;31mParsingError\u001b[0m: item.152=>ParsingError('expected key-value pair')",
      "\nDuring handling of the above exception, another exception occurred:\n",
      "\u001b[0;31mParsingError\u001b[0m                              Traceback (most recent call last)",
      "\u001b[0;32m<ipython-input-19-b35a9146235e>\u001b[0m in \u001b[0;36m<module>\u001b[0;34m\u001b[0m\n\u001b[1;32m      2\u001b[0m     \u001b[0main\u001b[0m \u001b[0;34m=\u001b[0m \u001b[0marchivos_entrada\u001b[0m\u001b[0;34m[\u001b[0m\u001b[0mi\u001b[0m\u001b[0;34m]\u001b[0m\u001b[0;34m\u001b[0m\u001b[0;34m\u001b[0m\u001b[0m\n\u001b[1;32m      3\u001b[0m     \u001b[0maout\u001b[0m \u001b[0;34m=\u001b[0m \u001b[0marchivos_salida\u001b[0m\u001b[0;34m[\u001b[0m\u001b[0mi\u001b[0m\u001b[0;34m]\u001b[0m\u001b[0;34m\u001b[0m\u001b[0;34m\u001b[0m\u001b[0m\n\u001b[0;32m----> 4\u001b[0;31m     \u001b[0mgenerar_instancia\u001b[0m\u001b[0;34m(\u001b[0m\u001b[0marchivo_entrada\u001b[0m\u001b[0;34m=\u001b[0m\u001b[0;34mf'./instancias_entrada/{ain}'\u001b[0m \u001b[0;34m,\u001b[0m \u001b[0marchivo_salida\u001b[0m\u001b[0;34m=\u001b[0m\u001b[0;34mf'./instancias_salida/{aout}'\u001b[0m\u001b[0;34m)\u001b[0m\u001b[0;34m\u001b[0m\u001b[0;34m\u001b[0m\u001b[0m\n\u001b[0m",
      "\u001b[0;32m<ipython-input-3-e1b5523c9c1d>\u001b[0m in \u001b[0;36mgenerar_instancia\u001b[0;34m(archivo_entrada, archivo_salida)\u001b[0m\n\u001b[1;32m      5\u001b[0m \u001b[0;34m\u001b[0m\u001b[0m\n\u001b[1;32m      6\u001b[0m \u001b[0;32mdef\u001b[0m \u001b[0mgenerar_instancia\u001b[0m\u001b[0;34m(\u001b[0m\u001b[0marchivo_entrada\u001b[0m\u001b[0;34m,\u001b[0m \u001b[0marchivo_salida\u001b[0m\u001b[0;34m)\u001b[0m\u001b[0;34m:\u001b[0m\u001b[0;34m\u001b[0m\u001b[0;34m\u001b[0m\u001b[0m\n\u001b[0;32m----> 7\u001b[0;31m     \u001b[0mprob\u001b[0m \u001b[0;34m=\u001b[0m \u001b[0mtl\u001b[0m\u001b[0;34m.\u001b[0m\u001b[0mload\u001b[0m\u001b[0;34m(\u001b[0m\u001b[0marchivo_entrada\u001b[0m\u001b[0;34m)\u001b[0m\u001b[0;34m\u001b[0m\u001b[0;34m\u001b[0m\u001b[0m\n\u001b[0m\u001b[1;32m      8\u001b[0m     \u001b[0msalida\u001b[0m \u001b[0;34m=\u001b[0m \u001b[0mopen\u001b[0m\u001b[0;34m(\u001b[0m\u001b[0marchivo_salida\u001b[0m\u001b[0;34m,\u001b[0m\u001b[0;34m'w'\u001b[0m\u001b[0;34m)\u001b[0m\u001b[0;34m\u001b[0m\u001b[0;34m\u001b[0m\u001b[0m\n\u001b[1;32m      9\u001b[0m \u001b[0;34m\u001b[0m\u001b[0m\n",
      "\u001b[0;32m~/Documents/Algoritmos3/Venv/lib/python3.8/site-packages/tsplib95/loaders.py\u001b[0m in \u001b[0;36mload\u001b[0;34m(filepath, problem_class, special)\u001b[0m\n\u001b[1;32m     15\u001b[0m     \"\"\"\n\u001b[1;32m     16\u001b[0m     \u001b[0;32mwith\u001b[0m \u001b[0mopen\u001b[0m\u001b[0;34m(\u001b[0m\u001b[0mfilepath\u001b[0m\u001b[0;34m)\u001b[0m \u001b[0;32mas\u001b[0m \u001b[0mf\u001b[0m\u001b[0;34m:\u001b[0m\u001b[0;34m\u001b[0m\u001b[0;34m\u001b[0m\u001b[0m\n\u001b[0;32m---> 17\u001b[0;31m         \u001b[0;32mreturn\u001b[0m \u001b[0mread\u001b[0m\u001b[0;34m(\u001b[0m\u001b[0mf\u001b[0m\u001b[0;34m,\u001b[0m \u001b[0mspecial\u001b[0m\u001b[0;34m=\u001b[0m\u001b[0mspecial\u001b[0m\u001b[0;34m,\u001b[0m \u001b[0mproblem_class\u001b[0m\u001b[0;34m=\u001b[0m\u001b[0mproblem_class\u001b[0m\u001b[0;34m)\u001b[0m\u001b[0;34m\u001b[0m\u001b[0;34m\u001b[0m\u001b[0m\n\u001b[0m\u001b[1;32m     18\u001b[0m \u001b[0;34m\u001b[0m\u001b[0m\n\u001b[1;32m     19\u001b[0m \u001b[0;34m\u001b[0m\u001b[0m\n",
      "\u001b[0;32m~/Documents/Algoritmos3/Venv/lib/python3.8/site-packages/tsplib95/loaders.py\u001b[0m in \u001b[0;36mread\u001b[0;34m(f, problem_class, special)\u001b[0m\n\u001b[1;32m     27\u001b[0m     \u001b[0;34m:\u001b[0m\u001b[0mrtype\u001b[0m\u001b[0;34m:\u001b[0m \u001b[0;34m:\u001b[0m\u001b[0;32mclass\u001b[0m\u001b[0;34m:\u001b[0m\u001b[0;31m`\u001b[0m\u001b[0;34m~\u001b[0m\u001b[0mProblem\u001b[0m\u001b[0;31m`\u001b[0m\u001b[0;34m\u001b[0m\u001b[0;34m\u001b[0m\u001b[0m\n\u001b[1;32m     28\u001b[0m     \"\"\"\n\u001b[0;32m---> 29\u001b[0;31m     \u001b[0;32mreturn\u001b[0m \u001b[0mparse\u001b[0m\u001b[0;34m(\u001b[0m\u001b[0mf\u001b[0m\u001b[0;34m.\u001b[0m\u001b[0mread\u001b[0m\u001b[0;34m(\u001b[0m\u001b[0;34m)\u001b[0m\u001b[0;34m,\u001b[0m \u001b[0mspecial\u001b[0m\u001b[0;34m=\u001b[0m\u001b[0mspecial\u001b[0m\u001b[0;34m,\u001b[0m \u001b[0mproblem_class\u001b[0m\u001b[0;34m=\u001b[0m\u001b[0mproblem_class\u001b[0m\u001b[0;34m)\u001b[0m\u001b[0;34m\u001b[0m\u001b[0;34m\u001b[0m\u001b[0m\n\u001b[0m\u001b[1;32m     30\u001b[0m \u001b[0;34m\u001b[0m\u001b[0m\n\u001b[1;32m     31\u001b[0m \u001b[0;34m\u001b[0m\u001b[0m\n",
      "\u001b[0;32m~/Documents/Algoritmos3/Venv/lib/python3.8/site-packages/tsplib95/loaders.py\u001b[0m in \u001b[0;36mparse\u001b[0;34m(text, problem_class, special)\u001b[0m\n\u001b[1;32m     40\u001b[0m     \"\"\"\n\u001b[1;32m     41\u001b[0m     \u001b[0mProblem\u001b[0m \u001b[0;34m=\u001b[0m \u001b[0mproblem_class\u001b[0m \u001b[0;32mor\u001b[0m \u001b[0mmodels\u001b[0m\u001b[0;34m.\u001b[0m\u001b[0mStandardProblem\u001b[0m\u001b[0;34m\u001b[0m\u001b[0;34m\u001b[0m\u001b[0m\n\u001b[0;32m---> 42\u001b[0;31m     \u001b[0;32mreturn\u001b[0m \u001b[0mProblem\u001b[0m\u001b[0;34m.\u001b[0m\u001b[0mparse\u001b[0m\u001b[0;34m(\u001b[0m\u001b[0mtext\u001b[0m\u001b[0;34m,\u001b[0m \u001b[0mspecial\u001b[0m\u001b[0;34m=\u001b[0m\u001b[0mspecial\u001b[0m\u001b[0;34m)\u001b[0m\u001b[0;34m\u001b[0m\u001b[0;34m\u001b[0m\u001b[0m\n\u001b[0m\u001b[1;32m     43\u001b[0m \u001b[0;34m\u001b[0m\u001b[0m\n\u001b[1;32m     44\u001b[0m \u001b[0;34m\u001b[0m\u001b[0m\n",
      "\u001b[0;32m~/Documents/Algoritmos3/Venv/lib/python3.8/site-packages/tsplib95/models.py\u001b[0m in \u001b[0;36mparse\u001b[0;34m(cls, text, **options)\u001b[0m\n\u001b[1;32m    116\u001b[0m                 \u001b[0mfield\u001b[0m \u001b[0;34m=\u001b[0m \u001b[0mcls\u001b[0m\u001b[0;34m.\u001b[0m\u001b[0mfields_by_keyword\u001b[0m\u001b[0;34m[\u001b[0m\u001b[0mkeyword\u001b[0m\u001b[0;34m]\u001b[0m\u001b[0;34m\u001b[0m\u001b[0;34m\u001b[0m\u001b[0m\n\u001b[1;32m    117\u001b[0m                 \u001b[0mname\u001b[0m \u001b[0;34m=\u001b[0m \u001b[0mcls\u001b[0m\u001b[0;34m.\u001b[0m\u001b[0mnames_by_keyword\u001b[0m\u001b[0;34m[\u001b[0m\u001b[0mkeyword\u001b[0m\u001b[0;34m]\u001b[0m\u001b[0;34m\u001b[0m\u001b[0;34m\u001b[0m\u001b[0m\n\u001b[0;32m--> 118\u001b[0;31m                 \u001b[0mdata\u001b[0m\u001b[0;34m[\u001b[0m\u001b[0mname\u001b[0m\u001b[0;34m]\u001b[0m \u001b[0;34m=\u001b[0m \u001b[0mfield\u001b[0m\u001b[0;34m.\u001b[0m\u001b[0mparse\u001b[0m\u001b[0;34m(\u001b[0m\u001b[0mvalue\u001b[0m\u001b[0;34m.\u001b[0m\u001b[0mstrip\u001b[0m\u001b[0;34m(\u001b[0m\u001b[0;34m)\u001b[0m\u001b[0;34m)\u001b[0m\u001b[0;34m\u001b[0m\u001b[0;34m\u001b[0m\u001b[0m\n\u001b[0m\u001b[1;32m    119\u001b[0m \u001b[0;34m\u001b[0m\u001b[0m\n\u001b[1;32m    120\u001b[0m         \u001b[0;31m# return as a model, letting options and field data potentially collide\u001b[0m\u001b[0;34m\u001b[0m\u001b[0;34m\u001b[0m\u001b[0;34m\u001b[0m\u001b[0m\n",
      "\u001b[0;32m~/Documents/Algoritmos3/Venv/lib/python3.8/site-packages/tsplib95/fields.py\u001b[0m in \u001b[0;36mparse\u001b[0;34m(self, text)\u001b[0m\n\u001b[1;32m    130\u001b[0m         \u001b[0;32mexcept\u001b[0m \u001b[0mexceptions\u001b[0m\u001b[0;34m.\u001b[0m\u001b[0mParsingError\u001b[0m \u001b[0;32mas\u001b[0m \u001b[0me\u001b[0m\u001b[0;34m:\u001b[0m\u001b[0;34m\u001b[0m\u001b[0;34m\u001b[0m\u001b[0m\n\u001b[1;32m    131\u001b[0m             \u001b[0mcontext\u001b[0m \u001b[0;34m=\u001b[0m \u001b[0;34mf'{self.__class__.__qualname__}({self.keyword})'\u001b[0m\u001b[0;34m\u001b[0m\u001b[0;34m\u001b[0m\u001b[0m\n\u001b[0;32m--> 132\u001b[0;31m             \u001b[0;32mraise\u001b[0m \u001b[0mexceptions\u001b[0m\u001b[0;34m.\u001b[0m\u001b[0mParsingError\u001b[0m\u001b[0;34m.\u001b[0m\u001b[0mwrap\u001b[0m\u001b[0;34m(\u001b[0m\u001b[0me\u001b[0m\u001b[0;34m,\u001b[0m \u001b[0mcontext\u001b[0m\u001b[0;34m)\u001b[0m\u001b[0;34m\u001b[0m\u001b[0;34m\u001b[0m\u001b[0m\n\u001b[0m\u001b[1;32m    133\u001b[0m \u001b[0;34m\u001b[0m\u001b[0m\n\u001b[1;32m    134\u001b[0m     \u001b[0;32mdef\u001b[0m \u001b[0mrender\u001b[0m\u001b[0;34m(\u001b[0m\u001b[0mself\u001b[0m\u001b[0;34m,\u001b[0m \u001b[0mvalue\u001b[0m\u001b[0;34m)\u001b[0m\u001b[0;34m:\u001b[0m\u001b[0;34m\u001b[0m\u001b[0;34m\u001b[0m\u001b[0m\n",
      "\u001b[0;31mParsingError\u001b[0m: IndexedCoordinatesField(NODE_COORD_SECTION): item.152=>ParsingError('expected key-value pair')"
     ]
    }
   ],
   "source": [
    "for i in range(len(archivos_entrada)):\n",
    "    ain = archivos_entrada[i]\n",
    "    aout = archivos_salida[i]\n",
    "    generar_instancia(archivo_entrada=f'./instancias_entrada/{ain}' , archivo_salida=f'./instancias_salida/{aout}')"
   ]
  },
  {
   "cell_type": "code",
   "execution_count": 20,
   "id": "14c19d73-eb53-427b-b780-49b674c77b49",
   "metadata": {},
   "outputs": [],
   "source": [
    "grafo = generar_instancia(archivo_entrada='./instancias_entrada/berlin52.tsp.txt' , archivo_salida='./instancias_salida/berlin52.txt')"
   ]
  },
  {
   "cell_type": "code",
   "execution_count": 62,
   "id": "41f5acc0-18e1-405d-a2aa-5cbe953cdfb3",
   "metadata": {},
   "outputs": [],
   "source": [
    "grafo = generar_instancia(archivo_entrada='./instancias_entrada/burma14.tsp.txt' , archivo_salida='./instancias_salida/burma14.txt')"
   ]
  },
  {
   "cell_type": "code",
   "execution_count": 63,
   "id": "2cf2276a-e997-4756-ae06-311f81080725",
   "metadata": {},
   "outputs": [],
   "source": [
    "grafo = generar_instancia(archivo_entrada='./instancias_entrada/lin318.tsp.txt' , archivo_salida='./instancias_salida/lin318.txt')"
   ]
  },
  {
   "cell_type": "code",
   "execution_count": 64,
   "id": "7088016c",
   "metadata": {},
   "outputs": [],
   "source": [
    "grafo = generar_instancia(archivo_entrada='./instancias_entrada/pr226.tsp.txt' , archivo_salida='./instancias_salida/pr226.txt')"
   ]
  },
  {
   "cell_type": "code",
   "execution_count": 65,
   "id": "a5ee4ee4-4734-4de4-8215-1bde43af0227",
   "metadata": {},
   "outputs": [],
   "source": [
    "grafo = generar_instancia(archivo_entrada='./instancias_entrada/rl1323.tsp.txt' , archivo_salida='./instancias_salida/rl1323.txt')"
   ]
  },
  {
   "cell_type": "code",
   "execution_count": 66,
   "id": "593dcdd8-1c55-4931-895f-444a5ff47ec8",
   "metadata": {},
   "outputs": [],
   "source": [
    "grafo = generar_instancia(archivo_entrada='./instancias_entrada/d657.tsp.txt' , archivo_salida='./instancias_salida/d657.txt')"
   ]
  },
  {
   "cell_type": "code",
   "execution_count": 22,
   "id": "9e9f6576",
   "metadata": {},
   "outputs": [],
   "source": [
    "grafo = generar_instancia(archivo_entrada='./instancias_entrada/pr152.tsp.txt' , archivo_salida='./instancias_salida/pr152.txt')"
   ]
  }
 ],
 "metadata": {
  "kernelspec": {
   "display_name": "Python 3",
   "language": "python",
   "name": "python3"
  },
  "language_info": {
   "codemirror_mode": {
    "name": "ipython",
    "version": 3
   },
   "file_extension": ".py",
   "mimetype": "text/x-python",
   "name": "python",
   "nbconvert_exporter": "python",
   "pygments_lexer": "ipython3",
   "version": "3.8.5"
  }
 },
 "nbformat": 4,
 "nbformat_minor": 5
}
